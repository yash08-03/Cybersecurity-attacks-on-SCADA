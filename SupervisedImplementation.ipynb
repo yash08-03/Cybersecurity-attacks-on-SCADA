{
  "cells": [
    {
      "cell_type": "code",
      "execution_count": null,
      "metadata": {
        "id": "GT5u8s4uVN52"
      },
      "outputs": [],
      "source": [
        "import pandas as pd \n",
        "import numpy as np"
      ]
    },
    {
      "cell_type": "code",
      "execution_count": null,
      "metadata": {
        "colab": {
          "base_uri": "https://localhost:8080/"
        },
        "id": "RBNjDNRIVWpi",
        "outputId": "4acb8ff5-1294-489d-9305-343f420e4d01"
      },
      "outputs": [
        {
          "name": "stdout",
          "output_type": "stream",
          "text": [
            "Drive already mounted at /content/drive; to attempt to forcibly remount, call drive.mount(\"/content/drive\", force_remount=True).\n"
          ]
        }
      ],
      "source": [
        "from google.colab import drive\n",
        "drive.mount('/content/drive')"
      ]
    },
    {
      "cell_type": "code",
      "execution_count": null,
      "metadata": {
        "id": "QPDDIKoCVk0p"
      },
      "outputs": [],
      "source": [
        "df = pd.read_csv(\"/content/drive/MyDrive/Dataset/cleaned_ids2018_sampled.csv\")"
      ]
    },
    {
      "cell_type": "code",
      "execution_count": null,
      "metadata": {
        "colab": {
          "base_uri": "https://localhost:8080/"
        },
        "id": "cIkcp87AtmSF",
        "outputId": "50ed5559-51ef-423e-8795-41528248794c"
      },
      "outputs": [
        {
          "name": "stdout",
          "output_type": "stream",
          "text": [
            "<class 'pandas.core.frame.DataFrame'>\n",
            "RangeIndex: 1252846 entries, 0 to 1252845\n",
            "Data columns (total 79 columns):\n",
            " #   Column             Non-Null Count    Dtype  \n",
            "---  ------             --------------    -----  \n",
            " 0   Unnamed: 0         1252846 non-null  int64  \n",
            " 1   Dst Port           1252846 non-null  int64  \n",
            " 2   Protocol           1252846 non-null  int64  \n",
            " 3   Flow Duration      1252846 non-null  int64  \n",
            " 4   Tot Fwd Pkts       1252846 non-null  int64  \n",
            " 5   Tot Bwd Pkts       1252846 non-null  int64  \n",
            " 6   TotLen Fwd Pkts    1252846 non-null  int64  \n",
            " 7   TotLen Bwd Pkts    1252846 non-null  int64  \n",
            " 8   Fwd Pkt Len Max    1252846 non-null  int64  \n",
            " 9   Fwd Pkt Len Min    1252846 non-null  int64  \n",
            " 10  Fwd Pkt Len Mean   1252846 non-null  float64\n",
            " 11  Fwd Pkt Len Std    1252846 non-null  float64\n",
            " 12  Bwd Pkt Len Max    1252846 non-null  int64  \n",
            " 13  Bwd Pkt Len Min    1252846 non-null  int64  \n",
            " 14  Bwd Pkt Len Mean   1252846 non-null  float64\n",
            " 15  Bwd Pkt Len Std    1252846 non-null  float64\n",
            " 16  Flow Byts/s        1252846 non-null  float64\n",
            " 17  Flow Pkts/s        1252846 non-null  float64\n",
            " 18  Flow IAT Mean      1252846 non-null  float64\n",
            " 19  Flow IAT Std       1252846 non-null  float64\n",
            " 20  Flow IAT Max       1252846 non-null  int64  \n",
            " 21  Flow IAT Min       1252846 non-null  int64  \n",
            " 22  Fwd IAT Tot        1252846 non-null  int64  \n",
            " 23  Fwd IAT Mean       1252846 non-null  float64\n",
            " 24  Fwd IAT Std        1252846 non-null  float64\n",
            " 25  Fwd IAT Max        1252846 non-null  int64  \n",
            " 26  Fwd IAT Min        1252846 non-null  int64  \n",
            " 27  Bwd IAT Tot        1252846 non-null  int64  \n",
            " 28  Bwd IAT Mean       1252846 non-null  float64\n",
            " 29  Bwd IAT Std        1252846 non-null  float64\n",
            " 30  Bwd IAT Max        1252846 non-null  int64  \n",
            " 31  Bwd IAT Min        1252846 non-null  int64  \n",
            " 32  Fwd PSH Flags      1252846 non-null  int64  \n",
            " 33  Bwd PSH Flags      1252846 non-null  int64  \n",
            " 34  Fwd URG Flags      1252846 non-null  int64  \n",
            " 35  Bwd URG Flags      1252846 non-null  int64  \n",
            " 36  Fwd Header Len     1252846 non-null  int64  \n",
            " 37  Bwd Header Len     1252846 non-null  int64  \n",
            " 38  Fwd Pkts/s         1252846 non-null  float64\n",
            " 39  Bwd Pkts/s         1252846 non-null  float64\n",
            " 40  Pkt Len Min        1252846 non-null  int64  \n",
            " 41  Pkt Len Max        1252846 non-null  int64  \n",
            " 42  Pkt Len Mean       1252846 non-null  float64\n",
            " 43  Pkt Len Std        1252846 non-null  float64\n",
            " 44  Pkt Len Var        1252846 non-null  float64\n",
            " 45  FIN Flag Cnt       1252846 non-null  int64  \n",
            " 46  SYN Flag Cnt       1252846 non-null  int64  \n",
            " 47  RST Flag Cnt       1252846 non-null  int64  \n",
            " 48  PSH Flag Cnt       1252846 non-null  int64  \n",
            " 49  ACK Flag Cnt       1252846 non-null  int64  \n",
            " 50  URG Flag Cnt       1252846 non-null  int64  \n",
            " 51  CWE Flag Count     1252846 non-null  int64  \n",
            " 52  ECE Flag Cnt       1252846 non-null  int64  \n",
            " 53  Pkt Size Avg       1252846 non-null  float64\n",
            " 54  Fwd Seg Size Avg   1252846 non-null  float64\n",
            " 55  Bwd Seg Size Avg   1252846 non-null  float64\n",
            " 56  Fwd Byts/b Avg     1252846 non-null  int64  \n",
            " 57  Fwd Pkts/b Avg     1252846 non-null  int64  \n",
            " 58  Fwd Blk Rate Avg   1252846 non-null  int64  \n",
            " 59  Bwd Byts/b Avg     1252846 non-null  int64  \n",
            " 60  Bwd Pkts/b Avg     1252846 non-null  int64  \n",
            " 61  Bwd Blk Rate Avg   1252846 non-null  int64  \n",
            " 62  Subflow Fwd Pkts   1252846 non-null  int64  \n",
            " 63  Subflow Fwd Byts   1252846 non-null  int64  \n",
            " 64  Subflow Bwd Pkts   1252846 non-null  int64  \n",
            " 65  Subflow Bwd Byts   1252846 non-null  int64  \n",
            " 66  Init Fwd Win Byts  1252846 non-null  int64  \n",
            " 67  Init Bwd Win Byts  1252846 non-null  int64  \n",
            " 68  Fwd Act Data Pkts  1252846 non-null  int64  \n",
            " 69  Fwd Seg Size Min   1252846 non-null  int64  \n",
            " 70  Active Mean        1252846 non-null  float64\n",
            " 71  Active Std         1252846 non-null  float64\n",
            " 72  Active Max         1252846 non-null  int64  \n",
            " 73  Active Min         1252846 non-null  int64  \n",
            " 74  Idle Mean          1252846 non-null  float64\n",
            " 75  Idle Std           1252846 non-null  float64\n",
            " 76  Idle Max           1252846 non-null  int64  \n",
            " 77  Idle Min           1252846 non-null  int64  \n",
            " 78  Label              1252846 non-null  int64  \n",
            "dtypes: float64(24), int64(55)\n",
            "memory usage: 755.1 MB\n"
          ]
        }
      ],
      "source": [
        "df.info()"
      ]
    },
    {
      "cell_type": "code",
      "execution_count": null,
      "metadata": {
        "id": "U-uQSwWHjEHb"
      },
      "outputs": [],
      "source": [
        "df1=df.loc[df['Label'] == 1]\n",
        "df1=df1.head(250000)\n",
        "df4=df.loc[df['Label'] == 4]\n",
        "df4=df4.head(250000)\n",
        "df5=df.loc[df['Label'] == 5]\n",
        "df5=df5.head(100000)\n",
        "df2=df.loc[df['Label'] == 2]\n",
        "df3=df.loc[df['Label'] == 3]\n",
        "df6=df.loc[df['Label'] == 6]\n",
        "df7=df.loc[df['Label'] == 7]\n",
        "df8=df.loc[df['Label'] == 8]\n",
        "df9=df.loc[df['Label'] == 9]\n",
        "df10=df.loc[df['Label'] == 10]\n",
        "df11=df.loc[df['Label'] == 11]"
      ]
    },
    {
      "cell_type": "code",
      "execution_count": null,
      "metadata": {
        "colab": {
          "base_uri": "https://localhost:8080/"
        },
        "id": "m_0c1gmskjt5",
        "outputId": "59161381-973a-4321-a6cd-013ee0055658"
      },
      "outputs": [
        {
          "name": "stdout",
          "output_type": "stream",
          "text": [
            "<class 'pandas.core.frame.DataFrame'>\n",
            "Int64Index: 531329 entries, 0 to 1252199\n",
            "Data columns (total 79 columns):\n",
            " #   Column             Non-Null Count   Dtype  \n",
            "---  ------             --------------   -----  \n",
            " 0   Unnamed: 0         531329 non-null  int64  \n",
            " 1   Dst Port           531329 non-null  int64  \n",
            " 2   Protocol           531329 non-null  int64  \n",
            " 3   Flow Duration      531329 non-null  int64  \n",
            " 4   Tot Fwd Pkts       531329 non-null  int64  \n",
            " 5   Tot Bwd Pkts       531329 non-null  int64  \n",
            " 6   TotLen Fwd Pkts    531329 non-null  int64  \n",
            " 7   TotLen Bwd Pkts    531329 non-null  int64  \n",
            " 8   Fwd Pkt Len Max    531329 non-null  int64  \n",
            " 9   Fwd Pkt Len Min    531329 non-null  int64  \n",
            " 10  Fwd Pkt Len Mean   531329 non-null  float64\n",
            " 11  Fwd Pkt Len Std    531329 non-null  float64\n",
            " 12  Bwd Pkt Len Max    531329 non-null  int64  \n",
            " 13  Bwd Pkt Len Min    531329 non-null  int64  \n",
            " 14  Bwd Pkt Len Mean   531329 non-null  float64\n",
            " 15  Bwd Pkt Len Std    531329 non-null  float64\n",
            " 16  Flow Byts/s        531329 non-null  float64\n",
            " 17  Flow Pkts/s        531329 non-null  float64\n",
            " 18  Flow IAT Mean      531329 non-null  float64\n",
            " 19  Flow IAT Std       531329 non-null  float64\n",
            " 20  Flow IAT Max       531329 non-null  int64  \n",
            " 21  Flow IAT Min       531329 non-null  int64  \n",
            " 22  Fwd IAT Tot        531329 non-null  int64  \n",
            " 23  Fwd IAT Mean       531329 non-null  float64\n",
            " 24  Fwd IAT Std        531329 non-null  float64\n",
            " 25  Fwd IAT Max        531329 non-null  int64  \n",
            " 26  Fwd IAT Min        531329 non-null  int64  \n",
            " 27  Bwd IAT Tot        531329 non-null  int64  \n",
            " 28  Bwd IAT Mean       531329 non-null  float64\n",
            " 29  Bwd IAT Std        531329 non-null  float64\n",
            " 30  Bwd IAT Max        531329 non-null  int64  \n",
            " 31  Bwd IAT Min        531329 non-null  int64  \n",
            " 32  Fwd PSH Flags      531329 non-null  int64  \n",
            " 33  Bwd PSH Flags      531329 non-null  int64  \n",
            " 34  Fwd URG Flags      531329 non-null  int64  \n",
            " 35  Bwd URG Flags      531329 non-null  int64  \n",
            " 36  Fwd Header Len     531329 non-null  int64  \n",
            " 37  Bwd Header Len     531329 non-null  int64  \n",
            " 38  Fwd Pkts/s         531329 non-null  float64\n",
            " 39  Bwd Pkts/s         531329 non-null  float64\n",
            " 40  Pkt Len Min        531329 non-null  int64  \n",
            " 41  Pkt Len Max        531329 non-null  int64  \n",
            " 42  Pkt Len Mean       531329 non-null  float64\n",
            " 43  Pkt Len Std        531329 non-null  float64\n",
            " 44  Pkt Len Var        531329 non-null  float64\n",
            " 45  FIN Flag Cnt       531329 non-null  int64  \n",
            " 46  SYN Flag Cnt       531329 non-null  int64  \n",
            " 47  RST Flag Cnt       531329 non-null  int64  \n",
            " 48  PSH Flag Cnt       531329 non-null  int64  \n",
            " 49  ACK Flag Cnt       531329 non-null  int64  \n",
            " 50  URG Flag Cnt       531329 non-null  int64  \n",
            " 51  CWE Flag Count     531329 non-null  int64  \n",
            " 52  ECE Flag Cnt       531329 non-null  int64  \n",
            " 53  Pkt Size Avg       531329 non-null  float64\n",
            " 54  Fwd Seg Size Avg   531329 non-null  float64\n",
            " 55  Bwd Seg Size Avg   531329 non-null  float64\n",
            " 56  Fwd Byts/b Avg     531329 non-null  int64  \n",
            " 57  Fwd Pkts/b Avg     531329 non-null  int64  \n",
            " 58  Fwd Blk Rate Avg   531329 non-null  int64  \n",
            " 59  Bwd Byts/b Avg     531329 non-null  int64  \n",
            " 60  Bwd Pkts/b Avg     531329 non-null  int64  \n",
            " 61  Bwd Blk Rate Avg   531329 non-null  int64  \n",
            " 62  Subflow Fwd Pkts   531329 non-null  int64  \n",
            " 63  Subflow Fwd Byts   531329 non-null  int64  \n",
            " 64  Subflow Bwd Pkts   531329 non-null  int64  \n",
            " 65  Subflow Bwd Byts   531329 non-null  int64  \n",
            " 66  Init Fwd Win Byts  531329 non-null  int64  \n",
            " 67  Init Bwd Win Byts  531329 non-null  int64  \n",
            " 68  Fwd Act Data Pkts  531329 non-null  int64  \n",
            " 69  Fwd Seg Size Min   531329 non-null  int64  \n",
            " 70  Active Mean        531329 non-null  float64\n",
            " 71  Active Std         531329 non-null  float64\n",
            " 72  Active Max         531329 non-null  int64  \n",
            " 73  Active Min         531329 non-null  int64  \n",
            " 74  Idle Mean          531329 non-null  float64\n",
            " 75  Idle Std           531329 non-null  float64\n",
            " 76  Idle Max           531329 non-null  int64  \n",
            " 77  Idle Min           531329 non-null  int64  \n",
            " 78  Label              531329 non-null  int64  \n",
            "dtypes: float64(24), int64(55)\n",
            "memory usage: 324.3 MB\n"
          ]
        }
      ],
      "source": [
        "merge = [\n",
        "    df1, \n",
        "    df2,\n",
        "    df3,\n",
        "    df4,\n",
        "    df5,\n",
        "    df6, \n",
        "    df7\n",
        "]\n",
        "df = pd.concat(merge)\n",
        "del merge\n",
        "df.info()"
      ]
    },
    {
      "cell_type": "code",
      "execution_count": null,
      "metadata": {
        "id": "zFeBiBUl3D8Q"
      },
      "outputs": [],
      "source": [
        "df=df.reset_index()"
      ]
    },
    {
      "cell_type": "code",
      "execution_count": null,
      "metadata": {
        "colab": {
          "base_uri": "https://localhost:8080/",
          "height": 496
        },
        "id": "DueZJ6ncuxew",
        "outputId": "2dc22510-12e5-435d-8c66-42bb180b336f"
      },
      "outputs": [
        {
          "data": {
            "text/html": [
              "<div>\n",
              "<style scoped>\n",
              "    .dataframe tbody tr th:only-of-type {\n",
              "        vertical-align: middle;\n",
              "    }\n",
              "\n",
              "    .dataframe tbody tr th {\n",
              "        vertical-align: top;\n",
              "    }\n",
              "\n",
              "    .dataframe thead th {\n",
              "        text-align: right;\n",
              "    }\n",
              "</style>\n",
              "<table border=\"1\" class=\"dataframe\">\n",
              "  <thead>\n",
              "    <tr style=\"text-align: right;\">\n",
              "      <th></th>\n",
              "      <th>index</th>\n",
              "      <th>Unnamed: 0</th>\n",
              "      <th>Dst Port</th>\n",
              "      <th>Protocol</th>\n",
              "      <th>Flow Duration</th>\n",
              "      <th>Tot Fwd Pkts</th>\n",
              "      <th>Tot Bwd Pkts</th>\n",
              "      <th>TotLen Fwd Pkts</th>\n",
              "      <th>TotLen Bwd Pkts</th>\n",
              "      <th>Fwd Pkt Len Max</th>\n",
              "      <th>Fwd Pkt Len Min</th>\n",
              "      <th>Fwd Pkt Len Mean</th>\n",
              "      <th>Fwd Pkt Len Std</th>\n",
              "      <th>Bwd Pkt Len Max</th>\n",
              "      <th>Bwd Pkt Len Min</th>\n",
              "      <th>Bwd Pkt Len Mean</th>\n",
              "      <th>Bwd Pkt Len Std</th>\n",
              "      <th>Flow Byts/s</th>\n",
              "      <th>Flow Pkts/s</th>\n",
              "      <th>Flow IAT Mean</th>\n",
              "      <th>Flow IAT Std</th>\n",
              "      <th>Flow IAT Max</th>\n",
              "      <th>Flow IAT Min</th>\n",
              "      <th>Fwd IAT Tot</th>\n",
              "      <th>Fwd IAT Mean</th>\n",
              "      <th>Fwd IAT Std</th>\n",
              "      <th>Fwd IAT Max</th>\n",
              "      <th>Fwd IAT Min</th>\n",
              "      <th>Bwd IAT Tot</th>\n",
              "      <th>Bwd IAT Mean</th>\n",
              "      <th>Bwd IAT Std</th>\n",
              "      <th>Bwd IAT Max</th>\n",
              "      <th>Bwd IAT Min</th>\n",
              "      <th>Fwd PSH Flags</th>\n",
              "      <th>Bwd PSH Flags</th>\n",
              "      <th>Fwd URG Flags</th>\n",
              "      <th>Bwd URG Flags</th>\n",
              "      <th>Fwd Header Len</th>\n",
              "      <th>Bwd Header Len</th>\n",
              "      <th>Fwd Pkts/s</th>\n",
              "      <th>Bwd Pkts/s</th>\n",
              "      <th>Pkt Len Min</th>\n",
              "      <th>Pkt Len Max</th>\n",
              "      <th>Pkt Len Mean</th>\n",
              "      <th>Pkt Len Std</th>\n",
              "      <th>Pkt Len Var</th>\n",
              "      <th>FIN Flag Cnt</th>\n",
              "      <th>SYN Flag Cnt</th>\n",
              "      <th>RST Flag Cnt</th>\n",
              "      <th>PSH Flag Cnt</th>\n",
              "      <th>ACK Flag Cnt</th>\n",
              "      <th>URG Flag Cnt</th>\n",
              "      <th>CWE Flag Count</th>\n",
              "      <th>ECE Flag Cnt</th>\n",
              "      <th>Pkt Size Avg</th>\n",
              "      <th>Fwd Seg Size Avg</th>\n",
              "      <th>Bwd Seg Size Avg</th>\n",
              "      <th>Fwd Byts/b Avg</th>\n",
              "      <th>Fwd Pkts/b Avg</th>\n",
              "      <th>Fwd Blk Rate Avg</th>\n",
              "      <th>Bwd Byts/b Avg</th>\n",
              "      <th>Bwd Pkts/b Avg</th>\n",
              "      <th>Bwd Blk Rate Avg</th>\n",
              "      <th>Subflow Fwd Pkts</th>\n",
              "      <th>Subflow Fwd Byts</th>\n",
              "      <th>Subflow Bwd Pkts</th>\n",
              "      <th>Subflow Bwd Byts</th>\n",
              "      <th>Init Fwd Win Byts</th>\n",
              "      <th>Init Bwd Win Byts</th>\n",
              "      <th>Fwd Act Data Pkts</th>\n",
              "      <th>Fwd Seg Size Min</th>\n",
              "      <th>Active Mean</th>\n",
              "      <th>Active Std</th>\n",
              "      <th>Active Max</th>\n",
              "      <th>Active Min</th>\n",
              "      <th>Idle Mean</th>\n",
              "      <th>Idle Std</th>\n",
              "      <th>Idle Max</th>\n",
              "      <th>Idle Min</th>\n",
              "      <th>Label</th>\n",
              "    </tr>\n",
              "  </thead>\n",
              "  <tbody>\n",
              "    <tr>\n",
              "      <th>0</th>\n",
              "      <td>0</td>\n",
              "      <td>146275</td>\n",
              "      <td>3389</td>\n",
              "      <td>6</td>\n",
              "      <td>5206015</td>\n",
              "      <td>9</td>\n",
              "      <td>11</td>\n",
              "      <td>1213</td>\n",
              "      <td>1948</td>\n",
              "      <td>661</td>\n",
              "      <td>0</td>\n",
              "      <td>134.777778</td>\n",
              "      <td>209.079995</td>\n",
              "      <td>1173</td>\n",
              "      <td>0</td>\n",
              "      <td>177.090909</td>\n",
              "      <td>347.937194</td>\n",
              "      <td>607.182269</td>\n",
              "      <td>3.841710</td>\n",
              "      <td>2.740008e+05</td>\n",
              "      <td>4.873823e+05</td>\n",
              "      <td>1906221</td>\n",
              "      <td>54</td>\n",
              "      <td>5206015</td>\n",
              "      <td>650751.9</td>\n",
              "      <td>1.367797e+06</td>\n",
              "      <td>4024698</td>\n",
              "      <td>186</td>\n",
              "      <td>5043065</td>\n",
              "      <td>5.043065e+05</td>\n",
              "      <td>5.916400e+05</td>\n",
              "      <td>1906221</td>\n",
              "      <td>46378</td>\n",
              "      <td>0</td>\n",
              "      <td>0</td>\n",
              "      <td>0</td>\n",
              "      <td>0</td>\n",
              "      <td>192</td>\n",
              "      <td>244</td>\n",
              "      <td>1.728770</td>\n",
              "      <td>2.112941</td>\n",
              "      <td>0</td>\n",
              "      <td>1173</td>\n",
              "      <td>150.523810</td>\n",
              "      <td>282.220768</td>\n",
              "      <td>79648.561905</td>\n",
              "      <td>0</td>\n",
              "      <td>0</td>\n",
              "      <td>1</td>\n",
              "      <td>1</td>\n",
              "      <td>0</td>\n",
              "      <td>0</td>\n",
              "      <td>0</td>\n",
              "      <td>1</td>\n",
              "      <td>158.05000</td>\n",
              "      <td>134.77777</td>\n",
              "      <td>177.09091</td>\n",
              "      <td>0</td>\n",
              "      <td>0</td>\n",
              "      <td>0</td>\n",
              "      <td>0</td>\n",
              "      <td>0</td>\n",
              "      <td>0</td>\n",
              "      <td>9</td>\n",
              "      <td>1213</td>\n",
              "      <td>11</td>\n",
              "      <td>1948</td>\n",
              "      <td>8192</td>\n",
              "      <td>62872</td>\n",
              "      <td>6</td>\n",
              "      <td>20</td>\n",
              "      <td>0.000000e+00</td>\n",
              "      <td>0.000000e+00</td>\n",
              "      <td>0</td>\n",
              "      <td>0</td>\n",
              "      <td>0.000000e+00</td>\n",
              "      <td>0.000000e+00</td>\n",
              "      <td>0</td>\n",
              "      <td>0</td>\n",
              "      <td>1</td>\n",
              "    </tr>\n",
              "    <tr>\n",
              "      <th>1</th>\n",
              "      <td>1</td>\n",
              "      <td>512109</td>\n",
              "      <td>443</td>\n",
              "      <td>6</td>\n",
              "      <td>60991608</td>\n",
              "      <td>14</td>\n",
              "      <td>14</td>\n",
              "      <td>1211</td>\n",
              "      <td>3396</td>\n",
              "      <td>875</td>\n",
              "      <td>0</td>\n",
              "      <td>86.500000</td>\n",
              "      <td>235.073066</td>\n",
              "      <td>1460</td>\n",
              "      <td>0</td>\n",
              "      <td>242.571429</td>\n",
              "      <td>520.660485</td>\n",
              "      <td>75.534982</td>\n",
              "      <td>0.459080</td>\n",
              "      <td>2.258948e+06</td>\n",
              "      <td>4.218116e+06</td>\n",
              "      <td>10009249</td>\n",
              "      <td>1</td>\n",
              "      <td>60991608</td>\n",
              "      <td>4691662.0</td>\n",
              "      <td>5.173112e+06</td>\n",
              "      <td>10077768</td>\n",
              "      <td>265</td>\n",
              "      <td>60922977</td>\n",
              "      <td>4.686383e+06</td>\n",
              "      <td>5.195334e+06</td>\n",
              "      <td>10080219</td>\n",
              "      <td>1</td>\n",
              "      <td>0</td>\n",
              "      <td>0</td>\n",
              "      <td>0</td>\n",
              "      <td>0</td>\n",
              "      <td>292</td>\n",
              "      <td>364</td>\n",
              "      <td>0.229540</td>\n",
              "      <td>0.229540</td>\n",
              "      <td>0</td>\n",
              "      <td>1460</td>\n",
              "      <td>158.862069</td>\n",
              "      <td>398.172318</td>\n",
              "      <td>158541.194581</td>\n",
              "      <td>0</td>\n",
              "      <td>0</td>\n",
              "      <td>0</td>\n",
              "      <td>1</td>\n",
              "      <td>0</td>\n",
              "      <td>0</td>\n",
              "      <td>0</td>\n",
              "      <td>0</td>\n",
              "      <td>164.53572</td>\n",
              "      <td>86.50000</td>\n",
              "      <td>242.57143</td>\n",
              "      <td>0</td>\n",
              "      <td>0</td>\n",
              "      <td>0</td>\n",
              "      <td>0</td>\n",
              "      <td>0</td>\n",
              "      <td>0</td>\n",
              "      <td>14</td>\n",
              "      <td>1211</td>\n",
              "      <td>14</td>\n",
              "      <td>3396</td>\n",
              "      <td>8192</td>\n",
              "      <td>117</td>\n",
              "      <td>9</td>\n",
              "      <td>20</td>\n",
              "      <td>1.165047e+05</td>\n",
              "      <td>1.174018e+05</td>\n",
              "      <td>356150</td>\n",
              "      <td>68519</td>\n",
              "      <td>1.000239e+07</td>\n",
              "      <td>1.665183e+04</td>\n",
              "      <td>10009249</td>\n",
              "      <td>9968397</td>\n",
              "      <td>1</td>\n",
              "    </tr>\n",
              "    <tr>\n",
              "      <th>2</th>\n",
              "      <td>2</td>\n",
              "      <td>807703</td>\n",
              "      <td>53</td>\n",
              "      <td>17</td>\n",
              "      <td>27292</td>\n",
              "      <td>1</td>\n",
              "      <td>1</td>\n",
              "      <td>45</td>\n",
              "      <td>163</td>\n",
              "      <td>45</td>\n",
              "      <td>45</td>\n",
              "      <td>45.000000</td>\n",
              "      <td>0.000000</td>\n",
              "      <td>163</td>\n",
              "      <td>163</td>\n",
              "      <td>163.000000</td>\n",
              "      <td>0.000000</td>\n",
              "      <td>7621.280961</td>\n",
              "      <td>73.281548</td>\n",
              "      <td>2.729200e+04</td>\n",
              "      <td>0.000000e+00</td>\n",
              "      <td>27292</td>\n",
              "      <td>27292</td>\n",
              "      <td>0</td>\n",
              "      <td>0.0</td>\n",
              "      <td>0.000000e+00</td>\n",
              "      <td>0</td>\n",
              "      <td>0</td>\n",
              "      <td>0</td>\n",
              "      <td>0.000000e+00</td>\n",
              "      <td>0.000000e+00</td>\n",
              "      <td>0</td>\n",
              "      <td>0</td>\n",
              "      <td>0</td>\n",
              "      <td>0</td>\n",
              "      <td>0</td>\n",
              "      <td>0</td>\n",
              "      <td>8</td>\n",
              "      <td>8</td>\n",
              "      <td>36.640774</td>\n",
              "      <td>36.640774</td>\n",
              "      <td>45</td>\n",
              "      <td>163</td>\n",
              "      <td>84.333333</td>\n",
              "      <td>68.127332</td>\n",
              "      <td>4641.333333</td>\n",
              "      <td>0</td>\n",
              "      <td>0</td>\n",
              "      <td>0</td>\n",
              "      <td>0</td>\n",
              "      <td>0</td>\n",
              "      <td>0</td>\n",
              "      <td>0</td>\n",
              "      <td>0</td>\n",
              "      <td>126.50000</td>\n",
              "      <td>45.00000</td>\n",
              "      <td>163.00000</td>\n",
              "      <td>0</td>\n",
              "      <td>0</td>\n",
              "      <td>0</td>\n",
              "      <td>0</td>\n",
              "      <td>0</td>\n",
              "      <td>0</td>\n",
              "      <td>1</td>\n",
              "      <td>45</td>\n",
              "      <td>1</td>\n",
              "      <td>163</td>\n",
              "      <td>-1</td>\n",
              "      <td>-1</td>\n",
              "      <td>0</td>\n",
              "      <td>8</td>\n",
              "      <td>0.000000e+00</td>\n",
              "      <td>0.000000e+00</td>\n",
              "      <td>0</td>\n",
              "      <td>0</td>\n",
              "      <td>0.000000e+00</td>\n",
              "      <td>0.000000e+00</td>\n",
              "      <td>0</td>\n",
              "      <td>0</td>\n",
              "      <td>1</td>\n",
              "    </tr>\n",
              "    <tr>\n",
              "      <th>3</th>\n",
              "      <td>3</td>\n",
              "      <td>491912</td>\n",
              "      <td>443</td>\n",
              "      <td>6</td>\n",
              "      <td>70343424</td>\n",
              "      <td>17</td>\n",
              "      <td>20</td>\n",
              "      <td>1118</td>\n",
              "      <td>5653</td>\n",
              "      <td>258</td>\n",
              "      <td>0</td>\n",
              "      <td>65.764706</td>\n",
              "      <td>88.989837</td>\n",
              "      <td>1430</td>\n",
              "      <td>0</td>\n",
              "      <td>282.650000</td>\n",
              "      <td>445.753682</td>\n",
              "      <td>96.256332</td>\n",
              "      <td>0.525991</td>\n",
              "      <td>1.953984e+06</td>\n",
              "      <td>9.874980e+06</td>\n",
              "      <td>58654921</td>\n",
              "      <td>8</td>\n",
              "      <td>70343424</td>\n",
              "      <td>4396464.0</td>\n",
              "      <td>1.474216e+07</td>\n",
              "      <td>58790474</td>\n",
              "      <td>142</td>\n",
              "      <td>70195940</td>\n",
              "      <td>3.694523e+06</td>\n",
              "      <td>1.354913e+07</td>\n",
              "      <td>58750691</td>\n",
              "      <td>13</td>\n",
              "      <td>0</td>\n",
              "      <td>0</td>\n",
              "      <td>0</td>\n",
              "      <td>0</td>\n",
              "      <td>352</td>\n",
              "      <td>412</td>\n",
              "      <td>0.241671</td>\n",
              "      <td>0.284319</td>\n",
              "      <td>0</td>\n",
              "      <td>1430</td>\n",
              "      <td>178.184211</td>\n",
              "      <td>343.542661</td>\n",
              "      <td>118021.559744</td>\n",
              "      <td>0</td>\n",
              "      <td>0</td>\n",
              "      <td>0</td>\n",
              "      <td>1</td>\n",
              "      <td>0</td>\n",
              "      <td>0</td>\n",
              "      <td>0</td>\n",
              "      <td>0</td>\n",
              "      <td>183.00000</td>\n",
              "      <td>65.76471</td>\n",
              "      <td>282.65000</td>\n",
              "      <td>0</td>\n",
              "      <td>0</td>\n",
              "      <td>0</td>\n",
              "      <td>0</td>\n",
              "      <td>0</td>\n",
              "      <td>0</td>\n",
              "      <td>17</td>\n",
              "      <td>1118</td>\n",
              "      <td>20</td>\n",
              "      <td>5653</td>\n",
              "      <td>8192</td>\n",
              "      <td>184</td>\n",
              "      <td>9</td>\n",
              "      <td>20</td>\n",
              "      <td>5.276835e+05</td>\n",
              "      <td>3.863115e+05</td>\n",
              "      <td>800847</td>\n",
              "      <td>254520</td>\n",
              "      <td>3.457024e+07</td>\n",
              "      <td>3.406089e+07</td>\n",
              "      <td>58654921</td>\n",
              "      <td>10485549</td>\n",
              "      <td>1</td>\n",
              "    </tr>\n",
              "    <tr>\n",
              "      <th>4</th>\n",
              "      <td>4</td>\n",
              "      <td>858679</td>\n",
              "      <td>53</td>\n",
              "      <td>17</td>\n",
              "      <td>137267</td>\n",
              "      <td>2</td>\n",
              "      <td>2</td>\n",
              "      <td>94</td>\n",
              "      <td>214</td>\n",
              "      <td>47</td>\n",
              "      <td>47</td>\n",
              "      <td>47.000000</td>\n",
              "      <td>0.000000</td>\n",
              "      <td>107</td>\n",
              "      <td>107</td>\n",
              "      <td>107.000000</td>\n",
              "      <td>0.000000</td>\n",
              "      <td>2243.802225</td>\n",
              "      <td>29.140289</td>\n",
              "      <td>4.575567e+04</td>\n",
              "      <td>4.240885e+04</td>\n",
              "      <td>84190</td>\n",
              "      <td>259</td>\n",
              "      <td>137008</td>\n",
              "      <td>137008.0</td>\n",
              "      <td>0.000000e+00</td>\n",
              "      <td>137008</td>\n",
              "      <td>137008</td>\n",
              "      <td>84449</td>\n",
              "      <td>8.444900e+04</td>\n",
              "      <td>0.000000e+00</td>\n",
              "      <td>84449</td>\n",
              "      <td>84449</td>\n",
              "      <td>0</td>\n",
              "      <td>0</td>\n",
              "      <td>0</td>\n",
              "      <td>0</td>\n",
              "      <td>16</td>\n",
              "      <td>16</td>\n",
              "      <td>14.570144</td>\n",
              "      <td>14.570144</td>\n",
              "      <td>47</td>\n",
              "      <td>107</td>\n",
              "      <td>71.000000</td>\n",
              "      <td>32.863353</td>\n",
              "      <td>1080.000000</td>\n",
              "      <td>0</td>\n",
              "      <td>0</td>\n",
              "      <td>0</td>\n",
              "      <td>0</td>\n",
              "      <td>0</td>\n",
              "      <td>0</td>\n",
              "      <td>0</td>\n",
              "      <td>0</td>\n",
              "      <td>88.75000</td>\n",
              "      <td>47.00000</td>\n",
              "      <td>107.00000</td>\n",
              "      <td>0</td>\n",
              "      <td>0</td>\n",
              "      <td>0</td>\n",
              "      <td>0</td>\n",
              "      <td>0</td>\n",
              "      <td>0</td>\n",
              "      <td>2</td>\n",
              "      <td>94</td>\n",
              "      <td>2</td>\n",
              "      <td>214</td>\n",
              "      <td>-1</td>\n",
              "      <td>-1</td>\n",
              "      <td>1</td>\n",
              "      <td>8</td>\n",
              "      <td>0.000000e+00</td>\n",
              "      <td>0.000000e+00</td>\n",
              "      <td>0</td>\n",
              "      <td>0</td>\n",
              "      <td>0.000000e+00</td>\n",
              "      <td>0.000000e+00</td>\n",
              "      <td>0</td>\n",
              "      <td>0</td>\n",
              "      <td>1</td>\n",
              "    </tr>\n",
              "    <tr>\n",
              "      <th>...</th>\n",
              "      <td>...</td>\n",
              "      <td>...</td>\n",
              "      <td>...</td>\n",
              "      <td>...</td>\n",
              "      <td>...</td>\n",
              "      <td>...</td>\n",
              "      <td>...</td>\n",
              "      <td>...</td>\n",
              "      <td>...</td>\n",
              "      <td>...</td>\n",
              "      <td>...</td>\n",
              "      <td>...</td>\n",
              "      <td>...</td>\n",
              "      <td>...</td>\n",
              "      <td>...</td>\n",
              "      <td>...</td>\n",
              "      <td>...</td>\n",
              "      <td>...</td>\n",
              "      <td>...</td>\n",
              "      <td>...</td>\n",
              "      <td>...</td>\n",
              "      <td>...</td>\n",
              "      <td>...</td>\n",
              "      <td>...</td>\n",
              "      <td>...</td>\n",
              "      <td>...</td>\n",
              "      <td>...</td>\n",
              "      <td>...</td>\n",
              "      <td>...</td>\n",
              "      <td>...</td>\n",
              "      <td>...</td>\n",
              "      <td>...</td>\n",
              "      <td>...</td>\n",
              "      <td>...</td>\n",
              "      <td>...</td>\n",
              "      <td>...</td>\n",
              "      <td>...</td>\n",
              "      <td>...</td>\n",
              "      <td>...</td>\n",
              "      <td>...</td>\n",
              "      <td>...</td>\n",
              "      <td>...</td>\n",
              "      <td>...</td>\n",
              "      <td>...</td>\n",
              "      <td>...</td>\n",
              "      <td>...</td>\n",
              "      <td>...</td>\n",
              "      <td>...</td>\n",
              "      <td>...</td>\n",
              "      <td>...</td>\n",
              "      <td>...</td>\n",
              "      <td>...</td>\n",
              "      <td>...</td>\n",
              "      <td>...</td>\n",
              "      <td>...</td>\n",
              "      <td>...</td>\n",
              "      <td>...</td>\n",
              "      <td>...</td>\n",
              "      <td>...</td>\n",
              "      <td>...</td>\n",
              "      <td>...</td>\n",
              "      <td>...</td>\n",
              "      <td>...</td>\n",
              "      <td>...</td>\n",
              "      <td>...</td>\n",
              "      <td>...</td>\n",
              "      <td>...</td>\n",
              "      <td>...</td>\n",
              "      <td>...</td>\n",
              "      <td>...</td>\n",
              "      <td>...</td>\n",
              "      <td>...</td>\n",
              "      <td>...</td>\n",
              "      <td>...</td>\n",
              "      <td>...</td>\n",
              "      <td>...</td>\n",
              "      <td>...</td>\n",
              "      <td>...</td>\n",
              "      <td>...</td>\n",
              "      <td>...</td>\n",
              "    </tr>\n",
              "    <tr>\n",
              "      <th>531324</th>\n",
              "      <td>1250030</td>\n",
              "      <td>30587</td>\n",
              "      <td>80</td>\n",
              "      <td>6</td>\n",
              "      <td>99999918</td>\n",
              "      <td>2</td>\n",
              "      <td>2</td>\n",
              "      <td>16</td>\n",
              "      <td>0</td>\n",
              "      <td>8</td>\n",
              "      <td>8</td>\n",
              "      <td>8.000000</td>\n",
              "      <td>0.000000</td>\n",
              "      <td>0</td>\n",
              "      <td>0</td>\n",
              "      <td>0.000000</td>\n",
              "      <td>0.000000</td>\n",
              "      <td>0.160000</td>\n",
              "      <td>0.040000</td>\n",
              "      <td>3.333331e+07</td>\n",
              "      <td>5.773497e+07</td>\n",
              "      <td>99999902</td>\n",
              "      <td>2</td>\n",
              "      <td>99999916</td>\n",
              "      <td>99999920.0</td>\n",
              "      <td>0.000000e+00</td>\n",
              "      <td>99999916</td>\n",
              "      <td>99999916</td>\n",
              "      <td>99999904</td>\n",
              "      <td>9.999990e+07</td>\n",
              "      <td>0.000000e+00</td>\n",
              "      <td>99999904</td>\n",
              "      <td>99999904</td>\n",
              "      <td>1</td>\n",
              "      <td>0</td>\n",
              "      <td>0</td>\n",
              "      <td>0</td>\n",
              "      <td>64</td>\n",
              "      <td>64</td>\n",
              "      <td>0.020000</td>\n",
              "      <td>0.020000</td>\n",
              "      <td>0</td>\n",
              "      <td>8</td>\n",
              "      <td>4.800000</td>\n",
              "      <td>4.381780</td>\n",
              "      <td>19.200000</td>\n",
              "      <td>0</td>\n",
              "      <td>1</td>\n",
              "      <td>0</td>\n",
              "      <td>0</td>\n",
              "      <td>1</td>\n",
              "      <td>0</td>\n",
              "      <td>0</td>\n",
              "      <td>0</td>\n",
              "      <td>6.00000</td>\n",
              "      <td>8.00000</td>\n",
              "      <td>0.00000</td>\n",
              "      <td>0</td>\n",
              "      <td>0</td>\n",
              "      <td>0</td>\n",
              "      <td>0</td>\n",
              "      <td>0</td>\n",
              "      <td>0</td>\n",
              "      <td>2</td>\n",
              "      <td>16</td>\n",
              "      <td>2</td>\n",
              "      <td>0</td>\n",
              "      <td>211</td>\n",
              "      <td>219</td>\n",
              "      <td>1</td>\n",
              "      <td>32</td>\n",
              "      <td>1.400000e+01</td>\n",
              "      <td>0.000000e+00</td>\n",
              "      <td>14</td>\n",
              "      <td>14</td>\n",
              "      <td>9.999990e+07</td>\n",
              "      <td>0.000000e+00</td>\n",
              "      <td>99999902</td>\n",
              "      <td>99999902</td>\n",
              "      <td>7</td>\n",
              "    </tr>\n",
              "    <tr>\n",
              "      <th>531325</th>\n",
              "      <td>1250228</td>\n",
              "      <td>43793</td>\n",
              "      <td>80</td>\n",
              "      <td>6</td>\n",
              "      <td>107187709</td>\n",
              "      <td>15</td>\n",
              "      <td>3</td>\n",
              "      <td>2530</td>\n",
              "      <td>0</td>\n",
              "      <td>230</td>\n",
              "      <td>0</td>\n",
              "      <td>168.666667</td>\n",
              "      <td>105.279673</td>\n",
              "      <td>0</td>\n",
              "      <td>0</td>\n",
              "      <td>0.000000</td>\n",
              "      <td>0.000000</td>\n",
              "      <td>23.603453</td>\n",
              "      <td>0.167930</td>\n",
              "      <td>6.305159e+06</td>\n",
              "      <td>1.344263e+07</td>\n",
              "      <td>53236643</td>\n",
              "      <td>1</td>\n",
              "      <td>107187708</td>\n",
              "      <td>7656265.0</td>\n",
              "      <td>1.453533e+07</td>\n",
              "      <td>53236643</td>\n",
              "      <td>175</td>\n",
              "      <td>106161501</td>\n",
              "      <td>5.308075e+07</td>\n",
              "      <td>3.123033e+07</td>\n",
              "      <td>75163929</td>\n",
              "      <td>30997572</td>\n",
              "      <td>0</td>\n",
              "      <td>0</td>\n",
              "      <td>0</td>\n",
              "      <td>0</td>\n",
              "      <td>496</td>\n",
              "      <td>100</td>\n",
              "      <td>0.139941</td>\n",
              "      <td>0.027988</td>\n",
              "      <td>0</td>\n",
              "      <td>230</td>\n",
              "      <td>133.157895</td>\n",
              "      <td>116.669173</td>\n",
              "      <td>13611.695906</td>\n",
              "      <td>0</td>\n",
              "      <td>0</td>\n",
              "      <td>0</td>\n",
              "      <td>1</td>\n",
              "      <td>0</td>\n",
              "      <td>0</td>\n",
              "      <td>0</td>\n",
              "      <td>0</td>\n",
              "      <td>140.55556</td>\n",
              "      <td>168.66667</td>\n",
              "      <td>0.00000</td>\n",
              "      <td>0</td>\n",
              "      <td>0</td>\n",
              "      <td>0</td>\n",
              "      <td>0</td>\n",
              "      <td>0</td>\n",
              "      <td>0</td>\n",
              "      <td>15</td>\n",
              "      <td>2530</td>\n",
              "      <td>3</td>\n",
              "      <td>0</td>\n",
              "      <td>26883</td>\n",
              "      <td>0</td>\n",
              "      <td>11</td>\n",
              "      <td>32</td>\n",
              "      <td>6.149698e+06</td>\n",
              "      <td>2.040780e+06</td>\n",
              "      <td>7592748</td>\n",
              "      <td>4706649</td>\n",
              "      <td>2.372208e+07</td>\n",
              "      <td>2.064711e+07</td>\n",
              "      <td>53236643</td>\n",
              "      <td>6649249</td>\n",
              "      <td>7</td>\n",
              "    </tr>\n",
              "    <tr>\n",
              "      <th>531326</th>\n",
              "      <td>1250458</td>\n",
              "      <td>35371</td>\n",
              "      <td>80</td>\n",
              "      <td>6</td>\n",
              "      <td>107646209</td>\n",
              "      <td>14</td>\n",
              "      <td>3</td>\n",
              "      <td>2530</td>\n",
              "      <td>0</td>\n",
              "      <td>230</td>\n",
              "      <td>0</td>\n",
              "      <td>180.714286</td>\n",
              "      <td>97.937522</td>\n",
              "      <td>0</td>\n",
              "      <td>0</td>\n",
              "      <td>0.000000</td>\n",
              "      <td>0.000000</td>\n",
              "      <td>23.502918</td>\n",
              "      <td>0.157925</td>\n",
              "      <td>6.727888e+06</td>\n",
              "      <td>1.393742e+07</td>\n",
              "      <td>53247494</td>\n",
              "      <td>4</td>\n",
              "      <td>107646196</td>\n",
              "      <td>8280476.5</td>\n",
              "      <td>1.512903e+07</td>\n",
              "      <td>53247494</td>\n",
              "      <td>153</td>\n",
              "      <td>107646205</td>\n",
              "      <td>5.382310e+07</td>\n",
              "      <td>3.227701e+07</td>\n",
              "      <td>76646398</td>\n",
              "      <td>30999807</td>\n",
              "      <td>0</td>\n",
              "      <td>0</td>\n",
              "      <td>0</td>\n",
              "      <td>0</td>\n",
              "      <td>456</td>\n",
              "      <td>100</td>\n",
              "      <td>0.130056</td>\n",
              "      <td>0.027869</td>\n",
              "      <td>0</td>\n",
              "      <td>230</td>\n",
              "      <td>140.555556</td>\n",
              "      <td>115.375205</td>\n",
              "      <td>13311.437908</td>\n",
              "      <td>0</td>\n",
              "      <td>0</td>\n",
              "      <td>0</td>\n",
              "      <td>1</td>\n",
              "      <td>0</td>\n",
              "      <td>0</td>\n",
              "      <td>0</td>\n",
              "      <td>0</td>\n",
              "      <td>148.82353</td>\n",
              "      <td>180.71428</td>\n",
              "      <td>0.00000</td>\n",
              "      <td>0</td>\n",
              "      <td>0</td>\n",
              "      <td>0</td>\n",
              "      <td>0</td>\n",
              "      <td>0</td>\n",
              "      <td>0</td>\n",
              "      <td>14</td>\n",
              "      <td>2530</td>\n",
              "      <td>3</td>\n",
              "      <td>0</td>\n",
              "      <td>26883</td>\n",
              "      <td>0</td>\n",
              "      <td>11</td>\n",
              "      <td>32</td>\n",
              "      <td>5.516202e+06</td>\n",
              "      <td>1.791831e+06</td>\n",
              "      <td>6783218</td>\n",
              "      <td>4249187</td>\n",
              "      <td>2.415345e+07</td>\n",
              "      <td>2.058102e+07</td>\n",
              "      <td>53247494</td>\n",
              "      <td>6656083</td>\n",
              "      <td>7</td>\n",
              "    </tr>\n",
              "    <tr>\n",
              "      <th>531327</th>\n",
              "      <td>1250824</td>\n",
              "      <td>38708</td>\n",
              "      <td>80</td>\n",
              "      <td>6</td>\n",
              "      <td>107133998</td>\n",
              "      <td>14</td>\n",
              "      <td>3</td>\n",
              "      <td>2530</td>\n",
              "      <td>0</td>\n",
              "      <td>230</td>\n",
              "      <td>0</td>\n",
              "      <td>180.714286</td>\n",
              "      <td>97.937522</td>\n",
              "      <td>0</td>\n",
              "      <td>0</td>\n",
              "      <td>0.000000</td>\n",
              "      <td>0.000000</td>\n",
              "      <td>23.615286</td>\n",
              "      <td>0.158680</td>\n",
              "      <td>6.695875e+06</td>\n",
              "      <td>1.389733e+07</td>\n",
              "      <td>53247454</td>\n",
              "      <td>2</td>\n",
              "      <td>107133996</td>\n",
              "      <td>8241076.5</td>\n",
              "      <td>1.508724e+07</td>\n",
              "      <td>53247454</td>\n",
              "      <td>237</td>\n",
              "      <td>107133990</td>\n",
              "      <td>5.356700e+07</td>\n",
              "      <td>3.191895e+07</td>\n",
              "      <td>76137100</td>\n",
              "      <td>30996890</td>\n",
              "      <td>0</td>\n",
              "      <td>0</td>\n",
              "      <td>0</td>\n",
              "      <td>0</td>\n",
              "      <td>456</td>\n",
              "      <td>100</td>\n",
              "      <td>0.130677</td>\n",
              "      <td>0.028002</td>\n",
              "      <td>0</td>\n",
              "      <td>230</td>\n",
              "      <td>140.555556</td>\n",
              "      <td>115.375205</td>\n",
              "      <td>13311.437908</td>\n",
              "      <td>0</td>\n",
              "      <td>0</td>\n",
              "      <td>0</td>\n",
              "      <td>1</td>\n",
              "      <td>0</td>\n",
              "      <td>0</td>\n",
              "      <td>0</td>\n",
              "      <td>0</td>\n",
              "      <td>148.82353</td>\n",
              "      <td>180.71428</td>\n",
              "      <td>0.00000</td>\n",
              "      <td>0</td>\n",
              "      <td>0</td>\n",
              "      <td>0</td>\n",
              "      <td>0</td>\n",
              "      <td>0</td>\n",
              "      <td>0</td>\n",
              "      <td>14</td>\n",
              "      <td>2530</td>\n",
              "      <td>3</td>\n",
              "      <td>0</td>\n",
              "      <td>26883</td>\n",
              "      <td>0</td>\n",
              "      <td>11</td>\n",
              "      <td>32</td>\n",
              "      <td>5.515006e+06</td>\n",
              "      <td>1.793491e+06</td>\n",
              "      <td>6783195</td>\n",
              "      <td>4246816</td>\n",
              "      <td>2.402600e+07</td>\n",
              "      <td>2.058886e+07</td>\n",
              "      <td>53247454</td>\n",
              "      <td>6655803</td>\n",
              "      <td>7</td>\n",
              "    </tr>\n",
              "    <tr>\n",
              "      <th>531328</th>\n",
              "      <td>1252199</td>\n",
              "      <td>35507</td>\n",
              "      <td>80</td>\n",
              "      <td>6</td>\n",
              "      <td>107837624</td>\n",
              "      <td>15</td>\n",
              "      <td>3</td>\n",
              "      <td>2380</td>\n",
              "      <td>0</td>\n",
              "      <td>238</td>\n",
              "      <td>0</td>\n",
              "      <td>158.666667</td>\n",
              "      <td>114.994824</td>\n",
              "      <td>0</td>\n",
              "      <td>0</td>\n",
              "      <td>0.000000</td>\n",
              "      <td>0.000000</td>\n",
              "      <td>22.070219</td>\n",
              "      <td>0.166918</td>\n",
              "      <td>6.343390e+06</td>\n",
              "      <td>1.349198e+07</td>\n",
              "      <td>53247403</td>\n",
              "      <td>14</td>\n",
              "      <td>107837610</td>\n",
              "      <td>7702686.5</td>\n",
              "      <td>1.458649e+07</td>\n",
              "      <td>53247403</td>\n",
              "      <td>208</td>\n",
              "      <td>106814847</td>\n",
              "      <td>5.340742e+07</td>\n",
              "      <td>3.168955e+07</td>\n",
              "      <td>75815321</td>\n",
              "      <td>30999526</td>\n",
              "      <td>0</td>\n",
              "      <td>0</td>\n",
              "      <td>0</td>\n",
              "      <td>0</td>\n",
              "      <td>496</td>\n",
              "      <td>100</td>\n",
              "      <td>0.139098</td>\n",
              "      <td>0.027820</td>\n",
              "      <td>0</td>\n",
              "      <td>238</td>\n",
              "      <td>125.263158</td>\n",
              "      <td>121.251274</td>\n",
              "      <td>14701.871345</td>\n",
              "      <td>0</td>\n",
              "      <td>0</td>\n",
              "      <td>0</td>\n",
              "      <td>1</td>\n",
              "      <td>0</td>\n",
              "      <td>0</td>\n",
              "      <td>0</td>\n",
              "      <td>0</td>\n",
              "      <td>132.22223</td>\n",
              "      <td>158.66667</td>\n",
              "      <td>0.00000</td>\n",
              "      <td>0</td>\n",
              "      <td>0</td>\n",
              "      <td>0</td>\n",
              "      <td>0</td>\n",
              "      <td>0</td>\n",
              "      <td>0</td>\n",
              "      <td>15</td>\n",
              "      <td>2380</td>\n",
              "      <td>3</td>\n",
              "      <td>0</td>\n",
              "      <td>26883</td>\n",
              "      <td>0</td>\n",
              "      <td>11</td>\n",
              "      <td>32</td>\n",
              "      <td>6.155422e+06</td>\n",
              "      <td>2.244667e+06</td>\n",
              "      <td>7742641</td>\n",
              "      <td>4568202</td>\n",
              "      <td>2.388169e+07</td>\n",
              "      <td>2.063974e+07</td>\n",
              "      <td>53247403</td>\n",
              "      <td>6655939</td>\n",
              "      <td>7</td>\n",
              "    </tr>\n",
              "  </tbody>\n",
              "</table>\n",
              "<p>531329 rows × 80 columns</p>\n",
              "</div>"
            ],
            "text/plain": [
              "          index  Unnamed: 0  Dst Port  ...  Idle Max  Idle Min  Label\n",
              "0             0      146275      3389  ...         0         0      1\n",
              "1             1      512109       443  ...  10009249   9968397      1\n",
              "2             2      807703        53  ...         0         0      1\n",
              "3             3      491912       443  ...  58654921  10485549      1\n",
              "4             4      858679        53  ...         0         0      1\n",
              "...         ...         ...       ...  ...       ...       ...    ...\n",
              "531324  1250030       30587        80  ...  99999902  99999902      7\n",
              "531325  1250228       43793        80  ...  53236643   6649249      7\n",
              "531326  1250458       35371        80  ...  53247494   6656083      7\n",
              "531327  1250824       38708        80  ...  53247454   6655803      7\n",
              "531328  1252199       35507        80  ...  53247403   6655939      7\n",
              "\n",
              "[531329 rows x 80 columns]"
            ]
          },
          "execution_count": 91,
          "metadata": {},
          "output_type": "execute_result"
        }
      ],
      "source": [
        "df"
      ]
    },
    {
      "cell_type": "code",
      "execution_count": null,
      "metadata": {
        "id": "2LLmM6jCJ61n"
      },
      "outputs": [],
      "source": [
        "import numpy as np\n",
        "dfnew=df\n",
        "# dfnew['Label'] = np.where(dfnew['Label'] > 1, 0, dfnew['Label'])\n"
      ]
    },
    {
      "cell_type": "code",
      "execution_count": null,
      "metadata": {
        "colab": {
          "base_uri": "https://localhost:8080/",
          "height": 496
        },
        "id": "trKPzUGNM8EF",
        "outputId": "a7cb4696-e4de-4edf-9c4c-bbd45596fa6f"
      },
      "outputs": [
        {
          "data": {
            "text/html": [
              "<div>\n",
              "<style scoped>\n",
              "    .dataframe tbody tr th:only-of-type {\n",
              "        vertical-align: middle;\n",
              "    }\n",
              "\n",
              "    .dataframe tbody tr th {\n",
              "        vertical-align: top;\n",
              "    }\n",
              "\n",
              "    .dataframe thead th {\n",
              "        text-align: right;\n",
              "    }\n",
              "</style>\n",
              "<table border=\"1\" class=\"dataframe\">\n",
              "  <thead>\n",
              "    <tr style=\"text-align: right;\">\n",
              "      <th></th>\n",
              "      <th>index</th>\n",
              "      <th>Unnamed: 0</th>\n",
              "      <th>Dst Port</th>\n",
              "      <th>Protocol</th>\n",
              "      <th>Flow Duration</th>\n",
              "      <th>Tot Fwd Pkts</th>\n",
              "      <th>Tot Bwd Pkts</th>\n",
              "      <th>TotLen Fwd Pkts</th>\n",
              "      <th>TotLen Bwd Pkts</th>\n",
              "      <th>Fwd Pkt Len Max</th>\n",
              "      <th>Fwd Pkt Len Min</th>\n",
              "      <th>Fwd Pkt Len Mean</th>\n",
              "      <th>Fwd Pkt Len Std</th>\n",
              "      <th>Bwd Pkt Len Max</th>\n",
              "      <th>Bwd Pkt Len Min</th>\n",
              "      <th>Bwd Pkt Len Mean</th>\n",
              "      <th>Bwd Pkt Len Std</th>\n",
              "      <th>Flow Byts/s</th>\n",
              "      <th>Flow Pkts/s</th>\n",
              "      <th>Flow IAT Mean</th>\n",
              "      <th>Flow IAT Std</th>\n",
              "      <th>Flow IAT Max</th>\n",
              "      <th>Flow IAT Min</th>\n",
              "      <th>Fwd IAT Tot</th>\n",
              "      <th>Fwd IAT Mean</th>\n",
              "      <th>Fwd IAT Std</th>\n",
              "      <th>Fwd IAT Max</th>\n",
              "      <th>Fwd IAT Min</th>\n",
              "      <th>Bwd IAT Tot</th>\n",
              "      <th>Bwd IAT Mean</th>\n",
              "      <th>Bwd IAT Std</th>\n",
              "      <th>Bwd IAT Max</th>\n",
              "      <th>Bwd IAT Min</th>\n",
              "      <th>Fwd PSH Flags</th>\n",
              "      <th>Bwd PSH Flags</th>\n",
              "      <th>Fwd URG Flags</th>\n",
              "      <th>Bwd URG Flags</th>\n",
              "      <th>Fwd Header Len</th>\n",
              "      <th>Bwd Header Len</th>\n",
              "      <th>Fwd Pkts/s</th>\n",
              "      <th>Bwd Pkts/s</th>\n",
              "      <th>Pkt Len Min</th>\n",
              "      <th>Pkt Len Max</th>\n",
              "      <th>Pkt Len Mean</th>\n",
              "      <th>Pkt Len Std</th>\n",
              "      <th>Pkt Len Var</th>\n",
              "      <th>FIN Flag Cnt</th>\n",
              "      <th>SYN Flag Cnt</th>\n",
              "      <th>RST Flag Cnt</th>\n",
              "      <th>PSH Flag Cnt</th>\n",
              "      <th>ACK Flag Cnt</th>\n",
              "      <th>URG Flag Cnt</th>\n",
              "      <th>CWE Flag Count</th>\n",
              "      <th>ECE Flag Cnt</th>\n",
              "      <th>Pkt Size Avg</th>\n",
              "      <th>Fwd Seg Size Avg</th>\n",
              "      <th>Bwd Seg Size Avg</th>\n",
              "      <th>Fwd Byts/b Avg</th>\n",
              "      <th>Fwd Pkts/b Avg</th>\n",
              "      <th>Fwd Blk Rate Avg</th>\n",
              "      <th>Bwd Byts/b Avg</th>\n",
              "      <th>Bwd Pkts/b Avg</th>\n",
              "      <th>Bwd Blk Rate Avg</th>\n",
              "      <th>Subflow Fwd Pkts</th>\n",
              "      <th>Subflow Fwd Byts</th>\n",
              "      <th>Subflow Bwd Pkts</th>\n",
              "      <th>Subflow Bwd Byts</th>\n",
              "      <th>Init Fwd Win Byts</th>\n",
              "      <th>Init Bwd Win Byts</th>\n",
              "      <th>Fwd Act Data Pkts</th>\n",
              "      <th>Fwd Seg Size Min</th>\n",
              "      <th>Active Mean</th>\n",
              "      <th>Active Std</th>\n",
              "      <th>Active Max</th>\n",
              "      <th>Active Min</th>\n",
              "      <th>Idle Mean</th>\n",
              "      <th>Idle Std</th>\n",
              "      <th>Idle Max</th>\n",
              "      <th>Idle Min</th>\n",
              "      <th>Label</th>\n",
              "    </tr>\n",
              "  </thead>\n",
              "  <tbody>\n",
              "    <tr>\n",
              "      <th>0</th>\n",
              "      <td>0</td>\n",
              "      <td>146275</td>\n",
              "      <td>3389</td>\n",
              "      <td>6</td>\n",
              "      <td>5206015</td>\n",
              "      <td>9</td>\n",
              "      <td>11</td>\n",
              "      <td>1213</td>\n",
              "      <td>1948</td>\n",
              "      <td>661</td>\n",
              "      <td>0</td>\n",
              "      <td>134.777778</td>\n",
              "      <td>209.079995</td>\n",
              "      <td>1173</td>\n",
              "      <td>0</td>\n",
              "      <td>177.090909</td>\n",
              "      <td>347.937194</td>\n",
              "      <td>607.182269</td>\n",
              "      <td>3.841710</td>\n",
              "      <td>2.740008e+05</td>\n",
              "      <td>4.873823e+05</td>\n",
              "      <td>1906221</td>\n",
              "      <td>54</td>\n",
              "      <td>5206015</td>\n",
              "      <td>650751.9</td>\n",
              "      <td>1.367797e+06</td>\n",
              "      <td>4024698</td>\n",
              "      <td>186</td>\n",
              "      <td>5043065</td>\n",
              "      <td>5.043065e+05</td>\n",
              "      <td>5.916400e+05</td>\n",
              "      <td>1906221</td>\n",
              "      <td>46378</td>\n",
              "      <td>0</td>\n",
              "      <td>0</td>\n",
              "      <td>0</td>\n",
              "      <td>0</td>\n",
              "      <td>192</td>\n",
              "      <td>244</td>\n",
              "      <td>1.728770</td>\n",
              "      <td>2.112941</td>\n",
              "      <td>0</td>\n",
              "      <td>1173</td>\n",
              "      <td>150.523810</td>\n",
              "      <td>282.220768</td>\n",
              "      <td>79648.561905</td>\n",
              "      <td>0</td>\n",
              "      <td>0</td>\n",
              "      <td>1</td>\n",
              "      <td>1</td>\n",
              "      <td>0</td>\n",
              "      <td>0</td>\n",
              "      <td>0</td>\n",
              "      <td>1</td>\n",
              "      <td>158.05000</td>\n",
              "      <td>134.77777</td>\n",
              "      <td>177.09091</td>\n",
              "      <td>0</td>\n",
              "      <td>0</td>\n",
              "      <td>0</td>\n",
              "      <td>0</td>\n",
              "      <td>0</td>\n",
              "      <td>0</td>\n",
              "      <td>9</td>\n",
              "      <td>1213</td>\n",
              "      <td>11</td>\n",
              "      <td>1948</td>\n",
              "      <td>8192</td>\n",
              "      <td>62872</td>\n",
              "      <td>6</td>\n",
              "      <td>20</td>\n",
              "      <td>0.000000e+00</td>\n",
              "      <td>0.000000e+00</td>\n",
              "      <td>0</td>\n",
              "      <td>0</td>\n",
              "      <td>0.000000e+00</td>\n",
              "      <td>0.000000e+00</td>\n",
              "      <td>0</td>\n",
              "      <td>0</td>\n",
              "      <td>0</td>\n",
              "    </tr>\n",
              "    <tr>\n",
              "      <th>1</th>\n",
              "      <td>1</td>\n",
              "      <td>512109</td>\n",
              "      <td>443</td>\n",
              "      <td>6</td>\n",
              "      <td>60991608</td>\n",
              "      <td>14</td>\n",
              "      <td>14</td>\n",
              "      <td>1211</td>\n",
              "      <td>3396</td>\n",
              "      <td>875</td>\n",
              "      <td>0</td>\n",
              "      <td>86.500000</td>\n",
              "      <td>235.073066</td>\n",
              "      <td>1460</td>\n",
              "      <td>0</td>\n",
              "      <td>242.571429</td>\n",
              "      <td>520.660485</td>\n",
              "      <td>75.534982</td>\n",
              "      <td>0.459080</td>\n",
              "      <td>2.258948e+06</td>\n",
              "      <td>4.218116e+06</td>\n",
              "      <td>10009249</td>\n",
              "      <td>1</td>\n",
              "      <td>60991608</td>\n",
              "      <td>4691662.0</td>\n",
              "      <td>5.173112e+06</td>\n",
              "      <td>10077768</td>\n",
              "      <td>265</td>\n",
              "      <td>60922977</td>\n",
              "      <td>4.686383e+06</td>\n",
              "      <td>5.195334e+06</td>\n",
              "      <td>10080219</td>\n",
              "      <td>1</td>\n",
              "      <td>0</td>\n",
              "      <td>0</td>\n",
              "      <td>0</td>\n",
              "      <td>0</td>\n",
              "      <td>292</td>\n",
              "      <td>364</td>\n",
              "      <td>0.229540</td>\n",
              "      <td>0.229540</td>\n",
              "      <td>0</td>\n",
              "      <td>1460</td>\n",
              "      <td>158.862069</td>\n",
              "      <td>398.172318</td>\n",
              "      <td>158541.194581</td>\n",
              "      <td>0</td>\n",
              "      <td>0</td>\n",
              "      <td>0</td>\n",
              "      <td>1</td>\n",
              "      <td>0</td>\n",
              "      <td>0</td>\n",
              "      <td>0</td>\n",
              "      <td>0</td>\n",
              "      <td>164.53572</td>\n",
              "      <td>86.50000</td>\n",
              "      <td>242.57143</td>\n",
              "      <td>0</td>\n",
              "      <td>0</td>\n",
              "      <td>0</td>\n",
              "      <td>0</td>\n",
              "      <td>0</td>\n",
              "      <td>0</td>\n",
              "      <td>14</td>\n",
              "      <td>1211</td>\n",
              "      <td>14</td>\n",
              "      <td>3396</td>\n",
              "      <td>8192</td>\n",
              "      <td>117</td>\n",
              "      <td>9</td>\n",
              "      <td>20</td>\n",
              "      <td>1.165047e+05</td>\n",
              "      <td>1.174018e+05</td>\n",
              "      <td>356150</td>\n",
              "      <td>68519</td>\n",
              "      <td>1.000239e+07</td>\n",
              "      <td>1.665183e+04</td>\n",
              "      <td>10009249</td>\n",
              "      <td>9968397</td>\n",
              "      <td>0</td>\n",
              "    </tr>\n",
              "    <tr>\n",
              "      <th>2</th>\n",
              "      <td>2</td>\n",
              "      <td>807703</td>\n",
              "      <td>53</td>\n",
              "      <td>17</td>\n",
              "      <td>27292</td>\n",
              "      <td>1</td>\n",
              "      <td>1</td>\n",
              "      <td>45</td>\n",
              "      <td>163</td>\n",
              "      <td>45</td>\n",
              "      <td>45</td>\n",
              "      <td>45.000000</td>\n",
              "      <td>0.000000</td>\n",
              "      <td>163</td>\n",
              "      <td>163</td>\n",
              "      <td>163.000000</td>\n",
              "      <td>0.000000</td>\n",
              "      <td>7621.280961</td>\n",
              "      <td>73.281548</td>\n",
              "      <td>2.729200e+04</td>\n",
              "      <td>0.000000e+00</td>\n",
              "      <td>27292</td>\n",
              "      <td>27292</td>\n",
              "      <td>0</td>\n",
              "      <td>0.0</td>\n",
              "      <td>0.000000e+00</td>\n",
              "      <td>0</td>\n",
              "      <td>0</td>\n",
              "      <td>0</td>\n",
              "      <td>0.000000e+00</td>\n",
              "      <td>0.000000e+00</td>\n",
              "      <td>0</td>\n",
              "      <td>0</td>\n",
              "      <td>0</td>\n",
              "      <td>0</td>\n",
              "      <td>0</td>\n",
              "      <td>0</td>\n",
              "      <td>8</td>\n",
              "      <td>8</td>\n",
              "      <td>36.640774</td>\n",
              "      <td>36.640774</td>\n",
              "      <td>45</td>\n",
              "      <td>163</td>\n",
              "      <td>84.333333</td>\n",
              "      <td>68.127332</td>\n",
              "      <td>4641.333333</td>\n",
              "      <td>0</td>\n",
              "      <td>0</td>\n",
              "      <td>0</td>\n",
              "      <td>0</td>\n",
              "      <td>0</td>\n",
              "      <td>0</td>\n",
              "      <td>0</td>\n",
              "      <td>0</td>\n",
              "      <td>126.50000</td>\n",
              "      <td>45.00000</td>\n",
              "      <td>163.00000</td>\n",
              "      <td>0</td>\n",
              "      <td>0</td>\n",
              "      <td>0</td>\n",
              "      <td>0</td>\n",
              "      <td>0</td>\n",
              "      <td>0</td>\n",
              "      <td>1</td>\n",
              "      <td>45</td>\n",
              "      <td>1</td>\n",
              "      <td>163</td>\n",
              "      <td>-1</td>\n",
              "      <td>-1</td>\n",
              "      <td>0</td>\n",
              "      <td>8</td>\n",
              "      <td>0.000000e+00</td>\n",
              "      <td>0.000000e+00</td>\n",
              "      <td>0</td>\n",
              "      <td>0</td>\n",
              "      <td>0.000000e+00</td>\n",
              "      <td>0.000000e+00</td>\n",
              "      <td>0</td>\n",
              "      <td>0</td>\n",
              "      <td>0</td>\n",
              "    </tr>\n",
              "    <tr>\n",
              "      <th>3</th>\n",
              "      <td>3</td>\n",
              "      <td>491912</td>\n",
              "      <td>443</td>\n",
              "      <td>6</td>\n",
              "      <td>70343424</td>\n",
              "      <td>17</td>\n",
              "      <td>20</td>\n",
              "      <td>1118</td>\n",
              "      <td>5653</td>\n",
              "      <td>258</td>\n",
              "      <td>0</td>\n",
              "      <td>65.764706</td>\n",
              "      <td>88.989837</td>\n",
              "      <td>1430</td>\n",
              "      <td>0</td>\n",
              "      <td>282.650000</td>\n",
              "      <td>445.753682</td>\n",
              "      <td>96.256332</td>\n",
              "      <td>0.525991</td>\n",
              "      <td>1.953984e+06</td>\n",
              "      <td>9.874980e+06</td>\n",
              "      <td>58654921</td>\n",
              "      <td>8</td>\n",
              "      <td>70343424</td>\n",
              "      <td>4396464.0</td>\n",
              "      <td>1.474216e+07</td>\n",
              "      <td>58790474</td>\n",
              "      <td>142</td>\n",
              "      <td>70195940</td>\n",
              "      <td>3.694523e+06</td>\n",
              "      <td>1.354913e+07</td>\n",
              "      <td>58750691</td>\n",
              "      <td>13</td>\n",
              "      <td>0</td>\n",
              "      <td>0</td>\n",
              "      <td>0</td>\n",
              "      <td>0</td>\n",
              "      <td>352</td>\n",
              "      <td>412</td>\n",
              "      <td>0.241671</td>\n",
              "      <td>0.284319</td>\n",
              "      <td>0</td>\n",
              "      <td>1430</td>\n",
              "      <td>178.184211</td>\n",
              "      <td>343.542661</td>\n",
              "      <td>118021.559744</td>\n",
              "      <td>0</td>\n",
              "      <td>0</td>\n",
              "      <td>0</td>\n",
              "      <td>1</td>\n",
              "      <td>0</td>\n",
              "      <td>0</td>\n",
              "      <td>0</td>\n",
              "      <td>0</td>\n",
              "      <td>183.00000</td>\n",
              "      <td>65.76471</td>\n",
              "      <td>282.65000</td>\n",
              "      <td>0</td>\n",
              "      <td>0</td>\n",
              "      <td>0</td>\n",
              "      <td>0</td>\n",
              "      <td>0</td>\n",
              "      <td>0</td>\n",
              "      <td>17</td>\n",
              "      <td>1118</td>\n",
              "      <td>20</td>\n",
              "      <td>5653</td>\n",
              "      <td>8192</td>\n",
              "      <td>184</td>\n",
              "      <td>9</td>\n",
              "      <td>20</td>\n",
              "      <td>5.276835e+05</td>\n",
              "      <td>3.863115e+05</td>\n",
              "      <td>800847</td>\n",
              "      <td>254520</td>\n",
              "      <td>3.457024e+07</td>\n",
              "      <td>3.406089e+07</td>\n",
              "      <td>58654921</td>\n",
              "      <td>10485549</td>\n",
              "      <td>0</td>\n",
              "    </tr>\n",
              "    <tr>\n",
              "      <th>4</th>\n",
              "      <td>4</td>\n",
              "      <td>858679</td>\n",
              "      <td>53</td>\n",
              "      <td>17</td>\n",
              "      <td>137267</td>\n",
              "      <td>2</td>\n",
              "      <td>2</td>\n",
              "      <td>94</td>\n",
              "      <td>214</td>\n",
              "      <td>47</td>\n",
              "      <td>47</td>\n",
              "      <td>47.000000</td>\n",
              "      <td>0.000000</td>\n",
              "      <td>107</td>\n",
              "      <td>107</td>\n",
              "      <td>107.000000</td>\n",
              "      <td>0.000000</td>\n",
              "      <td>2243.802225</td>\n",
              "      <td>29.140289</td>\n",
              "      <td>4.575567e+04</td>\n",
              "      <td>4.240885e+04</td>\n",
              "      <td>84190</td>\n",
              "      <td>259</td>\n",
              "      <td>137008</td>\n",
              "      <td>137008.0</td>\n",
              "      <td>0.000000e+00</td>\n",
              "      <td>137008</td>\n",
              "      <td>137008</td>\n",
              "      <td>84449</td>\n",
              "      <td>8.444900e+04</td>\n",
              "      <td>0.000000e+00</td>\n",
              "      <td>84449</td>\n",
              "      <td>84449</td>\n",
              "      <td>0</td>\n",
              "      <td>0</td>\n",
              "      <td>0</td>\n",
              "      <td>0</td>\n",
              "      <td>16</td>\n",
              "      <td>16</td>\n",
              "      <td>14.570144</td>\n",
              "      <td>14.570144</td>\n",
              "      <td>47</td>\n",
              "      <td>107</td>\n",
              "      <td>71.000000</td>\n",
              "      <td>32.863353</td>\n",
              "      <td>1080.000000</td>\n",
              "      <td>0</td>\n",
              "      <td>0</td>\n",
              "      <td>0</td>\n",
              "      <td>0</td>\n",
              "      <td>0</td>\n",
              "      <td>0</td>\n",
              "      <td>0</td>\n",
              "      <td>0</td>\n",
              "      <td>88.75000</td>\n",
              "      <td>47.00000</td>\n",
              "      <td>107.00000</td>\n",
              "      <td>0</td>\n",
              "      <td>0</td>\n",
              "      <td>0</td>\n",
              "      <td>0</td>\n",
              "      <td>0</td>\n",
              "      <td>0</td>\n",
              "      <td>2</td>\n",
              "      <td>94</td>\n",
              "      <td>2</td>\n",
              "      <td>214</td>\n",
              "      <td>-1</td>\n",
              "      <td>-1</td>\n",
              "      <td>1</td>\n",
              "      <td>8</td>\n",
              "      <td>0.000000e+00</td>\n",
              "      <td>0.000000e+00</td>\n",
              "      <td>0</td>\n",
              "      <td>0</td>\n",
              "      <td>0.000000e+00</td>\n",
              "      <td>0.000000e+00</td>\n",
              "      <td>0</td>\n",
              "      <td>0</td>\n",
              "      <td>0</td>\n",
              "    </tr>\n",
              "    <tr>\n",
              "      <th>...</th>\n",
              "      <td>...</td>\n",
              "      <td>...</td>\n",
              "      <td>...</td>\n",
              "      <td>...</td>\n",
              "      <td>...</td>\n",
              "      <td>...</td>\n",
              "      <td>...</td>\n",
              "      <td>...</td>\n",
              "      <td>...</td>\n",
              "      <td>...</td>\n",
              "      <td>...</td>\n",
              "      <td>...</td>\n",
              "      <td>...</td>\n",
              "      <td>...</td>\n",
              "      <td>...</td>\n",
              "      <td>...</td>\n",
              "      <td>...</td>\n",
              "      <td>...</td>\n",
              "      <td>...</td>\n",
              "      <td>...</td>\n",
              "      <td>...</td>\n",
              "      <td>...</td>\n",
              "      <td>...</td>\n",
              "      <td>...</td>\n",
              "      <td>...</td>\n",
              "      <td>...</td>\n",
              "      <td>...</td>\n",
              "      <td>...</td>\n",
              "      <td>...</td>\n",
              "      <td>...</td>\n",
              "      <td>...</td>\n",
              "      <td>...</td>\n",
              "      <td>...</td>\n",
              "      <td>...</td>\n",
              "      <td>...</td>\n",
              "      <td>...</td>\n",
              "      <td>...</td>\n",
              "      <td>...</td>\n",
              "      <td>...</td>\n",
              "      <td>...</td>\n",
              "      <td>...</td>\n",
              "      <td>...</td>\n",
              "      <td>...</td>\n",
              "      <td>...</td>\n",
              "      <td>...</td>\n",
              "      <td>...</td>\n",
              "      <td>...</td>\n",
              "      <td>...</td>\n",
              "      <td>...</td>\n",
              "      <td>...</td>\n",
              "      <td>...</td>\n",
              "      <td>...</td>\n",
              "      <td>...</td>\n",
              "      <td>...</td>\n",
              "      <td>...</td>\n",
              "      <td>...</td>\n",
              "      <td>...</td>\n",
              "      <td>...</td>\n",
              "      <td>...</td>\n",
              "      <td>...</td>\n",
              "      <td>...</td>\n",
              "      <td>...</td>\n",
              "      <td>...</td>\n",
              "      <td>...</td>\n",
              "      <td>...</td>\n",
              "      <td>...</td>\n",
              "      <td>...</td>\n",
              "      <td>...</td>\n",
              "      <td>...</td>\n",
              "      <td>...</td>\n",
              "      <td>...</td>\n",
              "      <td>...</td>\n",
              "      <td>...</td>\n",
              "      <td>...</td>\n",
              "      <td>...</td>\n",
              "      <td>...</td>\n",
              "      <td>...</td>\n",
              "      <td>...</td>\n",
              "      <td>...</td>\n",
              "      <td>...</td>\n",
              "    </tr>\n",
              "    <tr>\n",
              "      <th>531324</th>\n",
              "      <td>1250030</td>\n",
              "      <td>30587</td>\n",
              "      <td>80</td>\n",
              "      <td>6</td>\n",
              "      <td>99999918</td>\n",
              "      <td>2</td>\n",
              "      <td>2</td>\n",
              "      <td>16</td>\n",
              "      <td>0</td>\n",
              "      <td>8</td>\n",
              "      <td>8</td>\n",
              "      <td>8.000000</td>\n",
              "      <td>0.000000</td>\n",
              "      <td>0</td>\n",
              "      <td>0</td>\n",
              "      <td>0.000000</td>\n",
              "      <td>0.000000</td>\n",
              "      <td>0.160000</td>\n",
              "      <td>0.040000</td>\n",
              "      <td>3.333331e+07</td>\n",
              "      <td>5.773497e+07</td>\n",
              "      <td>99999902</td>\n",
              "      <td>2</td>\n",
              "      <td>99999916</td>\n",
              "      <td>99999920.0</td>\n",
              "      <td>0.000000e+00</td>\n",
              "      <td>99999916</td>\n",
              "      <td>99999916</td>\n",
              "      <td>99999904</td>\n",
              "      <td>9.999990e+07</td>\n",
              "      <td>0.000000e+00</td>\n",
              "      <td>99999904</td>\n",
              "      <td>99999904</td>\n",
              "      <td>1</td>\n",
              "      <td>0</td>\n",
              "      <td>0</td>\n",
              "      <td>0</td>\n",
              "      <td>64</td>\n",
              "      <td>64</td>\n",
              "      <td>0.020000</td>\n",
              "      <td>0.020000</td>\n",
              "      <td>0</td>\n",
              "      <td>8</td>\n",
              "      <td>4.800000</td>\n",
              "      <td>4.381780</td>\n",
              "      <td>19.200000</td>\n",
              "      <td>0</td>\n",
              "      <td>1</td>\n",
              "      <td>0</td>\n",
              "      <td>0</td>\n",
              "      <td>1</td>\n",
              "      <td>0</td>\n",
              "      <td>0</td>\n",
              "      <td>0</td>\n",
              "      <td>6.00000</td>\n",
              "      <td>8.00000</td>\n",
              "      <td>0.00000</td>\n",
              "      <td>0</td>\n",
              "      <td>0</td>\n",
              "      <td>0</td>\n",
              "      <td>0</td>\n",
              "      <td>0</td>\n",
              "      <td>0</td>\n",
              "      <td>2</td>\n",
              "      <td>16</td>\n",
              "      <td>2</td>\n",
              "      <td>0</td>\n",
              "      <td>211</td>\n",
              "      <td>219</td>\n",
              "      <td>1</td>\n",
              "      <td>32</td>\n",
              "      <td>1.400000e+01</td>\n",
              "      <td>0.000000e+00</td>\n",
              "      <td>14</td>\n",
              "      <td>14</td>\n",
              "      <td>9.999990e+07</td>\n",
              "      <td>0.000000e+00</td>\n",
              "      <td>99999902</td>\n",
              "      <td>99999902</td>\n",
              "      <td>1</td>\n",
              "    </tr>\n",
              "    <tr>\n",
              "      <th>531325</th>\n",
              "      <td>1250228</td>\n",
              "      <td>43793</td>\n",
              "      <td>80</td>\n",
              "      <td>6</td>\n",
              "      <td>107187709</td>\n",
              "      <td>15</td>\n",
              "      <td>3</td>\n",
              "      <td>2530</td>\n",
              "      <td>0</td>\n",
              "      <td>230</td>\n",
              "      <td>0</td>\n",
              "      <td>168.666667</td>\n",
              "      <td>105.279673</td>\n",
              "      <td>0</td>\n",
              "      <td>0</td>\n",
              "      <td>0.000000</td>\n",
              "      <td>0.000000</td>\n",
              "      <td>23.603453</td>\n",
              "      <td>0.167930</td>\n",
              "      <td>6.305159e+06</td>\n",
              "      <td>1.344263e+07</td>\n",
              "      <td>53236643</td>\n",
              "      <td>1</td>\n",
              "      <td>107187708</td>\n",
              "      <td>7656265.0</td>\n",
              "      <td>1.453533e+07</td>\n",
              "      <td>53236643</td>\n",
              "      <td>175</td>\n",
              "      <td>106161501</td>\n",
              "      <td>5.308075e+07</td>\n",
              "      <td>3.123033e+07</td>\n",
              "      <td>75163929</td>\n",
              "      <td>30997572</td>\n",
              "      <td>0</td>\n",
              "      <td>0</td>\n",
              "      <td>0</td>\n",
              "      <td>0</td>\n",
              "      <td>496</td>\n",
              "      <td>100</td>\n",
              "      <td>0.139941</td>\n",
              "      <td>0.027988</td>\n",
              "      <td>0</td>\n",
              "      <td>230</td>\n",
              "      <td>133.157895</td>\n",
              "      <td>116.669173</td>\n",
              "      <td>13611.695906</td>\n",
              "      <td>0</td>\n",
              "      <td>0</td>\n",
              "      <td>0</td>\n",
              "      <td>1</td>\n",
              "      <td>0</td>\n",
              "      <td>0</td>\n",
              "      <td>0</td>\n",
              "      <td>0</td>\n",
              "      <td>140.55556</td>\n",
              "      <td>168.66667</td>\n",
              "      <td>0.00000</td>\n",
              "      <td>0</td>\n",
              "      <td>0</td>\n",
              "      <td>0</td>\n",
              "      <td>0</td>\n",
              "      <td>0</td>\n",
              "      <td>0</td>\n",
              "      <td>15</td>\n",
              "      <td>2530</td>\n",
              "      <td>3</td>\n",
              "      <td>0</td>\n",
              "      <td>26883</td>\n",
              "      <td>0</td>\n",
              "      <td>11</td>\n",
              "      <td>32</td>\n",
              "      <td>6.149698e+06</td>\n",
              "      <td>2.040780e+06</td>\n",
              "      <td>7592748</td>\n",
              "      <td>4706649</td>\n",
              "      <td>2.372208e+07</td>\n",
              "      <td>2.064711e+07</td>\n",
              "      <td>53236643</td>\n",
              "      <td>6649249</td>\n",
              "      <td>1</td>\n",
              "    </tr>\n",
              "    <tr>\n",
              "      <th>531326</th>\n",
              "      <td>1250458</td>\n",
              "      <td>35371</td>\n",
              "      <td>80</td>\n",
              "      <td>6</td>\n",
              "      <td>107646209</td>\n",
              "      <td>14</td>\n",
              "      <td>3</td>\n",
              "      <td>2530</td>\n",
              "      <td>0</td>\n",
              "      <td>230</td>\n",
              "      <td>0</td>\n",
              "      <td>180.714286</td>\n",
              "      <td>97.937522</td>\n",
              "      <td>0</td>\n",
              "      <td>0</td>\n",
              "      <td>0.000000</td>\n",
              "      <td>0.000000</td>\n",
              "      <td>23.502918</td>\n",
              "      <td>0.157925</td>\n",
              "      <td>6.727888e+06</td>\n",
              "      <td>1.393742e+07</td>\n",
              "      <td>53247494</td>\n",
              "      <td>4</td>\n",
              "      <td>107646196</td>\n",
              "      <td>8280476.5</td>\n",
              "      <td>1.512903e+07</td>\n",
              "      <td>53247494</td>\n",
              "      <td>153</td>\n",
              "      <td>107646205</td>\n",
              "      <td>5.382310e+07</td>\n",
              "      <td>3.227701e+07</td>\n",
              "      <td>76646398</td>\n",
              "      <td>30999807</td>\n",
              "      <td>0</td>\n",
              "      <td>0</td>\n",
              "      <td>0</td>\n",
              "      <td>0</td>\n",
              "      <td>456</td>\n",
              "      <td>100</td>\n",
              "      <td>0.130056</td>\n",
              "      <td>0.027869</td>\n",
              "      <td>0</td>\n",
              "      <td>230</td>\n",
              "      <td>140.555556</td>\n",
              "      <td>115.375205</td>\n",
              "      <td>13311.437908</td>\n",
              "      <td>0</td>\n",
              "      <td>0</td>\n",
              "      <td>0</td>\n",
              "      <td>1</td>\n",
              "      <td>0</td>\n",
              "      <td>0</td>\n",
              "      <td>0</td>\n",
              "      <td>0</td>\n",
              "      <td>148.82353</td>\n",
              "      <td>180.71428</td>\n",
              "      <td>0.00000</td>\n",
              "      <td>0</td>\n",
              "      <td>0</td>\n",
              "      <td>0</td>\n",
              "      <td>0</td>\n",
              "      <td>0</td>\n",
              "      <td>0</td>\n",
              "      <td>14</td>\n",
              "      <td>2530</td>\n",
              "      <td>3</td>\n",
              "      <td>0</td>\n",
              "      <td>26883</td>\n",
              "      <td>0</td>\n",
              "      <td>11</td>\n",
              "      <td>32</td>\n",
              "      <td>5.516202e+06</td>\n",
              "      <td>1.791831e+06</td>\n",
              "      <td>6783218</td>\n",
              "      <td>4249187</td>\n",
              "      <td>2.415345e+07</td>\n",
              "      <td>2.058102e+07</td>\n",
              "      <td>53247494</td>\n",
              "      <td>6656083</td>\n",
              "      <td>1</td>\n",
              "    </tr>\n",
              "    <tr>\n",
              "      <th>531327</th>\n",
              "      <td>1250824</td>\n",
              "      <td>38708</td>\n",
              "      <td>80</td>\n",
              "      <td>6</td>\n",
              "      <td>107133998</td>\n",
              "      <td>14</td>\n",
              "      <td>3</td>\n",
              "      <td>2530</td>\n",
              "      <td>0</td>\n",
              "      <td>230</td>\n",
              "      <td>0</td>\n",
              "      <td>180.714286</td>\n",
              "      <td>97.937522</td>\n",
              "      <td>0</td>\n",
              "      <td>0</td>\n",
              "      <td>0.000000</td>\n",
              "      <td>0.000000</td>\n",
              "      <td>23.615286</td>\n",
              "      <td>0.158680</td>\n",
              "      <td>6.695875e+06</td>\n",
              "      <td>1.389733e+07</td>\n",
              "      <td>53247454</td>\n",
              "      <td>2</td>\n",
              "      <td>107133996</td>\n",
              "      <td>8241076.5</td>\n",
              "      <td>1.508724e+07</td>\n",
              "      <td>53247454</td>\n",
              "      <td>237</td>\n",
              "      <td>107133990</td>\n",
              "      <td>5.356700e+07</td>\n",
              "      <td>3.191895e+07</td>\n",
              "      <td>76137100</td>\n",
              "      <td>30996890</td>\n",
              "      <td>0</td>\n",
              "      <td>0</td>\n",
              "      <td>0</td>\n",
              "      <td>0</td>\n",
              "      <td>456</td>\n",
              "      <td>100</td>\n",
              "      <td>0.130677</td>\n",
              "      <td>0.028002</td>\n",
              "      <td>0</td>\n",
              "      <td>230</td>\n",
              "      <td>140.555556</td>\n",
              "      <td>115.375205</td>\n",
              "      <td>13311.437908</td>\n",
              "      <td>0</td>\n",
              "      <td>0</td>\n",
              "      <td>0</td>\n",
              "      <td>1</td>\n",
              "      <td>0</td>\n",
              "      <td>0</td>\n",
              "      <td>0</td>\n",
              "      <td>0</td>\n",
              "      <td>148.82353</td>\n",
              "      <td>180.71428</td>\n",
              "      <td>0.00000</td>\n",
              "      <td>0</td>\n",
              "      <td>0</td>\n",
              "      <td>0</td>\n",
              "      <td>0</td>\n",
              "      <td>0</td>\n",
              "      <td>0</td>\n",
              "      <td>14</td>\n",
              "      <td>2530</td>\n",
              "      <td>3</td>\n",
              "      <td>0</td>\n",
              "      <td>26883</td>\n",
              "      <td>0</td>\n",
              "      <td>11</td>\n",
              "      <td>32</td>\n",
              "      <td>5.515006e+06</td>\n",
              "      <td>1.793491e+06</td>\n",
              "      <td>6783195</td>\n",
              "      <td>4246816</td>\n",
              "      <td>2.402600e+07</td>\n",
              "      <td>2.058886e+07</td>\n",
              "      <td>53247454</td>\n",
              "      <td>6655803</td>\n",
              "      <td>1</td>\n",
              "    </tr>\n",
              "    <tr>\n",
              "      <th>531328</th>\n",
              "      <td>1252199</td>\n",
              "      <td>35507</td>\n",
              "      <td>80</td>\n",
              "      <td>6</td>\n",
              "      <td>107837624</td>\n",
              "      <td>15</td>\n",
              "      <td>3</td>\n",
              "      <td>2380</td>\n",
              "      <td>0</td>\n",
              "      <td>238</td>\n",
              "      <td>0</td>\n",
              "      <td>158.666667</td>\n",
              "      <td>114.994824</td>\n",
              "      <td>0</td>\n",
              "      <td>0</td>\n",
              "      <td>0.000000</td>\n",
              "      <td>0.000000</td>\n",
              "      <td>22.070219</td>\n",
              "      <td>0.166918</td>\n",
              "      <td>6.343390e+06</td>\n",
              "      <td>1.349198e+07</td>\n",
              "      <td>53247403</td>\n",
              "      <td>14</td>\n",
              "      <td>107837610</td>\n",
              "      <td>7702686.5</td>\n",
              "      <td>1.458649e+07</td>\n",
              "      <td>53247403</td>\n",
              "      <td>208</td>\n",
              "      <td>106814847</td>\n",
              "      <td>5.340742e+07</td>\n",
              "      <td>3.168955e+07</td>\n",
              "      <td>75815321</td>\n",
              "      <td>30999526</td>\n",
              "      <td>0</td>\n",
              "      <td>0</td>\n",
              "      <td>0</td>\n",
              "      <td>0</td>\n",
              "      <td>496</td>\n",
              "      <td>100</td>\n",
              "      <td>0.139098</td>\n",
              "      <td>0.027820</td>\n",
              "      <td>0</td>\n",
              "      <td>238</td>\n",
              "      <td>125.263158</td>\n",
              "      <td>121.251274</td>\n",
              "      <td>14701.871345</td>\n",
              "      <td>0</td>\n",
              "      <td>0</td>\n",
              "      <td>0</td>\n",
              "      <td>1</td>\n",
              "      <td>0</td>\n",
              "      <td>0</td>\n",
              "      <td>0</td>\n",
              "      <td>0</td>\n",
              "      <td>132.22223</td>\n",
              "      <td>158.66667</td>\n",
              "      <td>0.00000</td>\n",
              "      <td>0</td>\n",
              "      <td>0</td>\n",
              "      <td>0</td>\n",
              "      <td>0</td>\n",
              "      <td>0</td>\n",
              "      <td>0</td>\n",
              "      <td>15</td>\n",
              "      <td>2380</td>\n",
              "      <td>3</td>\n",
              "      <td>0</td>\n",
              "      <td>26883</td>\n",
              "      <td>0</td>\n",
              "      <td>11</td>\n",
              "      <td>32</td>\n",
              "      <td>6.155422e+06</td>\n",
              "      <td>2.244667e+06</td>\n",
              "      <td>7742641</td>\n",
              "      <td>4568202</td>\n",
              "      <td>2.388169e+07</td>\n",
              "      <td>2.063974e+07</td>\n",
              "      <td>53247403</td>\n",
              "      <td>6655939</td>\n",
              "      <td>1</td>\n",
              "    </tr>\n",
              "  </tbody>\n",
              "</table>\n",
              "<p>531329 rows × 80 columns</p>\n",
              "</div>"
            ],
            "text/plain": [
              "          index  Unnamed: 0  Dst Port  ...  Idle Max  Idle Min  Label\n",
              "0             0      146275      3389  ...         0         0      0\n",
              "1             1      512109       443  ...  10009249   9968397      0\n",
              "2             2      807703        53  ...         0         0      0\n",
              "3             3      491912       443  ...  58654921  10485549      0\n",
              "4             4      858679        53  ...         0         0      0\n",
              "...         ...         ...       ...  ...       ...       ...    ...\n",
              "531324  1250030       30587        80  ...  99999902  99999902      1\n",
              "531325  1250228       43793        80  ...  53236643   6649249      1\n",
              "531326  1250458       35371        80  ...  53247494   6656083      1\n",
              "531327  1250824       38708        80  ...  53247454   6655803      1\n",
              "531328  1252199       35507        80  ...  53247403   6655939      1\n",
              "\n",
              "[531329 rows x 80 columns]"
            ]
          },
          "execution_count": 85,
          "metadata": {},
          "output_type": "execute_result"
        }
      ],
      "source": [
        "dfnew"
      ]
    },
    {
      "cell_type": "code",
      "execution_count": null,
      "metadata": {
        "id": "2Q14O1gdMD0K"
      },
      "outputs": [],
      "source": [
        "data_X=df.drop(['Label','Unnamed: 0','index'],axis=1)\n",
        "data_y_trans=df['Label']"
      ]
    },
    {
      "cell_type": "code",
      "execution_count": null,
      "metadata": {
        "colab": {
          "base_uri": "https://localhost:8080/",
          "height": 496
        },
        "id": "ijLz9hx1umJw",
        "outputId": "0649a403-ccf0-4693-f4d9-e0fffd4dafc7"
      },
      "outputs": [
        {
          "data": {
            "text/html": [
              "<div>\n",
              "<style scoped>\n",
              "    .dataframe tbody tr th:only-of-type {\n",
              "        vertical-align: middle;\n",
              "    }\n",
              "\n",
              "    .dataframe tbody tr th {\n",
              "        vertical-align: top;\n",
              "    }\n",
              "\n",
              "    .dataframe thead th {\n",
              "        text-align: right;\n",
              "    }\n",
              "</style>\n",
              "<table border=\"1\" class=\"dataframe\">\n",
              "  <thead>\n",
              "    <tr style=\"text-align: right;\">\n",
              "      <th></th>\n",
              "      <th>Dst Port</th>\n",
              "      <th>Protocol</th>\n",
              "      <th>Flow Duration</th>\n",
              "      <th>Tot Fwd Pkts</th>\n",
              "      <th>Tot Bwd Pkts</th>\n",
              "      <th>TotLen Fwd Pkts</th>\n",
              "      <th>TotLen Bwd Pkts</th>\n",
              "      <th>Fwd Pkt Len Max</th>\n",
              "      <th>Fwd Pkt Len Min</th>\n",
              "      <th>Fwd Pkt Len Mean</th>\n",
              "      <th>Fwd Pkt Len Std</th>\n",
              "      <th>Bwd Pkt Len Max</th>\n",
              "      <th>Bwd Pkt Len Min</th>\n",
              "      <th>Bwd Pkt Len Mean</th>\n",
              "      <th>Bwd Pkt Len Std</th>\n",
              "      <th>Flow Byts/s</th>\n",
              "      <th>Flow Pkts/s</th>\n",
              "      <th>Flow IAT Mean</th>\n",
              "      <th>Flow IAT Std</th>\n",
              "      <th>Flow IAT Max</th>\n",
              "      <th>Flow IAT Min</th>\n",
              "      <th>Fwd IAT Tot</th>\n",
              "      <th>Fwd IAT Mean</th>\n",
              "      <th>Fwd IAT Std</th>\n",
              "      <th>Fwd IAT Max</th>\n",
              "      <th>Fwd IAT Min</th>\n",
              "      <th>Bwd IAT Tot</th>\n",
              "      <th>Bwd IAT Mean</th>\n",
              "      <th>Bwd IAT Std</th>\n",
              "      <th>Bwd IAT Max</th>\n",
              "      <th>Bwd IAT Min</th>\n",
              "      <th>Fwd PSH Flags</th>\n",
              "      <th>Bwd PSH Flags</th>\n",
              "      <th>Fwd URG Flags</th>\n",
              "      <th>Bwd URG Flags</th>\n",
              "      <th>Fwd Header Len</th>\n",
              "      <th>Bwd Header Len</th>\n",
              "      <th>Fwd Pkts/s</th>\n",
              "      <th>Bwd Pkts/s</th>\n",
              "      <th>Pkt Len Min</th>\n",
              "      <th>Pkt Len Max</th>\n",
              "      <th>Pkt Len Mean</th>\n",
              "      <th>Pkt Len Std</th>\n",
              "      <th>Pkt Len Var</th>\n",
              "      <th>FIN Flag Cnt</th>\n",
              "      <th>SYN Flag Cnt</th>\n",
              "      <th>RST Flag Cnt</th>\n",
              "      <th>PSH Flag Cnt</th>\n",
              "      <th>ACK Flag Cnt</th>\n",
              "      <th>URG Flag Cnt</th>\n",
              "      <th>CWE Flag Count</th>\n",
              "      <th>ECE Flag Cnt</th>\n",
              "      <th>Pkt Size Avg</th>\n",
              "      <th>Fwd Seg Size Avg</th>\n",
              "      <th>Bwd Seg Size Avg</th>\n",
              "      <th>Fwd Byts/b Avg</th>\n",
              "      <th>Fwd Pkts/b Avg</th>\n",
              "      <th>Fwd Blk Rate Avg</th>\n",
              "      <th>Bwd Byts/b Avg</th>\n",
              "      <th>Bwd Pkts/b Avg</th>\n",
              "      <th>Bwd Blk Rate Avg</th>\n",
              "      <th>Subflow Fwd Pkts</th>\n",
              "      <th>Subflow Fwd Byts</th>\n",
              "      <th>Subflow Bwd Pkts</th>\n",
              "      <th>Subflow Bwd Byts</th>\n",
              "      <th>Init Fwd Win Byts</th>\n",
              "      <th>Init Bwd Win Byts</th>\n",
              "      <th>Fwd Act Data Pkts</th>\n",
              "      <th>Fwd Seg Size Min</th>\n",
              "      <th>Active Mean</th>\n",
              "      <th>Active Std</th>\n",
              "      <th>Active Max</th>\n",
              "      <th>Active Min</th>\n",
              "      <th>Idle Mean</th>\n",
              "      <th>Idle Std</th>\n",
              "      <th>Idle Max</th>\n",
              "      <th>Idle Min</th>\n",
              "    </tr>\n",
              "  </thead>\n",
              "  <tbody>\n",
              "    <tr>\n",
              "      <th>0</th>\n",
              "      <td>3389</td>\n",
              "      <td>6</td>\n",
              "      <td>5206015</td>\n",
              "      <td>9</td>\n",
              "      <td>11</td>\n",
              "      <td>1213</td>\n",
              "      <td>1948</td>\n",
              "      <td>661</td>\n",
              "      <td>0</td>\n",
              "      <td>134.777778</td>\n",
              "      <td>209.079995</td>\n",
              "      <td>1173</td>\n",
              "      <td>0</td>\n",
              "      <td>177.090909</td>\n",
              "      <td>347.937194</td>\n",
              "      <td>607.182269</td>\n",
              "      <td>3.841710</td>\n",
              "      <td>2.740008e+05</td>\n",
              "      <td>4.873823e+05</td>\n",
              "      <td>1906221</td>\n",
              "      <td>54</td>\n",
              "      <td>5206015</td>\n",
              "      <td>650751.9</td>\n",
              "      <td>1.367797e+06</td>\n",
              "      <td>4024698</td>\n",
              "      <td>186</td>\n",
              "      <td>5043065</td>\n",
              "      <td>5.043065e+05</td>\n",
              "      <td>5.916400e+05</td>\n",
              "      <td>1906221</td>\n",
              "      <td>46378</td>\n",
              "      <td>0</td>\n",
              "      <td>0</td>\n",
              "      <td>0</td>\n",
              "      <td>0</td>\n",
              "      <td>192</td>\n",
              "      <td>244</td>\n",
              "      <td>1.728770</td>\n",
              "      <td>2.112941</td>\n",
              "      <td>0</td>\n",
              "      <td>1173</td>\n",
              "      <td>150.523810</td>\n",
              "      <td>282.220768</td>\n",
              "      <td>79648.561905</td>\n",
              "      <td>0</td>\n",
              "      <td>0</td>\n",
              "      <td>1</td>\n",
              "      <td>1</td>\n",
              "      <td>0</td>\n",
              "      <td>0</td>\n",
              "      <td>0</td>\n",
              "      <td>1</td>\n",
              "      <td>158.05000</td>\n",
              "      <td>134.77777</td>\n",
              "      <td>177.09091</td>\n",
              "      <td>0</td>\n",
              "      <td>0</td>\n",
              "      <td>0</td>\n",
              "      <td>0</td>\n",
              "      <td>0</td>\n",
              "      <td>0</td>\n",
              "      <td>9</td>\n",
              "      <td>1213</td>\n",
              "      <td>11</td>\n",
              "      <td>1948</td>\n",
              "      <td>8192</td>\n",
              "      <td>62872</td>\n",
              "      <td>6</td>\n",
              "      <td>20</td>\n",
              "      <td>0.000000e+00</td>\n",
              "      <td>0.000000e+00</td>\n",
              "      <td>0</td>\n",
              "      <td>0</td>\n",
              "      <td>0.000000e+00</td>\n",
              "      <td>0.000000e+00</td>\n",
              "      <td>0</td>\n",
              "      <td>0</td>\n",
              "    </tr>\n",
              "    <tr>\n",
              "      <th>1</th>\n",
              "      <td>443</td>\n",
              "      <td>6</td>\n",
              "      <td>60991608</td>\n",
              "      <td>14</td>\n",
              "      <td>14</td>\n",
              "      <td>1211</td>\n",
              "      <td>3396</td>\n",
              "      <td>875</td>\n",
              "      <td>0</td>\n",
              "      <td>86.500000</td>\n",
              "      <td>235.073066</td>\n",
              "      <td>1460</td>\n",
              "      <td>0</td>\n",
              "      <td>242.571429</td>\n",
              "      <td>520.660485</td>\n",
              "      <td>75.534982</td>\n",
              "      <td>0.459080</td>\n",
              "      <td>2.258948e+06</td>\n",
              "      <td>4.218116e+06</td>\n",
              "      <td>10009249</td>\n",
              "      <td>1</td>\n",
              "      <td>60991608</td>\n",
              "      <td>4691662.0</td>\n",
              "      <td>5.173112e+06</td>\n",
              "      <td>10077768</td>\n",
              "      <td>265</td>\n",
              "      <td>60922977</td>\n",
              "      <td>4.686383e+06</td>\n",
              "      <td>5.195334e+06</td>\n",
              "      <td>10080219</td>\n",
              "      <td>1</td>\n",
              "      <td>0</td>\n",
              "      <td>0</td>\n",
              "      <td>0</td>\n",
              "      <td>0</td>\n",
              "      <td>292</td>\n",
              "      <td>364</td>\n",
              "      <td>0.229540</td>\n",
              "      <td>0.229540</td>\n",
              "      <td>0</td>\n",
              "      <td>1460</td>\n",
              "      <td>158.862069</td>\n",
              "      <td>398.172318</td>\n",
              "      <td>158541.194581</td>\n",
              "      <td>0</td>\n",
              "      <td>0</td>\n",
              "      <td>0</td>\n",
              "      <td>1</td>\n",
              "      <td>0</td>\n",
              "      <td>0</td>\n",
              "      <td>0</td>\n",
              "      <td>0</td>\n",
              "      <td>164.53572</td>\n",
              "      <td>86.50000</td>\n",
              "      <td>242.57143</td>\n",
              "      <td>0</td>\n",
              "      <td>0</td>\n",
              "      <td>0</td>\n",
              "      <td>0</td>\n",
              "      <td>0</td>\n",
              "      <td>0</td>\n",
              "      <td>14</td>\n",
              "      <td>1211</td>\n",
              "      <td>14</td>\n",
              "      <td>3396</td>\n",
              "      <td>8192</td>\n",
              "      <td>117</td>\n",
              "      <td>9</td>\n",
              "      <td>20</td>\n",
              "      <td>1.165047e+05</td>\n",
              "      <td>1.174018e+05</td>\n",
              "      <td>356150</td>\n",
              "      <td>68519</td>\n",
              "      <td>1.000239e+07</td>\n",
              "      <td>1.665183e+04</td>\n",
              "      <td>10009249</td>\n",
              "      <td>9968397</td>\n",
              "    </tr>\n",
              "    <tr>\n",
              "      <th>2</th>\n",
              "      <td>53</td>\n",
              "      <td>17</td>\n",
              "      <td>27292</td>\n",
              "      <td>1</td>\n",
              "      <td>1</td>\n",
              "      <td>45</td>\n",
              "      <td>163</td>\n",
              "      <td>45</td>\n",
              "      <td>45</td>\n",
              "      <td>45.000000</td>\n",
              "      <td>0.000000</td>\n",
              "      <td>163</td>\n",
              "      <td>163</td>\n",
              "      <td>163.000000</td>\n",
              "      <td>0.000000</td>\n",
              "      <td>7621.280961</td>\n",
              "      <td>73.281548</td>\n",
              "      <td>2.729200e+04</td>\n",
              "      <td>0.000000e+00</td>\n",
              "      <td>27292</td>\n",
              "      <td>27292</td>\n",
              "      <td>0</td>\n",
              "      <td>0.0</td>\n",
              "      <td>0.000000e+00</td>\n",
              "      <td>0</td>\n",
              "      <td>0</td>\n",
              "      <td>0</td>\n",
              "      <td>0.000000e+00</td>\n",
              "      <td>0.000000e+00</td>\n",
              "      <td>0</td>\n",
              "      <td>0</td>\n",
              "      <td>0</td>\n",
              "      <td>0</td>\n",
              "      <td>0</td>\n",
              "      <td>0</td>\n",
              "      <td>8</td>\n",
              "      <td>8</td>\n",
              "      <td>36.640774</td>\n",
              "      <td>36.640774</td>\n",
              "      <td>45</td>\n",
              "      <td>163</td>\n",
              "      <td>84.333333</td>\n",
              "      <td>68.127332</td>\n",
              "      <td>4641.333333</td>\n",
              "      <td>0</td>\n",
              "      <td>0</td>\n",
              "      <td>0</td>\n",
              "      <td>0</td>\n",
              "      <td>0</td>\n",
              "      <td>0</td>\n",
              "      <td>0</td>\n",
              "      <td>0</td>\n",
              "      <td>126.50000</td>\n",
              "      <td>45.00000</td>\n",
              "      <td>163.00000</td>\n",
              "      <td>0</td>\n",
              "      <td>0</td>\n",
              "      <td>0</td>\n",
              "      <td>0</td>\n",
              "      <td>0</td>\n",
              "      <td>0</td>\n",
              "      <td>1</td>\n",
              "      <td>45</td>\n",
              "      <td>1</td>\n",
              "      <td>163</td>\n",
              "      <td>-1</td>\n",
              "      <td>-1</td>\n",
              "      <td>0</td>\n",
              "      <td>8</td>\n",
              "      <td>0.000000e+00</td>\n",
              "      <td>0.000000e+00</td>\n",
              "      <td>0</td>\n",
              "      <td>0</td>\n",
              "      <td>0.000000e+00</td>\n",
              "      <td>0.000000e+00</td>\n",
              "      <td>0</td>\n",
              "      <td>0</td>\n",
              "    </tr>\n",
              "    <tr>\n",
              "      <th>3</th>\n",
              "      <td>443</td>\n",
              "      <td>6</td>\n",
              "      <td>70343424</td>\n",
              "      <td>17</td>\n",
              "      <td>20</td>\n",
              "      <td>1118</td>\n",
              "      <td>5653</td>\n",
              "      <td>258</td>\n",
              "      <td>0</td>\n",
              "      <td>65.764706</td>\n",
              "      <td>88.989837</td>\n",
              "      <td>1430</td>\n",
              "      <td>0</td>\n",
              "      <td>282.650000</td>\n",
              "      <td>445.753682</td>\n",
              "      <td>96.256332</td>\n",
              "      <td>0.525991</td>\n",
              "      <td>1.953984e+06</td>\n",
              "      <td>9.874980e+06</td>\n",
              "      <td>58654921</td>\n",
              "      <td>8</td>\n",
              "      <td>70343424</td>\n",
              "      <td>4396464.0</td>\n",
              "      <td>1.474216e+07</td>\n",
              "      <td>58790474</td>\n",
              "      <td>142</td>\n",
              "      <td>70195940</td>\n",
              "      <td>3.694523e+06</td>\n",
              "      <td>1.354913e+07</td>\n",
              "      <td>58750691</td>\n",
              "      <td>13</td>\n",
              "      <td>0</td>\n",
              "      <td>0</td>\n",
              "      <td>0</td>\n",
              "      <td>0</td>\n",
              "      <td>352</td>\n",
              "      <td>412</td>\n",
              "      <td>0.241671</td>\n",
              "      <td>0.284319</td>\n",
              "      <td>0</td>\n",
              "      <td>1430</td>\n",
              "      <td>178.184211</td>\n",
              "      <td>343.542661</td>\n",
              "      <td>118021.559744</td>\n",
              "      <td>0</td>\n",
              "      <td>0</td>\n",
              "      <td>0</td>\n",
              "      <td>1</td>\n",
              "      <td>0</td>\n",
              "      <td>0</td>\n",
              "      <td>0</td>\n",
              "      <td>0</td>\n",
              "      <td>183.00000</td>\n",
              "      <td>65.76471</td>\n",
              "      <td>282.65000</td>\n",
              "      <td>0</td>\n",
              "      <td>0</td>\n",
              "      <td>0</td>\n",
              "      <td>0</td>\n",
              "      <td>0</td>\n",
              "      <td>0</td>\n",
              "      <td>17</td>\n",
              "      <td>1118</td>\n",
              "      <td>20</td>\n",
              "      <td>5653</td>\n",
              "      <td>8192</td>\n",
              "      <td>184</td>\n",
              "      <td>9</td>\n",
              "      <td>20</td>\n",
              "      <td>5.276835e+05</td>\n",
              "      <td>3.863115e+05</td>\n",
              "      <td>800847</td>\n",
              "      <td>254520</td>\n",
              "      <td>3.457024e+07</td>\n",
              "      <td>3.406089e+07</td>\n",
              "      <td>58654921</td>\n",
              "      <td>10485549</td>\n",
              "    </tr>\n",
              "    <tr>\n",
              "      <th>4</th>\n",
              "      <td>53</td>\n",
              "      <td>17</td>\n",
              "      <td>137267</td>\n",
              "      <td>2</td>\n",
              "      <td>2</td>\n",
              "      <td>94</td>\n",
              "      <td>214</td>\n",
              "      <td>47</td>\n",
              "      <td>47</td>\n",
              "      <td>47.000000</td>\n",
              "      <td>0.000000</td>\n",
              "      <td>107</td>\n",
              "      <td>107</td>\n",
              "      <td>107.000000</td>\n",
              "      <td>0.000000</td>\n",
              "      <td>2243.802225</td>\n",
              "      <td>29.140289</td>\n",
              "      <td>4.575567e+04</td>\n",
              "      <td>4.240885e+04</td>\n",
              "      <td>84190</td>\n",
              "      <td>259</td>\n",
              "      <td>137008</td>\n",
              "      <td>137008.0</td>\n",
              "      <td>0.000000e+00</td>\n",
              "      <td>137008</td>\n",
              "      <td>137008</td>\n",
              "      <td>84449</td>\n",
              "      <td>8.444900e+04</td>\n",
              "      <td>0.000000e+00</td>\n",
              "      <td>84449</td>\n",
              "      <td>84449</td>\n",
              "      <td>0</td>\n",
              "      <td>0</td>\n",
              "      <td>0</td>\n",
              "      <td>0</td>\n",
              "      <td>16</td>\n",
              "      <td>16</td>\n",
              "      <td>14.570144</td>\n",
              "      <td>14.570144</td>\n",
              "      <td>47</td>\n",
              "      <td>107</td>\n",
              "      <td>71.000000</td>\n",
              "      <td>32.863353</td>\n",
              "      <td>1080.000000</td>\n",
              "      <td>0</td>\n",
              "      <td>0</td>\n",
              "      <td>0</td>\n",
              "      <td>0</td>\n",
              "      <td>0</td>\n",
              "      <td>0</td>\n",
              "      <td>0</td>\n",
              "      <td>0</td>\n",
              "      <td>88.75000</td>\n",
              "      <td>47.00000</td>\n",
              "      <td>107.00000</td>\n",
              "      <td>0</td>\n",
              "      <td>0</td>\n",
              "      <td>0</td>\n",
              "      <td>0</td>\n",
              "      <td>0</td>\n",
              "      <td>0</td>\n",
              "      <td>2</td>\n",
              "      <td>94</td>\n",
              "      <td>2</td>\n",
              "      <td>214</td>\n",
              "      <td>-1</td>\n",
              "      <td>-1</td>\n",
              "      <td>1</td>\n",
              "      <td>8</td>\n",
              "      <td>0.000000e+00</td>\n",
              "      <td>0.000000e+00</td>\n",
              "      <td>0</td>\n",
              "      <td>0</td>\n",
              "      <td>0.000000e+00</td>\n",
              "      <td>0.000000e+00</td>\n",
              "      <td>0</td>\n",
              "      <td>0</td>\n",
              "    </tr>\n",
              "    <tr>\n",
              "      <th>...</th>\n",
              "      <td>...</td>\n",
              "      <td>...</td>\n",
              "      <td>...</td>\n",
              "      <td>...</td>\n",
              "      <td>...</td>\n",
              "      <td>...</td>\n",
              "      <td>...</td>\n",
              "      <td>...</td>\n",
              "      <td>...</td>\n",
              "      <td>...</td>\n",
              "      <td>...</td>\n",
              "      <td>...</td>\n",
              "      <td>...</td>\n",
              "      <td>...</td>\n",
              "      <td>...</td>\n",
              "      <td>...</td>\n",
              "      <td>...</td>\n",
              "      <td>...</td>\n",
              "      <td>...</td>\n",
              "      <td>...</td>\n",
              "      <td>...</td>\n",
              "      <td>...</td>\n",
              "      <td>...</td>\n",
              "      <td>...</td>\n",
              "      <td>...</td>\n",
              "      <td>...</td>\n",
              "      <td>...</td>\n",
              "      <td>...</td>\n",
              "      <td>...</td>\n",
              "      <td>...</td>\n",
              "      <td>...</td>\n",
              "      <td>...</td>\n",
              "      <td>...</td>\n",
              "      <td>...</td>\n",
              "      <td>...</td>\n",
              "      <td>...</td>\n",
              "      <td>...</td>\n",
              "      <td>...</td>\n",
              "      <td>...</td>\n",
              "      <td>...</td>\n",
              "      <td>...</td>\n",
              "      <td>...</td>\n",
              "      <td>...</td>\n",
              "      <td>...</td>\n",
              "      <td>...</td>\n",
              "      <td>...</td>\n",
              "      <td>...</td>\n",
              "      <td>...</td>\n",
              "      <td>...</td>\n",
              "      <td>...</td>\n",
              "      <td>...</td>\n",
              "      <td>...</td>\n",
              "      <td>...</td>\n",
              "      <td>...</td>\n",
              "      <td>...</td>\n",
              "      <td>...</td>\n",
              "      <td>...</td>\n",
              "      <td>...</td>\n",
              "      <td>...</td>\n",
              "      <td>...</td>\n",
              "      <td>...</td>\n",
              "      <td>...</td>\n",
              "      <td>...</td>\n",
              "      <td>...</td>\n",
              "      <td>...</td>\n",
              "      <td>...</td>\n",
              "      <td>...</td>\n",
              "      <td>...</td>\n",
              "      <td>...</td>\n",
              "      <td>...</td>\n",
              "      <td>...</td>\n",
              "      <td>...</td>\n",
              "      <td>...</td>\n",
              "      <td>...</td>\n",
              "      <td>...</td>\n",
              "      <td>...</td>\n",
              "      <td>...</td>\n",
              "    </tr>\n",
              "    <tr>\n",
              "      <th>531324</th>\n",
              "      <td>80</td>\n",
              "      <td>6</td>\n",
              "      <td>99999918</td>\n",
              "      <td>2</td>\n",
              "      <td>2</td>\n",
              "      <td>16</td>\n",
              "      <td>0</td>\n",
              "      <td>8</td>\n",
              "      <td>8</td>\n",
              "      <td>8.000000</td>\n",
              "      <td>0.000000</td>\n",
              "      <td>0</td>\n",
              "      <td>0</td>\n",
              "      <td>0.000000</td>\n",
              "      <td>0.000000</td>\n",
              "      <td>0.160000</td>\n",
              "      <td>0.040000</td>\n",
              "      <td>3.333331e+07</td>\n",
              "      <td>5.773497e+07</td>\n",
              "      <td>99999902</td>\n",
              "      <td>2</td>\n",
              "      <td>99999916</td>\n",
              "      <td>99999920.0</td>\n",
              "      <td>0.000000e+00</td>\n",
              "      <td>99999916</td>\n",
              "      <td>99999916</td>\n",
              "      <td>99999904</td>\n",
              "      <td>9.999990e+07</td>\n",
              "      <td>0.000000e+00</td>\n",
              "      <td>99999904</td>\n",
              "      <td>99999904</td>\n",
              "      <td>1</td>\n",
              "      <td>0</td>\n",
              "      <td>0</td>\n",
              "      <td>0</td>\n",
              "      <td>64</td>\n",
              "      <td>64</td>\n",
              "      <td>0.020000</td>\n",
              "      <td>0.020000</td>\n",
              "      <td>0</td>\n",
              "      <td>8</td>\n",
              "      <td>4.800000</td>\n",
              "      <td>4.381780</td>\n",
              "      <td>19.200000</td>\n",
              "      <td>0</td>\n",
              "      <td>1</td>\n",
              "      <td>0</td>\n",
              "      <td>0</td>\n",
              "      <td>1</td>\n",
              "      <td>0</td>\n",
              "      <td>0</td>\n",
              "      <td>0</td>\n",
              "      <td>6.00000</td>\n",
              "      <td>8.00000</td>\n",
              "      <td>0.00000</td>\n",
              "      <td>0</td>\n",
              "      <td>0</td>\n",
              "      <td>0</td>\n",
              "      <td>0</td>\n",
              "      <td>0</td>\n",
              "      <td>0</td>\n",
              "      <td>2</td>\n",
              "      <td>16</td>\n",
              "      <td>2</td>\n",
              "      <td>0</td>\n",
              "      <td>211</td>\n",
              "      <td>219</td>\n",
              "      <td>1</td>\n",
              "      <td>32</td>\n",
              "      <td>1.400000e+01</td>\n",
              "      <td>0.000000e+00</td>\n",
              "      <td>14</td>\n",
              "      <td>14</td>\n",
              "      <td>9.999990e+07</td>\n",
              "      <td>0.000000e+00</td>\n",
              "      <td>99999902</td>\n",
              "      <td>99999902</td>\n",
              "    </tr>\n",
              "    <tr>\n",
              "      <th>531325</th>\n",
              "      <td>80</td>\n",
              "      <td>6</td>\n",
              "      <td>107187709</td>\n",
              "      <td>15</td>\n",
              "      <td>3</td>\n",
              "      <td>2530</td>\n",
              "      <td>0</td>\n",
              "      <td>230</td>\n",
              "      <td>0</td>\n",
              "      <td>168.666667</td>\n",
              "      <td>105.279673</td>\n",
              "      <td>0</td>\n",
              "      <td>0</td>\n",
              "      <td>0.000000</td>\n",
              "      <td>0.000000</td>\n",
              "      <td>23.603453</td>\n",
              "      <td>0.167930</td>\n",
              "      <td>6.305159e+06</td>\n",
              "      <td>1.344263e+07</td>\n",
              "      <td>53236643</td>\n",
              "      <td>1</td>\n",
              "      <td>107187708</td>\n",
              "      <td>7656265.0</td>\n",
              "      <td>1.453533e+07</td>\n",
              "      <td>53236643</td>\n",
              "      <td>175</td>\n",
              "      <td>106161501</td>\n",
              "      <td>5.308075e+07</td>\n",
              "      <td>3.123033e+07</td>\n",
              "      <td>75163929</td>\n",
              "      <td>30997572</td>\n",
              "      <td>0</td>\n",
              "      <td>0</td>\n",
              "      <td>0</td>\n",
              "      <td>0</td>\n",
              "      <td>496</td>\n",
              "      <td>100</td>\n",
              "      <td>0.139941</td>\n",
              "      <td>0.027988</td>\n",
              "      <td>0</td>\n",
              "      <td>230</td>\n",
              "      <td>133.157895</td>\n",
              "      <td>116.669173</td>\n",
              "      <td>13611.695906</td>\n",
              "      <td>0</td>\n",
              "      <td>0</td>\n",
              "      <td>0</td>\n",
              "      <td>1</td>\n",
              "      <td>0</td>\n",
              "      <td>0</td>\n",
              "      <td>0</td>\n",
              "      <td>0</td>\n",
              "      <td>140.55556</td>\n",
              "      <td>168.66667</td>\n",
              "      <td>0.00000</td>\n",
              "      <td>0</td>\n",
              "      <td>0</td>\n",
              "      <td>0</td>\n",
              "      <td>0</td>\n",
              "      <td>0</td>\n",
              "      <td>0</td>\n",
              "      <td>15</td>\n",
              "      <td>2530</td>\n",
              "      <td>3</td>\n",
              "      <td>0</td>\n",
              "      <td>26883</td>\n",
              "      <td>0</td>\n",
              "      <td>11</td>\n",
              "      <td>32</td>\n",
              "      <td>6.149698e+06</td>\n",
              "      <td>2.040780e+06</td>\n",
              "      <td>7592748</td>\n",
              "      <td>4706649</td>\n",
              "      <td>2.372208e+07</td>\n",
              "      <td>2.064711e+07</td>\n",
              "      <td>53236643</td>\n",
              "      <td>6649249</td>\n",
              "    </tr>\n",
              "    <tr>\n",
              "      <th>531326</th>\n",
              "      <td>80</td>\n",
              "      <td>6</td>\n",
              "      <td>107646209</td>\n",
              "      <td>14</td>\n",
              "      <td>3</td>\n",
              "      <td>2530</td>\n",
              "      <td>0</td>\n",
              "      <td>230</td>\n",
              "      <td>0</td>\n",
              "      <td>180.714286</td>\n",
              "      <td>97.937522</td>\n",
              "      <td>0</td>\n",
              "      <td>0</td>\n",
              "      <td>0.000000</td>\n",
              "      <td>0.000000</td>\n",
              "      <td>23.502918</td>\n",
              "      <td>0.157925</td>\n",
              "      <td>6.727888e+06</td>\n",
              "      <td>1.393742e+07</td>\n",
              "      <td>53247494</td>\n",
              "      <td>4</td>\n",
              "      <td>107646196</td>\n",
              "      <td>8280476.5</td>\n",
              "      <td>1.512903e+07</td>\n",
              "      <td>53247494</td>\n",
              "      <td>153</td>\n",
              "      <td>107646205</td>\n",
              "      <td>5.382310e+07</td>\n",
              "      <td>3.227701e+07</td>\n",
              "      <td>76646398</td>\n",
              "      <td>30999807</td>\n",
              "      <td>0</td>\n",
              "      <td>0</td>\n",
              "      <td>0</td>\n",
              "      <td>0</td>\n",
              "      <td>456</td>\n",
              "      <td>100</td>\n",
              "      <td>0.130056</td>\n",
              "      <td>0.027869</td>\n",
              "      <td>0</td>\n",
              "      <td>230</td>\n",
              "      <td>140.555556</td>\n",
              "      <td>115.375205</td>\n",
              "      <td>13311.437908</td>\n",
              "      <td>0</td>\n",
              "      <td>0</td>\n",
              "      <td>0</td>\n",
              "      <td>1</td>\n",
              "      <td>0</td>\n",
              "      <td>0</td>\n",
              "      <td>0</td>\n",
              "      <td>0</td>\n",
              "      <td>148.82353</td>\n",
              "      <td>180.71428</td>\n",
              "      <td>0.00000</td>\n",
              "      <td>0</td>\n",
              "      <td>0</td>\n",
              "      <td>0</td>\n",
              "      <td>0</td>\n",
              "      <td>0</td>\n",
              "      <td>0</td>\n",
              "      <td>14</td>\n",
              "      <td>2530</td>\n",
              "      <td>3</td>\n",
              "      <td>0</td>\n",
              "      <td>26883</td>\n",
              "      <td>0</td>\n",
              "      <td>11</td>\n",
              "      <td>32</td>\n",
              "      <td>5.516202e+06</td>\n",
              "      <td>1.791831e+06</td>\n",
              "      <td>6783218</td>\n",
              "      <td>4249187</td>\n",
              "      <td>2.415345e+07</td>\n",
              "      <td>2.058102e+07</td>\n",
              "      <td>53247494</td>\n",
              "      <td>6656083</td>\n",
              "    </tr>\n",
              "    <tr>\n",
              "      <th>531327</th>\n",
              "      <td>80</td>\n",
              "      <td>6</td>\n",
              "      <td>107133998</td>\n",
              "      <td>14</td>\n",
              "      <td>3</td>\n",
              "      <td>2530</td>\n",
              "      <td>0</td>\n",
              "      <td>230</td>\n",
              "      <td>0</td>\n",
              "      <td>180.714286</td>\n",
              "      <td>97.937522</td>\n",
              "      <td>0</td>\n",
              "      <td>0</td>\n",
              "      <td>0.000000</td>\n",
              "      <td>0.000000</td>\n",
              "      <td>23.615286</td>\n",
              "      <td>0.158680</td>\n",
              "      <td>6.695875e+06</td>\n",
              "      <td>1.389733e+07</td>\n",
              "      <td>53247454</td>\n",
              "      <td>2</td>\n",
              "      <td>107133996</td>\n",
              "      <td>8241076.5</td>\n",
              "      <td>1.508724e+07</td>\n",
              "      <td>53247454</td>\n",
              "      <td>237</td>\n",
              "      <td>107133990</td>\n",
              "      <td>5.356700e+07</td>\n",
              "      <td>3.191895e+07</td>\n",
              "      <td>76137100</td>\n",
              "      <td>30996890</td>\n",
              "      <td>0</td>\n",
              "      <td>0</td>\n",
              "      <td>0</td>\n",
              "      <td>0</td>\n",
              "      <td>456</td>\n",
              "      <td>100</td>\n",
              "      <td>0.130677</td>\n",
              "      <td>0.028002</td>\n",
              "      <td>0</td>\n",
              "      <td>230</td>\n",
              "      <td>140.555556</td>\n",
              "      <td>115.375205</td>\n",
              "      <td>13311.437908</td>\n",
              "      <td>0</td>\n",
              "      <td>0</td>\n",
              "      <td>0</td>\n",
              "      <td>1</td>\n",
              "      <td>0</td>\n",
              "      <td>0</td>\n",
              "      <td>0</td>\n",
              "      <td>0</td>\n",
              "      <td>148.82353</td>\n",
              "      <td>180.71428</td>\n",
              "      <td>0.00000</td>\n",
              "      <td>0</td>\n",
              "      <td>0</td>\n",
              "      <td>0</td>\n",
              "      <td>0</td>\n",
              "      <td>0</td>\n",
              "      <td>0</td>\n",
              "      <td>14</td>\n",
              "      <td>2530</td>\n",
              "      <td>3</td>\n",
              "      <td>0</td>\n",
              "      <td>26883</td>\n",
              "      <td>0</td>\n",
              "      <td>11</td>\n",
              "      <td>32</td>\n",
              "      <td>5.515006e+06</td>\n",
              "      <td>1.793491e+06</td>\n",
              "      <td>6783195</td>\n",
              "      <td>4246816</td>\n",
              "      <td>2.402600e+07</td>\n",
              "      <td>2.058886e+07</td>\n",
              "      <td>53247454</td>\n",
              "      <td>6655803</td>\n",
              "    </tr>\n",
              "    <tr>\n",
              "      <th>531328</th>\n",
              "      <td>80</td>\n",
              "      <td>6</td>\n",
              "      <td>107837624</td>\n",
              "      <td>15</td>\n",
              "      <td>3</td>\n",
              "      <td>2380</td>\n",
              "      <td>0</td>\n",
              "      <td>238</td>\n",
              "      <td>0</td>\n",
              "      <td>158.666667</td>\n",
              "      <td>114.994824</td>\n",
              "      <td>0</td>\n",
              "      <td>0</td>\n",
              "      <td>0.000000</td>\n",
              "      <td>0.000000</td>\n",
              "      <td>22.070219</td>\n",
              "      <td>0.166918</td>\n",
              "      <td>6.343390e+06</td>\n",
              "      <td>1.349198e+07</td>\n",
              "      <td>53247403</td>\n",
              "      <td>14</td>\n",
              "      <td>107837610</td>\n",
              "      <td>7702686.5</td>\n",
              "      <td>1.458649e+07</td>\n",
              "      <td>53247403</td>\n",
              "      <td>208</td>\n",
              "      <td>106814847</td>\n",
              "      <td>5.340742e+07</td>\n",
              "      <td>3.168955e+07</td>\n",
              "      <td>75815321</td>\n",
              "      <td>30999526</td>\n",
              "      <td>0</td>\n",
              "      <td>0</td>\n",
              "      <td>0</td>\n",
              "      <td>0</td>\n",
              "      <td>496</td>\n",
              "      <td>100</td>\n",
              "      <td>0.139098</td>\n",
              "      <td>0.027820</td>\n",
              "      <td>0</td>\n",
              "      <td>238</td>\n",
              "      <td>125.263158</td>\n",
              "      <td>121.251274</td>\n",
              "      <td>14701.871345</td>\n",
              "      <td>0</td>\n",
              "      <td>0</td>\n",
              "      <td>0</td>\n",
              "      <td>1</td>\n",
              "      <td>0</td>\n",
              "      <td>0</td>\n",
              "      <td>0</td>\n",
              "      <td>0</td>\n",
              "      <td>132.22223</td>\n",
              "      <td>158.66667</td>\n",
              "      <td>0.00000</td>\n",
              "      <td>0</td>\n",
              "      <td>0</td>\n",
              "      <td>0</td>\n",
              "      <td>0</td>\n",
              "      <td>0</td>\n",
              "      <td>0</td>\n",
              "      <td>15</td>\n",
              "      <td>2380</td>\n",
              "      <td>3</td>\n",
              "      <td>0</td>\n",
              "      <td>26883</td>\n",
              "      <td>0</td>\n",
              "      <td>11</td>\n",
              "      <td>32</td>\n",
              "      <td>6.155422e+06</td>\n",
              "      <td>2.244667e+06</td>\n",
              "      <td>7742641</td>\n",
              "      <td>4568202</td>\n",
              "      <td>2.388169e+07</td>\n",
              "      <td>2.063974e+07</td>\n",
              "      <td>53247403</td>\n",
              "      <td>6655939</td>\n",
              "    </tr>\n",
              "  </tbody>\n",
              "</table>\n",
              "<p>531329 rows × 77 columns</p>\n",
              "</div>"
            ],
            "text/plain": [
              "        Dst Port  Protocol  Flow Duration  ...      Idle Std  Idle Max  Idle Min\n",
              "0           3389         6        5206015  ...  0.000000e+00         0         0\n",
              "1            443         6       60991608  ...  1.665183e+04  10009249   9968397\n",
              "2             53        17          27292  ...  0.000000e+00         0         0\n",
              "3            443         6       70343424  ...  3.406089e+07  58654921  10485549\n",
              "4             53        17         137267  ...  0.000000e+00         0         0\n",
              "...          ...       ...            ...  ...           ...       ...       ...\n",
              "531324        80         6       99999918  ...  0.000000e+00  99999902  99999902\n",
              "531325        80         6      107187709  ...  2.064711e+07  53236643   6649249\n",
              "531326        80         6      107646209  ...  2.058102e+07  53247494   6656083\n",
              "531327        80         6      107133998  ...  2.058886e+07  53247454   6655803\n",
              "531328        80         6      107837624  ...  2.063974e+07  53247403   6655939\n",
              "\n",
              "[531329 rows x 77 columns]"
            ]
          },
          "execution_count": 11,
          "metadata": {},
          "output_type": "execute_result"
        }
      ],
      "source": [
        "data_X"
      ]
    },
    {
      "cell_type": "code",
      "execution_count": null,
      "metadata": {
        "colab": {
          "base_uri": "https://localhost:8080/"
        },
        "id": "GhpJJqWSzPoF",
        "outputId": "de98c122-bee4-4f5d-89fc-b5e9853002fa"
      },
      "outputs": [
        {
          "data": {
            "text/plain": [
              "0         1\n",
              "1         1\n",
              "2         1\n",
              "3         1\n",
              "4         1\n",
              "         ..\n",
              "531324    0\n",
              "531325    0\n",
              "531326    0\n",
              "531327    0\n",
              "531328    0\n",
              "Name: Label, Length: 531329, dtype: int64"
            ]
          },
          "execution_count": 12,
          "metadata": {},
          "output_type": "execute_result"
        }
      ],
      "source": [
        "data_y_trans"
      ]
    },
    {
      "cell_type": "markdown",
      "metadata": {
        "id": "-OdgVnSBMjNw"
      },
      "source": [
        "#FEATURE SELECTION"
      ]
    },
    {
      "cell_type": "code",
      "execution_count": null,
      "metadata": {
        "colab": {
          "base_uri": "https://localhost:8080/"
        },
        "id": "Tq44e93BWIeJ",
        "outputId": "a8d16259-0d9b-4bf6-af6f-c571280c8eb6"
      },
      "outputs": [
        {
          "data": {
            "text/plain": [
              "ExtraTreesClassifier(random_state=42)"
            ]
          },
          "execution_count": 12,
          "metadata": {},
          "output_type": "execute_result"
        }
      ],
      "source": [
        "from sklearn.feature_selection import chi2 \n",
        "from sklearn.feature_selection import SelectKBest \n",
        "from sklearn.ensemble import ExtraTreesClassifier\n",
        "\n",
        "#selecting 20 best features\n",
        "# select_best= SelectKBest(chi2, k=20)\n",
        "# X_feat_20 = select_best.fit_transform(data_X, data_y_trans)\n",
        "# X_feat_20.shape\n",
        "\n",
        "model = ExtraTreesClassifier(random_state=42)\n",
        "model.fit(data_X, data_y_trans)"
      ]
    },
    {
      "cell_type": "code",
      "execution_count": null,
      "metadata": {
        "colab": {
          "base_uri": "https://localhost:8080/"
        },
        "id": "YCTvOdV4NUiO",
        "outputId": "f4f43356-57c2-4545-8dc6-07a31cabf067"
      },
      "outputs": [
        {
          "data": {
            "text/plain": [
              "array([8.96858621e-02, 1.92499851e-02, 1.72006178e-02, 5.92156936e-03,\n",
              "       7.13979655e-03, 5.34618682e-03, 4.01865561e-03, 1.11183201e-02,\n",
              "       1.86384436e-03, 6.38420381e-03, 7.32875698e-03, 2.39268396e-02,\n",
              "       2.38083399e-03, 1.55229710e-02, 1.56207689e-02, 2.18309172e-03,\n",
              "       3.54079896e-02, 9.05489590e-03, 4.82884176e-03, 1.04269307e-02,\n",
              "       8.61745154e-03, 1.33909873e-02, 6.84754813e-03, 3.35720588e-03,\n",
              "       9.35949908e-03, 6.58020753e-03, 3.18832219e-03, 1.62269038e-03,\n",
              "       1.66195499e-03, 2.51805687e-03, 1.17383953e-03, 5.18348798e-03,\n",
              "       0.00000000e+00, 0.00000000e+00, 0.00000000e+00, 1.09195145e-02,\n",
              "       7.34064333e-03, 2.98216198e-02, 2.90933492e-02, 8.47691157e-04,\n",
              "       1.41106065e-02, 5.58559825e-03, 8.95623960e-03, 6.35740363e-03,\n",
              "       4.41595592e-04, 3.73006101e-03, 2.81178135e-02, 2.88876579e-02,\n",
              "       5.92616366e-02, 2.58110306e-02, 0.00000000e+00, 2.30455558e-02,\n",
              "       8.35424263e-03, 2.83101037e-03, 1.29046198e-02, 0.00000000e+00,\n",
              "       0.00000000e+00, 0.00000000e+00, 0.00000000e+00, 0.00000000e+00,\n",
              "       0.00000000e+00, 7.06226070e-03, 3.33156938e-03, 7.10775634e-03,\n",
              "       3.82815734e-03, 1.82225742e-01, 2.63589428e-02, 7.00818141e-03,\n",
              "       9.03779222e-02, 1.36066475e-04, 2.56246374e-05, 1.47263713e-04,\n",
              "       1.05755249e-04, 1.81981448e-03, 2.04335392e-04, 2.83831149e-03,\n",
              "       2.89219308e-03])"
            ]
          },
          "execution_count": 13,
          "metadata": {},
          "output_type": "execute_result"
        }
      ],
      "source": [
        "model.feature_importances_"
      ]
    },
    {
      "cell_type": "code",
      "execution_count": null,
      "metadata": {
        "colab": {
          "base_uri": "https://localhost:8080/",
          "height": 380
        },
        "id": "67RWhmMeNWuz",
        "outputId": "9811d90d-4717-443f-b469-bd03229a5936"
      },
      "outputs": [
        {
          "data": {
            "text/plain": [
              "<matplotlib.axes._subplots.AxesSubplot at 0x7f4b1e566d10>"
            ]
          },
          "execution_count": 14,
          "metadata": {},
          "output_type": "execute_result"
        },
        {
          "data": {
            "image/png": "[encoded data removed]",
            "text/plain": [
              "<Figure size 432x288 with 1 Axes>"
            ]
          },
          "metadata": {
            "needs_background": "light"
          },
          "output_type": "display_data"
        }
      ],
      "source": [
        "feature_importance_std = pd.Series(model.feature_importances_, index=data_X.columns)\n",
        "feature_importance_std.nlargest(20).plot(kind='bar', title='Standardised Dataset Feature Selection using ExtraTreesClassifier')"
      ]
    },
    {
      "cell_type": "code",
      "execution_count": null,
      "metadata": {
        "id": "DuFE18q8Ngnt"
      },
      "outputs": [],
      "source": [
        "data_new_20features_X=data_X[['Init Fwd Win Byts','Dst Port','Fwd Seg Size Min','ACK Flag Cnt','Flow Pkts/s','Bwd Pkts/s','Init Bwd Win Byts','Fwd Pkts/s','RST Flag Cnt','PSH Flag Cnt','ECE Flag Cnt','URG Flag Cnt','Bwd Seg Size Avg','Bwd Pkt Len Max','Bwd Pkt Len Std','Fwd IAT Min','Protocol','Pkt Len Max','Fwd Pkt Len Max','Flow Duration']]"
      ]
    },
    {
      "cell_type": "code",
      "execution_count": null,
      "metadata": {
        "colab": {
          "base_uri": "https://localhost:8080/",
          "height": 496
        },
        "id": "zUuWyrpEQeJ0",
        "outputId": "3da3caef-bd11-47bd-e886-da847c413d35"
      },
      "outputs": [
        {
          "data": {
            "text/html": [
              "<div>\n",
              "<style scoped>\n",
              "    .dataframe tbody tr th:only-of-type {\n",
              "        vertical-align: middle;\n",
              "    }\n",
              "\n",
              "    .dataframe tbody tr th {\n",
              "        vertical-align: top;\n",
              "    }\n",
              "\n",
              "    .dataframe thead th {\n",
              "        text-align: right;\n",
              "    }\n",
              "</style>\n",
              "<table border=\"1\" class=\"dataframe\">\n",
              "  <thead>\n",
              "    <tr style=\"text-align: right;\">\n",
              "      <th></th>\n",
              "      <th>Init Fwd Win Byts</th>\n",
              "      <th>Dst Port</th>\n",
              "      <th>Fwd Seg Size Min</th>\n",
              "      <th>ACK Flag Cnt</th>\n",
              "      <th>Flow Pkts/s</th>\n",
              "      <th>Bwd Pkts/s</th>\n",
              "      <th>Init Bwd Win Byts</th>\n",
              "      <th>Fwd Pkts/s</th>\n",
              "      <th>RST Flag Cnt</th>\n",
              "      <th>PSH Flag Cnt</th>\n",
              "      <th>ECE Flag Cnt</th>\n",
              "      <th>URG Flag Cnt</th>\n",
              "      <th>Bwd Seg Size Avg</th>\n",
              "      <th>Bwd Pkt Len Max</th>\n",
              "      <th>Bwd Pkt Len Std</th>\n",
              "      <th>Fwd IAT Min</th>\n",
              "      <th>Protocol</th>\n",
              "      <th>Pkt Len Max</th>\n",
              "      <th>Fwd Pkt Len Max</th>\n",
              "      <th>Flow Duration</th>\n",
              "    </tr>\n",
              "  </thead>\n",
              "  <tbody>\n",
              "    <tr>\n",
              "      <th>0</th>\n",
              "      <td>8192</td>\n",
              "      <td>3389</td>\n",
              "      <td>20</td>\n",
              "      <td>0</td>\n",
              "      <td>3.841710</td>\n",
              "      <td>2.112941</td>\n",
              "      <td>62872</td>\n",
              "      <td>1.728770</td>\n",
              "      <td>1</td>\n",
              "      <td>1</td>\n",
              "      <td>1</td>\n",
              "      <td>0</td>\n",
              "      <td>177.09091</td>\n",
              "      <td>1173</td>\n",
              "      <td>347.937194</td>\n",
              "      <td>186</td>\n",
              "      <td>6</td>\n",
              "      <td>1173</td>\n",
              "      <td>661</td>\n",
              "      <td>5206015</td>\n",
              "    </tr>\n",
              "    <tr>\n",
              "      <th>1</th>\n",
              "      <td>8192</td>\n",
              "      <td>443</td>\n",
              "      <td>20</td>\n",
              "      <td>0</td>\n",
              "      <td>0.459080</td>\n",
              "      <td>0.229540</td>\n",
              "      <td>117</td>\n",
              "      <td>0.229540</td>\n",
              "      <td>0</td>\n",
              "      <td>1</td>\n",
              "      <td>0</td>\n",
              "      <td>0</td>\n",
              "      <td>242.57143</td>\n",
              "      <td>1460</td>\n",
              "      <td>520.660485</td>\n",
              "      <td>265</td>\n",
              "      <td>6</td>\n",
              "      <td>1460</td>\n",
              "      <td>875</td>\n",
              "      <td>60991608</td>\n",
              "    </tr>\n",
              "    <tr>\n",
              "      <th>2</th>\n",
              "      <td>-1</td>\n",
              "      <td>53</td>\n",
              "      <td>8</td>\n",
              "      <td>0</td>\n",
              "      <td>73.281548</td>\n",
              "      <td>36.640774</td>\n",
              "      <td>-1</td>\n",
              "      <td>36.640774</td>\n",
              "      <td>0</td>\n",
              "      <td>0</td>\n",
              "      <td>0</td>\n",
              "      <td>0</td>\n",
              "      <td>163.00000</td>\n",
              "      <td>163</td>\n",
              "      <td>0.000000</td>\n",
              "      <td>0</td>\n",
              "      <td>17</td>\n",
              "      <td>163</td>\n",
              "      <td>45</td>\n",
              "      <td>27292</td>\n",
              "    </tr>\n",
              "    <tr>\n",
              "      <th>3</th>\n",
              "      <td>8192</td>\n",
              "      <td>443</td>\n",
              "      <td>20</td>\n",
              "      <td>0</td>\n",
              "      <td>0.525991</td>\n",
              "      <td>0.284319</td>\n",
              "      <td>184</td>\n",
              "      <td>0.241671</td>\n",
              "      <td>0</td>\n",
              "      <td>1</td>\n",
              "      <td>0</td>\n",
              "      <td>0</td>\n",
              "      <td>282.65000</td>\n",
              "      <td>1430</td>\n",
              "      <td>445.753682</td>\n",
              "      <td>142</td>\n",
              "      <td>6</td>\n",
              "      <td>1430</td>\n",
              "      <td>258</td>\n",
              "      <td>70343424</td>\n",
              "    </tr>\n",
              "    <tr>\n",
              "      <th>4</th>\n",
              "      <td>-1</td>\n",
              "      <td>53</td>\n",
              "      <td>8</td>\n",
              "      <td>0</td>\n",
              "      <td>29.140289</td>\n",
              "      <td>14.570144</td>\n",
              "      <td>-1</td>\n",
              "      <td>14.570144</td>\n",
              "      <td>0</td>\n",
              "      <td>0</td>\n",
              "      <td>0</td>\n",
              "      <td>0</td>\n",
              "      <td>107.00000</td>\n",
              "      <td>107</td>\n",
              "      <td>0.000000</td>\n",
              "      <td>137008</td>\n",
              "      <td>17</td>\n",
              "      <td>107</td>\n",
              "      <td>47</td>\n",
              "      <td>137267</td>\n",
              "    </tr>\n",
              "    <tr>\n",
              "      <th>...</th>\n",
              "      <td>...</td>\n",
              "      <td>...</td>\n",
              "      <td>...</td>\n",
              "      <td>...</td>\n",
              "      <td>...</td>\n",
              "      <td>...</td>\n",
              "      <td>...</td>\n",
              "      <td>...</td>\n",
              "      <td>...</td>\n",
              "      <td>...</td>\n",
              "      <td>...</td>\n",
              "      <td>...</td>\n",
              "      <td>...</td>\n",
              "      <td>...</td>\n",
              "      <td>...</td>\n",
              "      <td>...</td>\n",
              "      <td>...</td>\n",
              "      <td>...</td>\n",
              "      <td>...</td>\n",
              "      <td>...</td>\n",
              "    </tr>\n",
              "    <tr>\n",
              "      <th>531324</th>\n",
              "      <td>211</td>\n",
              "      <td>80</td>\n",
              "      <td>32</td>\n",
              "      <td>1</td>\n",
              "      <td>0.040000</td>\n",
              "      <td>0.020000</td>\n",
              "      <td>219</td>\n",
              "      <td>0.020000</td>\n",
              "      <td>0</td>\n",
              "      <td>0</td>\n",
              "      <td>0</td>\n",
              "      <td>0</td>\n",
              "      <td>0.00000</td>\n",
              "      <td>0</td>\n",
              "      <td>0.000000</td>\n",
              "      <td>99999916</td>\n",
              "      <td>6</td>\n",
              "      <td>8</td>\n",
              "      <td>8</td>\n",
              "      <td>99999918</td>\n",
              "    </tr>\n",
              "    <tr>\n",
              "      <th>531325</th>\n",
              "      <td>26883</td>\n",
              "      <td>80</td>\n",
              "      <td>32</td>\n",
              "      <td>0</td>\n",
              "      <td>0.167930</td>\n",
              "      <td>0.027988</td>\n",
              "      <td>0</td>\n",
              "      <td>0.139941</td>\n",
              "      <td>0</td>\n",
              "      <td>1</td>\n",
              "      <td>0</td>\n",
              "      <td>0</td>\n",
              "      <td>0.00000</td>\n",
              "      <td>0</td>\n",
              "      <td>0.000000</td>\n",
              "      <td>175</td>\n",
              "      <td>6</td>\n",
              "      <td>230</td>\n",
              "      <td>230</td>\n",
              "      <td>107187709</td>\n",
              "    </tr>\n",
              "    <tr>\n",
              "      <th>531326</th>\n",
              "      <td>26883</td>\n",
              "      <td>80</td>\n",
              "      <td>32</td>\n",
              "      <td>0</td>\n",
              "      <td>0.157925</td>\n",
              "      <td>0.027869</td>\n",
              "      <td>0</td>\n",
              "      <td>0.130056</td>\n",
              "      <td>0</td>\n",
              "      <td>1</td>\n",
              "      <td>0</td>\n",
              "      <td>0</td>\n",
              "      <td>0.00000</td>\n",
              "      <td>0</td>\n",
              "      <td>0.000000</td>\n",
              "      <td>153</td>\n",
              "      <td>6</td>\n",
              "      <td>230</td>\n",
              "      <td>230</td>\n",
              "      <td>107646209</td>\n",
              "    </tr>\n",
              "    <tr>\n",
              "      <th>531327</th>\n",
              "      <td>26883</td>\n",
              "      <td>80</td>\n",
              "      <td>32</td>\n",
              "      <td>0</td>\n",
              "      <td>0.158680</td>\n",
              "      <td>0.028002</td>\n",
              "      <td>0</td>\n",
              "      <td>0.130677</td>\n",
              "      <td>0</td>\n",
              "      <td>1</td>\n",
              "      <td>0</td>\n",
              "      <td>0</td>\n",
              "      <td>0.00000</td>\n",
              "      <td>0</td>\n",
              "      <td>0.000000</td>\n",
              "      <td>237</td>\n",
              "      <td>6</td>\n",
              "      <td>230</td>\n",
              "      <td>230</td>\n",
              "      <td>107133998</td>\n",
              "    </tr>\n",
              "    <tr>\n",
              "      <th>531328</th>\n",
              "      <td>26883</td>\n",
              "      <td>80</td>\n",
              "      <td>32</td>\n",
              "      <td>0</td>\n",
              "      <td>0.166918</td>\n",
              "      <td>0.027820</td>\n",
              "      <td>0</td>\n",
              "      <td>0.139098</td>\n",
              "      <td>0</td>\n",
              "      <td>1</td>\n",
              "      <td>0</td>\n",
              "      <td>0</td>\n",
              "      <td>0.00000</td>\n",
              "      <td>0</td>\n",
              "      <td>0.000000</td>\n",
              "      <td>208</td>\n",
              "      <td>6</td>\n",
              "      <td>238</td>\n",
              "      <td>238</td>\n",
              "      <td>107837624</td>\n",
              "    </tr>\n",
              "  </tbody>\n",
              "</table>\n",
              "<p>531329 rows × 20 columns</p>\n",
              "</div>"
            ],
            "text/plain": [
              "        Init Fwd Win Byts  Dst Port  ...  Fwd Pkt Len Max  Flow Duration\n",
              "0                    8192      3389  ...              661        5206015\n",
              "1                    8192       443  ...              875       60991608\n",
              "2                      -1        53  ...               45          27292\n",
              "3                    8192       443  ...              258       70343424\n",
              "4                      -1        53  ...               47         137267\n",
              "...                   ...       ...  ...              ...            ...\n",
              "531324                211        80  ...                8       99999918\n",
              "531325              26883        80  ...              230      107187709\n",
              "531326              26883        80  ...              230      107646209\n",
              "531327              26883        80  ...              230      107133998\n",
              "531328              26883        80  ...              238      107837624\n",
              "\n",
              "[531329 rows x 20 columns]"
            ]
          },
          "execution_count": 16,
          "metadata": {},
          "output_type": "execute_result"
        }
      ],
      "source": [
        "data_new_20features_X"
      ]
    },
    {
      "cell_type": "code",
      "execution_count": null,
      "metadata": {
        "id": "ey-I5XJfi2n_"
      },
      "outputs": [],
      "source": []
    },
    {
      "cell_type": "markdown",
      "metadata": {
        "id": "r3v9YaZgQxon"
      },
      "source": [
        "#Train Test Split Normal dataset 84 Features"
      ]
    },
    {
      "cell_type": "code",
      "execution_count": null,
      "metadata": {
        "id": "LdKbUJ6tQrt6"
      },
      "outputs": [],
      "source": [
        "from sklearn.model_selection import train_test_split\n",
        "X_train, X_test, y_train, y_test = train_test_split(data_X, data_y_trans, test_size = 0.30, random_state = 42)"
      ]
    },
    {
      "cell_type": "code",
      "execution_count": null,
      "metadata": {
        "colab": {
          "base_uri": "https://localhost:8080/"
        },
        "id": "VwKz1d9oRLZz",
        "outputId": "ca3953b0-c917-40b3-dc51-2ff2b5856643"
      },
      "outputs": [
        {
          "data": {
            "text/plain": [
              "(371930, 77)"
            ]
          },
          "execution_count": 18,
          "metadata": {},
          "output_type": "execute_result"
        }
      ],
      "source": [
        "X_train.shape"
      ]
    },
    {
      "cell_type": "code",
      "execution_count": null,
      "metadata": {
        "colab": {
          "base_uri": "https://localhost:8080/"
        },
        "id": "tjFcqgUKROLd",
        "outputId": "b677e67b-6406-4cce-d2c5-ab8c66cc683a"
      },
      "outputs": [
        {
          "data": {
            "text/plain": [
              "(159399, 77)"
            ]
          },
          "execution_count": 19,
          "metadata": {},
          "output_type": "execute_result"
        }
      ],
      "source": [
        "X_test.shape"
      ]
    },
    {
      "cell_type": "markdown",
      "metadata": {
        "id": "3SNSfLE7pQ0G"
      },
      "source": [
        "#SMOTE FOR UNBALANCED DATASET"
      ]
    },
    {
      "cell_type": "code",
      "execution_count": null,
      "metadata": {
        "colab": {
          "base_uri": "https://localhost:8080/",
          "height": 235
        },
        "id": "neJo25CUoJ7j",
        "outputId": "4120ab3f-25c2-445d-a98f-9a4e3ddc22b5"
      },
      "outputs": [
        {
          "ename": "NameError",
          "evalue": "ignored",
          "output_type": "error",
          "traceback": [
            "\u001b[0;31m---------------------------------------------------------------------------\u001b[0m",
            "\u001b[0;31mNameError\u001b[0m                                 Traceback (most recent call last)",
            "\u001b[0;32m<ipython-input-37-ea325762a546>\u001b[0m in \u001b[0;36m<module>\u001b[0;34m()\u001b[0m\n\u001b[1;32m      2\u001b[0m \u001b[0;32mimport\u001b[0m \u001b[0mseaborn\u001b[0m \u001b[0;32mas\u001b[0m \u001b[0msns\u001b[0m\u001b[0;34m\u001b[0m\u001b[0;34m\u001b[0m\u001b[0m\n\u001b[1;32m      3\u001b[0m \u001b[0mget_ipython\u001b[0m\u001b[0;34m(\u001b[0m\u001b[0;34m)\u001b[0m\u001b[0;34m.\u001b[0m\u001b[0mmagic\u001b[0m\u001b[0;34m(\u001b[0m\u001b[0;34m'matplotlib inline'\u001b[0m\u001b[0;34m)\u001b[0m\u001b[0;34m\u001b[0m\u001b[0;34m\u001b[0m\u001b[0m\n\u001b[0;32m----> 4\u001b[0;31m \u001b[0msm\u001b[0m \u001b[0;34m=\u001b[0m \u001b[0mSMOTE\u001b[0m\u001b[0;34m(\u001b[0m\u001b[0;34m)\u001b[0m\u001b[0;34m\u001b[0m\u001b[0;34m\u001b[0m\u001b[0m\n\u001b[0m\u001b[1;32m      5\u001b[0m \u001b[0mX_train_new\u001b[0m\u001b[0;34m,\u001b[0m \u001b[0my_train_new\u001b[0m \u001b[0;34m=\u001b[0m \u001b[0msm\u001b[0m\u001b[0;34m.\u001b[0m\u001b[0mfit_resample\u001b[0m\u001b[0;34m(\u001b[0m\u001b[0mX_train\u001b[0m\u001b[0;34m.\u001b[0m\u001b[0mastype\u001b[0m\u001b[0;34m(\u001b[0m\u001b[0;34m'float'\u001b[0m\u001b[0;34m)\u001b[0m\u001b[0;34m,\u001b[0m \u001b[0my_train\u001b[0m\u001b[0;34m.\u001b[0m\u001b[0mravel\u001b[0m\u001b[0;34m(\u001b[0m\u001b[0;34m)\u001b[0m\u001b[0;34m)\u001b[0m\u001b[0;34m\u001b[0m\u001b[0;34m\u001b[0m\u001b[0m\n\u001b[1;32m      6\u001b[0m \u001b[0;34m\u001b[0m\u001b[0m\n",
            "\u001b[0;31mNameError\u001b[0m: name 'SMOTE' is not defined"
          ]
        }
      ],
      "source": [
        "import matplotlib.pyplot as plt\n",
        "import seaborn as sns\n",
        "%matplotlib inline\n",
        "sm = SMOTE()\n",
        "X_train_new, y_train_new = sm.fit_resample(X_train.astype('float'), y_train.ravel())\n",
        "\n",
        "# to demonstrate the effect of SMOTE over imbalanced datasets\n",
        "fig, (ax1, ax2) = plt.subplots(ncols = 2, figsize =(15, 5))\n",
        "ax1.set_title('Before SMOTE')\n",
        "pd.Series(y_train).value_counts().plot.bar(ax=ax1)\n",
        "\n",
        "ax2.set_title('After SMOTE')  \n",
        "pd.Series(y_train_new).value_counts().plot.bar(ax=ax2)\n",
        "\n",
        "plt.show()"
      ]
    },
    {
      "cell_type": "code",
      "execution_count": null,
      "metadata": {
        "colab": {
          "base_uri": "https://localhost:8080/",
          "height": 165
        },
        "id": "ElNmKOrbpA8M",
        "outputId": "ba04e68e-4b80-40e0-af9d-0c69ad5a0322"
      },
      "outputs": [
        {
          "ename": "NameError",
          "evalue": "ignored",
          "output_type": "error",
          "traceback": [
            "\u001b[0;31m---------------------------------------------------------------------------\u001b[0m",
            "\u001b[0;31mNameError\u001b[0m                                 Traceback (most recent call last)",
            "\u001b[0;32m<ipython-input-38-9ff985a5c642>\u001b[0m in \u001b[0;36m<module>\u001b[0;34m()\u001b[0m\n\u001b[0;32m----> 1\u001b[0;31m \u001b[0mX_train\u001b[0m\u001b[0;34m,\u001b[0m \u001b[0my_train\u001b[0m \u001b[0;34m=\u001b[0m \u001b[0msm\u001b[0m\u001b[0;34m.\u001b[0m\u001b[0mfit_resample\u001b[0m\u001b[0;34m(\u001b[0m\u001b[0mX_train\u001b[0m\u001b[0;34m,\u001b[0m \u001b[0my_train\u001b[0m\u001b[0;34m.\u001b[0m\u001b[0mravel\u001b[0m\u001b[0;34m(\u001b[0m\u001b[0;34m)\u001b[0m\u001b[0;34m)\u001b[0m\u001b[0;34m\u001b[0m\u001b[0;34m\u001b[0m\u001b[0m\n\u001b[0m",
            "\u001b[0;31mNameError\u001b[0m: name 'sm' is not defined"
          ]
        }
      ],
      "source": [
        "X_train, y_train = sm.fit_resample(X_train, y_train.ravel())"
      ]
    },
    {
      "cell_type": "code",
      "execution_count": null,
      "metadata": {
        "id": "ZQxeWMynpLl_"
      },
      "outputs": [],
      "source": [
        "X_train.shape"
      ]
    },
    {
      "cell_type": "markdown",
      "metadata": {
        "id": "fj-SFj6ORc_r"
      },
      "source": [
        "#Standardization of 77 feature dataset"
      ]
    },
    {
      "cell_type": "code",
      "execution_count": null,
      "metadata": {
        "id": "fADtkbSARUmn"
      },
      "outputs": [],
      "source": [
        "from sklearn.preprocessing import StandardScaler \n",
        "ss = StandardScaler()\n",
        "X_train_std = ss.fit_transform(X_train)\n",
        "X_test_std = ss.fit_transform(X_test)"
      ]
    },
    {
      "cell_type": "markdown",
      "metadata": {
        "id": "zUJgMMrPRspe"
      },
      "source": [
        "#Train Test Split 20 Feature Dataset"
      ]
    },
    {
      "cell_type": "code",
      "execution_count": null,
      "metadata": {
        "id": "kcnTXIYURcFj"
      },
      "outputs": [],
      "source": [
        "from sklearn.model_selection import train_test_split\n",
        "X_train_20, X_test_20, y_train_20, y_test_20 = train_test_split(data_new_20features_X, data_y_trans, test_size = 0.30, random_state = 42)"
      ]
    },
    {
      "cell_type": "markdown",
      "metadata": {
        "id": "2saXct_YR13V"
      },
      "source": [
        "Standarization of 20 feature datset"
      ]
    },
    {
      "cell_type": "code",
      "execution_count": null,
      "metadata": {
        "id": "ZTiBHFFwRzO1"
      },
      "outputs": [],
      "source": [
        "from sklearn.preprocessing import StandardScaler \n",
        "ss_20 = StandardScaler()\n",
        "X_train_std_20 = ss_20.fit_transform(X_train_20)\n",
        "X_test_std_20 = ss_20.fit_transform(X_test_20)"
      ]
    },
    {
      "cell_type": "code",
      "execution_count": null,
      "metadata": {
        "colab": {
          "base_uri": "https://localhost:8080/"
        },
        "id": "aw7zYMzHR4f0",
        "outputId": "34869879-e8a1-49df-f707-67d07dee587a"
      },
      "outputs": [
        {
          "data": {
            "text/plain": [
              "(371930, 20)"
            ]
          },
          "execution_count": 23,
          "metadata": {},
          "output_type": "execute_result"
        }
      ],
      "source": [
        "X_train_std_20.shape"
      ]
    },
    {
      "cell_type": "code",
      "execution_count": null,
      "metadata": {
        "colab": {
          "base_uri": "https://localhost:8080/"
        },
        "id": "izTSl3l_R7g7",
        "outputId": "43ad1cc4-a7a9-4ff4-b837-c5e76d9cc4b4"
      },
      "outputs": [
        {
          "data": {
            "text/plain": [
              "(371930,)"
            ]
          },
          "execution_count": 24,
          "metadata": {},
          "output_type": "execute_result"
        }
      ],
      "source": [
        "y_train_20.shape"
      ]
    },
    {
      "cell_type": "code",
      "execution_count": null,
      "metadata": {
        "colab": {
          "base_uri": "https://localhost:8080/"
        },
        "id": "dwfowc32Sd4S",
        "outputId": "15dc54ac-401f-44e0-8f21-761a432adcae"
      },
      "outputs": [
        {
          "data": {
            "text/plain": [
              "(159399, 20)"
            ]
          },
          "execution_count": 25,
          "metadata": {},
          "output_type": "execute_result"
        }
      ],
      "source": [
        "X_test_std_20.shape"
      ]
    },
    {
      "cell_type": "code",
      "execution_count": null,
      "metadata": {
        "colab": {
          "base_uri": "https://localhost:8080/"
        },
        "id": "8e_d2K-1SgCT",
        "outputId": "ad62de8b-d1d0-45e1-c7bd-b156e704c33a"
      },
      "outputs": [
        {
          "data": {
            "text/plain": [
              "(159399,)"
            ]
          },
          "execution_count": 26,
          "metadata": {},
          "output_type": "execute_result"
        }
      ],
      "source": [
        "y_test_20.shape"
      ]
    },
    {
      "cell_type": "code",
      "execution_count": null,
      "metadata": {
        "id": "I5WH1a3oim25"
      },
      "outputs": [],
      "source": []
    },
    {
      "cell_type": "markdown",
      "metadata": {
        "id": "P2PmPzYMShvT"
      },
      "source": [
        "#Random Forest Classification"
      ]
    },
    {
      "cell_type": "code",
      "execution_count": null,
      "metadata": {
        "colab": {
          "base_uri": "https://localhost:8080/"
        },
        "id": "Jvei1swkSkv3",
        "outputId": "9ec1b006-36d4-4f4d-ce92-9327ee00b9ea"
      },
      "outputs": [
        {
          "data": {
            "text/plain": [
              "RandomForestClassifier()"
            ]
          },
          "execution_count": 28,
          "metadata": {},
          "output_type": "execute_result"
        }
      ],
      "source": [
        "from sklearn.ensemble import RandomForestClassifier\n",
        "rf = RandomForestClassifier()\n",
        "rf.fit(X_train_std_20, y_train_20)"
      ]
    },
    {
      "cell_type": "code",
      "execution_count": null,
      "metadata": {
        "id": "BTPGtGrfSplA"
      },
      "outputs": [],
      "source": [
        "rf_y_pred = rf.predict(X_test_std_20)"
      ]
    },
    {
      "cell_type": "code",
      "execution_count": null,
      "metadata": {
        "colab": {
          "base_uri": "https://localhost:8080/"
        },
        "id": "Nr3iHJ4HTcjH",
        "outputId": "ef4e3a19-03ea-4da2-d7c4-024b2843767b"
      },
      "outputs": [
        {
          "data": {
            "text/plain": [
              "array([5, 1, 5, ..., 2, 4, 4])"
            ]
          },
          "execution_count": 30,
          "metadata": {},
          "output_type": "execute_result"
        }
      ],
      "source": [
        "rf_y_pred"
      ]
    },
    {
      "cell_type": "code",
      "execution_count": null,
      "metadata": {
        "id": "89KEUIEqTd0I"
      },
      "outputs": [],
      "source": [
        "from sklearn.metrics import accuracy_score \n",
        "from sklearn.metrics import classification_report \n",
        "from sklearn.metrics import confusion_matrix"
      ]
    },
    {
      "cell_type": "code",
      "execution_count": null,
      "metadata": {
        "id": "exTsJd1zTxGK"
      },
      "outputs": [],
      "source": [
        "from sklearn.preprocessing import LabelEncoder\n",
        "le = LabelEncoder()"
      ]
    },
    {
      "cell_type": "code",
      "execution_count": null,
      "metadata": {
        "colab": {
          "base_uri": "https://localhost:8080/",
          "height": 595
        },
        "id": "MpLSTmMATgg8",
        "outputId": "a4231881-936d-453e-b7fd-4f9b4e200fd2"
      },
      "outputs": [
        {
          "name": "stdout",
          "output_type": "stream",
          "text": [
            "\n",
            "\n",
            "=== Classification Report ===\n",
            "              precision    recall  f1-score   support\n",
            "\n",
            "           1       0.97      1.00      0.99     75167\n",
            "           2       1.00      1.00      1.00     11500\n",
            "           3       1.00      1.00      1.00     11230\n",
            "           4       1.00      1.00      1.00     41049\n",
            "           5       1.00      0.97      0.98     17266\n",
            "           6       1.00      0.64      0.78      2511\n",
            "           7       1.00      0.13      0.22       676\n",
            "\n",
            "    accuracy                           0.99    159399\n",
            "   macro avg       1.00      0.82      0.85    159399\n",
            "weighted avg       0.99      0.99      0.99    159399\n",
            "\n",
            "\n",
            "\n"
          ]
        },
        {
          "data": {
            "image/png": "[encoded data removed]",
            "text/plain": [
              "<Figure size 432x288 with 2 Axes>"
            ]
          },
          "metadata": {
            "needs_background": "light"
          },
          "output_type": "display_data"
        }
      ],
      "source": [
        "cm1=confusion_matrix(y_test_20, rf_y_pred)\n",
        "import seaborn as sns\n",
        "sns.heatmap(cm1, annot=True)\n",
        "print('\\n')\n",
        "print(\"=== Classification Report ===\")\n",
        "print(classification_report(y_test_20, rf_y_pred))\n",
        "print('\\n')"
      ]
    },
    {
      "cell_type": "code",
      "execution_count": null,
      "metadata": {
        "colab": {
          "base_uri": "https://localhost:8080/"
        },
        "id": "vdmne1rHVug8",
        "outputId": "f512f88c-754d-418b-e2aa-af674abe1891"
      },
      "outputs": [
        {
          "name": "stdout",
          "output_type": "stream",
          "text": [
            "Accuracy Score for Random_Forest: \n",
            " 98.72646628899805\n"
          ]
        }
      ],
      "source": [
        "acc_score = accuracy_score(y_test_20, rf_y_pred)\n",
        "print(\"Accuracy Score for Random_Forest: \\n\", acc_score*100)"
      ]
    },
    {
      "cell_type": "code",
      "execution_count": null,
      "metadata": {
        "id": "c33RvwbUxQ7t"
      },
      "outputs": [],
      "source": [
        "from keras.utils.np_utils import to_categorical\n",
        "from sklearn.metrics import roc_curve, auc\n",
        "from scipy import interp\n",
        "from sklearn.metrics import roc_auc_score\n",
        "import matplotlib.pyplot as plt"
      ]
    },
    {
      "cell_type": "code",
      "execution_count": null,
      "metadata": {
        "colab": {
          "base_uri": "https://localhost:8080/"
        },
        "id": "t0oV7D250JIr",
        "outputId": "af64921a-7572-4b51-daf7-4117a4f94cbb"
      },
      "outputs": [
        {
          "data": {
            "text/plain": [
              "(159399,)"
            ]
          },
          "execution_count": 36,
          "metadata": {},
          "output_type": "execute_result"
        }
      ],
      "source": [
        "X_test_std_20.shape\n",
        "y_test_20.shape"
      ]
    },
    {
      "cell_type": "markdown",
      "metadata": {
        "id": "Z4D_4cBSWdb-"
      },
      "source": [
        "#Decision Tree"
      ]
    },
    {
      "cell_type": "code",
      "execution_count": null,
      "metadata": {
        "colab": {
          "base_uri": "https://localhost:8080/"
        },
        "id": "umKlJ4N7WfgW",
        "outputId": "aaa42624-32af-4f4d-cd31-d7d125ffb0f2"
      },
      "outputs": [
        {
          "data": {
            "text/plain": [
              "DecisionTreeClassifier()"
            ]
          },
          "execution_count": 39,
          "metadata": {},
          "output_type": "execute_result"
        }
      ],
      "source": [
        "from sklearn.tree import DecisionTreeClassifier \n",
        "dt = DecisionTreeClassifier()\n",
        "dt.fit(X_train_std_20, y_train_20)"
      ]
    },
    {
      "cell_type": "code",
      "execution_count": null,
      "metadata": {
        "id": "8HtYKf4-WiDv"
      },
      "outputs": [],
      "source": [
        "dt_y_pred = dt.predict(X_test_std_20)"
      ]
    },
    {
      "cell_type": "code",
      "execution_count": null,
      "metadata": {
        "colab": {
          "base_uri": "https://localhost:8080/"
        },
        "id": "0YPPn48lWr0J",
        "outputId": "bd0f94cd-84f8-49a4-ad61-5c24e9a06acc"
      },
      "outputs": [
        {
          "name": "stdout",
          "output_type": "stream",
          "text": [
            "Decision Tree Confusion: \n",
            " [[75162     0     0     0     1     1     3]\n",
            " [    0 11500     0     0     0     0     0]\n",
            " [ 5610  5620     0     0     0     0     0]\n",
            " [   15     0     0 41034     0     0     0]\n",
            " [   14     0     0     0 17252     0     0]\n",
            " [    0     0     0     0     0  2509     2]\n",
            " [    6     0     0     0     0     9   661]]\n"
          ]
        }
      ],
      "source": [
        "dt_conf_mat = confusion_matrix(y_test_20, dt_y_pred)\n",
        "print(\"Decision Tree Confusion: \\n\", dt_conf_mat)"
      ]
    },
    {
      "cell_type": "code",
      "execution_count": null,
      "metadata": {
        "colab": {
          "base_uri": "https://localhost:8080/"
        },
        "id": "4IfydUjBWxTB",
        "outputId": "36d39c24-fab9-464d-9bf3-e481451f1c85"
      },
      "outputs": [
        {
          "name": "stdout",
          "output_type": "stream",
          "text": [
            "Accuracy Score for Decision Tree: \n",
            " 92.92279123457487\n"
          ]
        }
      ],
      "source": [
        "acc_score_dt = accuracy_score(y_test_20, dt_y_pred)\n",
        "print(\"Accuracy Score for Decision Tree: \\n\", acc_score_dt*100)"
      ]
    },
    {
      "cell_type": "code",
      "execution_count": null,
      "metadata": {
        "colab": {
          "base_uri": "https://localhost:8080/"
        },
        "id": "4In5iGO2W4Jc",
        "outputId": "07829007-4b68-4ead-b407-d6e379dff6b0"
      },
      "outputs": [
        {
          "name": "stdout",
          "output_type": "stream",
          "text": [
            "=== Classification Report ===\n",
            "              precision    recall  f1-score   support\n",
            "\n",
            "           1       0.97      1.00      0.99     75167\n",
            "           2       1.00      1.00      1.00     11500\n",
            "           3       1.00      1.00      1.00     11230\n",
            "           4       1.00      1.00      1.00     41049\n",
            "           5       1.00      0.97      0.98     17266\n",
            "           6       1.00      0.64      0.78      2511\n",
            "           7       1.00      0.13      0.22       676\n",
            "\n",
            "    accuracy                           0.99    159399\n",
            "   macro avg       1.00      0.82      0.85    159399\n",
            "weighted avg       0.99      0.99      0.99    159399\n",
            "\n",
            "\n",
            "\n"
          ]
        }
      ],
      "source": [
        "print(\"=== Classification Report ===\")\n",
        "print(classification_report(y_test_20, rf_y_pred))\n",
        "print('\\n')"
      ]
    },
    {
      "cell_type": "markdown",
      "metadata": {
        "id": "sdMaL1V87R8W"
      },
      "source": [
        "#SVM Classifier"
      ]
    },
    {
      "cell_type": "code",
      "execution_count": null,
      "metadata": {
        "colab": {
          "base_uri": "https://localhost:8080/"
        },
        "id": "3M4LWhCs7Ndy",
        "outputId": "c4339896-3d0c-4ef8-fb0a-58b09129fa15"
      },
      "outputs": [
        {
          "name": "stderr",
          "output_type": "stream",
          "text": [
            "/usr/local/lib/python3.7/dist-packages/sklearn/svm/_base.py:947: ConvergenceWarning: Liblinear failed to converge, increase the number of iterations.\n",
            "  \"the number of iterations.\", ConvergenceWarning)\n"
          ]
        },
        {
          "data": {
            "text/plain": [
              "LinearSVC(C=1.0, class_weight=None, dual=True, fit_intercept=True,\n",
              "          intercept_scaling=1, loss='squared_hinge', max_iter=1000,\n",
              "          multi_class='ovr', penalty='l2', random_state=None, tol=0.0001,\n",
              "          verbose=0)"
            ]
          },
          "execution_count": 33,
          "metadata": {},
          "output_type": "execute_result"
        }
      ],
      "source": [
        "from sklearn.svm import LinearSVC\n",
        "svm = LinearSVC(multi_class = 'ovr')\n",
        "svm.fit(X_train_std_20, y_train_20)"
      ]
    },
    {
      "cell_type": "code",
      "execution_count": null,
      "metadata": {
        "colab": {
          "base_uri": "https://localhost:8080/"
        },
        "id": "T_a7XlhS7cL7",
        "outputId": "9ed21b7e-3295-4da5-9271-f09afe23c099"
      },
      "outputs": [
        {
          "data": {
            "text/plain": [
              "0.9823210936078646"
            ]
          },
          "execution_count": 34,
          "metadata": {},
          "output_type": "execute_result"
        }
      ],
      "source": [
        "y_pred_svm = svm.predict(X_test_std_20)\n",
        "svm.score(X_test_std_20, y_test_20)"
      ]
    },
    {
      "cell_type": "code",
      "execution_count": null,
      "metadata": {
        "colab": {
          "base_uri": "https://localhost:8080/",
          "height": 282
        },
        "id": "0Wytk_4w8str",
        "outputId": "da8dae9e-646b-444a-9c7c-348ac503854c"
      },
      "outputs": [
        {
          "data": {
            "text/plain": [
              "<matplotlib.axes._subplots.AxesSubplot at 0x7fba1a3266d0>"
            ]
          },
          "execution_count": 39,
          "metadata": {},
          "output_type": "execute_result"
        },
        {
          "data": {
            "image/png": "[encoded data removed]",
            "text/plain": [
              "<Figure size 432x288 with 2 Axes>"
            ]
          },
          "metadata": {
            "needs_background": "light"
          },
          "output_type": "display_data"
        }
      ],
      "source": [
        "svm_conf_mat = confusion_matrix(y_test_20, y_pred_svm)\n",
        "import seaborn as sns\n",
        "sns.heatmap(svm_conf_mat, annot=True)"
      ]
    },
    {
      "cell_type": "code",
      "execution_count": null,
      "metadata": {
        "colab": {
          "base_uri": "https://localhost:8080/",
          "height": 282
        },
        "id": "CZ7a-TzaNQgt",
        "outputId": "b353ecce-8366-48f5-b5de-e79edf79e01c"
      },
      "outputs": [
        {
          "data": {
            "text/plain": [
              "<matplotlib.axes._subplots.AxesSubplot at 0x7fba19a38bd0>"
            ]
          },
          "execution_count": 40,
          "metadata": {},
          "output_type": "execute_result"
        },
        {
          "data": {
            "image/png": "[encoded data removed]",
            "text/plain": [
              "<Figure size 432x288 with 2 Axes>"
            ]
          },
          "metadata": {
            "needs_background": "light"
          },
          "output_type": "display_data"
        }
      ],
      "source": [
        "sns.heatmap(svm_conf_mat, annot=True)"
      ]
    },
    {
      "cell_type": "code",
      "execution_count": null,
      "metadata": {
        "colab": {
          "base_uri": "https://localhost:8080/"
        },
        "id": "RgM-CKLD9CE4",
        "outputId": "35bb55db-0992-4171-c127-b08019e8086a"
      },
      "outputs": [
        {
          "name": "stdout",
          "output_type": "stream",
          "text": [
            "Accuracy Score for SVM: \n",
            " 98.2308546477707\n"
          ]
        }
      ],
      "source": [
        "acc_score_svm = accuracy_score(y_test_20, y_pred_svm)\n",
        "print(\"Accuracy Score for SVM: \\n\", acc_score_svm*100)"
      ]
    },
    {
      "cell_type": "markdown",
      "metadata": {
        "id": "TDYbGyb29UYD"
      },
      "source": [
        "#Naive Bayes"
      ]
    },
    {
      "cell_type": "code",
      "execution_count": null,
      "metadata": {
        "id": "kjLg_nxJ9Fz8"
      },
      "outputs": [],
      "source": [
        "from sklearn.naive_bayes import GaussianNB"
      ]
    },
    {
      "cell_type": "code",
      "execution_count": null,
      "metadata": {
        "id": "2xBsm-F_9amL"
      },
      "outputs": [],
      "source": [
        "gnb = GaussianNB()\n",
        "gnb.fit(X_train_std_20, y_train_20)\n",
        "gnb_y_pred = gnb.predict(X_test_std_20)"
      ]
    },
    {
      "cell_type": "code",
      "execution_count": null,
      "metadata": {
        "colab": {
          "base_uri": "https://localhost:8080/"
        },
        "id": "9vcvoJNg9g_q",
        "outputId": "0960bbd2-49c7-4c95-aad0-28c4d9ebe799"
      },
      "outputs": [
        {
          "name": "stdout",
          "output_type": "stream",
          "text": [
            "=== Confusion Matrix ===\n",
            "[[68275     0     0     0  6892     0     0]\n",
            " [11500     0     0     0     0     0     0]\n",
            " [11230     0     0     0     0     0     0]\n",
            " [14489     0     0     0 26560     0     0]\n",
            " [  296     0     0     0 16970     0     0]\n",
            " [ 2511     0     0     0     0     0     0]\n",
            " [  676     0     0     0     0     0     0]]\n",
            "\n",
            "\n",
            "=== Classification Report ===\n"
          ]
        },
        {
          "name": "stderr",
          "output_type": "stream",
          "text": [
            "/usr/local/lib/python3.7/dist-packages/sklearn/metrics/_classification.py:1272: UndefinedMetricWarning: Precision and F-score are ill-defined and being set to 0.0 in labels with no predicted samples. Use `zero_division` parameter to control this behavior.\n",
            "  _warn_prf(average, modifier, msg_start, len(result))\n"
          ]
        },
        {
          "name": "stdout",
          "output_type": "stream",
          "text": [
            "              precision    recall  f1-score   support\n",
            "\n",
            "           1       0.63      0.91      0.74     75167\n",
            "           2       0.00      0.00      0.00     11500\n",
            "           3       0.00      0.00      0.00     11230\n",
            "           4       0.00      0.00      0.00     41049\n",
            "           5       0.34      0.98      0.50     17266\n",
            "           6       0.00      0.00      0.00      2511\n",
            "           7       0.00      0.00      0.00       676\n",
            "\n",
            "    accuracy                           0.53    159399\n",
            "   macro avg       0.14      0.27      0.18    159399\n",
            "weighted avg       0.33      0.53      0.40    159399\n",
            "\n",
            "\n",
            "\n",
            "Accuracy Score for Naive: \n",
            " 53.47900551446371\n"
          ]
        }
      ],
      "source": [
        "print(\"=== Confusion Matrix ===\")\n",
        "print(confusion_matrix(y_test_20, gnb_y_pred))\n",
        "print('\\n')\n",
        "print(\"=== Classification Report ===\")\n",
        "print(classification_report(y_test_20, gnb_y_pred))\n",
        "print('\\n')\n",
        "acc_score_svm = accuracy_score(y_test_20, gnb_y_pred)\n",
        "print(\"Accuracy Score for Naive: \\n\", acc_score_svm*100)"
      ]
    },
    {
      "cell_type": "markdown",
      "metadata": {
        "id": "j0aqoWWPJmGl"
      },
      "source": [
        "#XG-Boost"
      ]
    },
    {
      "cell_type": "code",
      "execution_count": null,
      "metadata": {
        "id": "23KQ-8uYJf2t"
      },
      "outputs": [],
      "source": [
        "from sklearn.ensemble import GradientBoostingClassifier"
      ]
    },
    {
      "cell_type": "code",
      "execution_count": null,
      "metadata": {
        "colab": {
          "base_uri": "https://localhost:8080/"
        },
        "id": "xP6hereJJqiK",
        "outputId": "9ac54988-2cd1-4806-c425-26b2a9c6b565"
      },
      "outputs": [
        {
          "data": {
            "text/plain": [
              "GradientBoostingClassifier()"
            ]
          },
          "execution_count": 28,
          "metadata": {},
          "output_type": "execute_result"
        }
      ],
      "source": [
        "\n",
        "# fit model no training data\n",
        "gradinet_boost = GradientBoostingClassifier()\n",
        "gradinet_boost.fit(X_train_std_20, y_train_20)"
      ]
    },
    {
      "cell_type": "code",
      "execution_count": null,
      "metadata": {
        "colab": {
          "base_uri": "https://localhost:8080/"
        },
        "id": "7pgMs6p-Js_1",
        "outputId": "ca57d004-ca62-4d4c-d4fb-28a7edc99126"
      },
      "outputs": [
        {
          "name": "stdout",
          "output_type": "stream",
          "text": [
            "[1 1 1 ... 2 4 4]\n"
          ]
        }
      ],
      "source": [
        "# Predict the labels \n",
        "y_pred_xgboost = gradinet_boost.predict(X_test_std_20)\n",
        "print(y_pred_xgboost)"
      ]
    },
    {
      "cell_type": "code",
      "execution_count": null,
      "metadata": {
        "colab": {
          "base_uri": "https://localhost:8080/"
        },
        "id": "oyzzRFEKJt61",
        "outputId": "c01ff961-651f-4c2f-f92f-90b596b9198b"
      },
      "outputs": [
        {
          "name": "stdout",
          "output_type": "stream",
          "text": [
            "=== Confusion Matrix ===\n",
            "[[75140    24     1     0     0     1     1]\n",
            " [    0 11500     0     0     0     0     0]\n",
            " [   13     3 11214     0     0     0     0]\n",
            " [   15     0     0 41034     0     0     0]\n",
            " [17028     0     0     0   238     0     0]\n",
            " [    4     0     0     0     0  2507     0]\n",
            " [  213     0     0     0     0     4   459]]\n",
            "\n",
            "\n",
            "=== Classification Report ===\n",
            "              precision    recall  f1-score   support\n",
            "\n",
            "           1       0.81      1.00      0.90     75167\n",
            "           2       1.00      1.00      1.00     11500\n",
            "           3       1.00      1.00      1.00     11230\n",
            "           4       1.00      1.00      1.00     41049\n",
            "           5       1.00      0.01      0.03     17266\n",
            "           6       1.00      1.00      1.00      2511\n",
            "           7       1.00      0.68      0.81       676\n",
            "\n",
            "    accuracy                           0.89    159399\n",
            "   macro avg       0.97      0.81      0.82    159399\n",
            "weighted avg       0.91      0.89      0.84    159399\n",
            "\n",
            "\n",
            "\n",
            "Accuracy Score for Xg Boost: \n",
            " 89.14234091807351\n"
          ]
        }
      ],
      "source": [
        "print(\"=== Confusion Matrix ===\")\n",
        "print(confusion_matrix(y_test_20, y_pred_xgboost))\n",
        "print('\\n')\n",
        "print(\"=== Classification Report ===\")\n",
        "print(classification_report(y_test_20, y_pred_xgboost))\n",
        "print('\\n')\n",
        "acc_score_xg = accuracy_score(y_test_20, y_pred_xgboost)\n",
        "print(\"Accuracy Score for Xg Boost: \\n\", acc_score_xg*100)"
      ]
    },
    {
      "cell_type": "markdown",
      "metadata": {
        "id": "VPngN9JpNMsT"
      },
      "source": [
        "#Ensemble Method of Machine Learning"
      ]
    },
    {
      "cell_type": "code",
      "execution_count": null,
      "metadata": {
        "id": "pLKOszMkNIw-"
      },
      "outputs": [],
      "source": [
        "from sklearn.pipeline import Pipeline \n",
        "from sklearn.ensemble import AdaBoostClassifier\n",
        "from sklearn.model_selection import cross_val_score"
      ]
    },
    {
      "cell_type": "code",
      "execution_count": null,
      "metadata": {
        "id": "75p2gXLhNPnj"
      },
      "outputs": [],
      "source": [
        "# ADABOOST \n",
        "adaboost = AdaBoostClassifier(base_estimator= dt, n_estimators=100)"
      ]
    },
    {
      "cell_type": "code",
      "execution_count": null,
      "metadata": {
        "colab": {
          "base_uri": "https://localhost:8080/"
        },
        "id": "f4uZLe6uNS8x",
        "outputId": "6be23386-d7b5-4c05-a74b-571c4dba2fad"
      },
      "outputs": [
        {
          "data": {
            "text/plain": [
              "AdaBoostClassifier(algorithm='SAMME.R',\n",
              "                   base_estimator=DecisionTreeClassifier(ccp_alpha=0.0,\n",
              "                                                         class_weight=None,\n",
              "                                                         criterion='gini',\n",
              "                                                         max_depth=None,\n",
              "                                                         max_features=None,\n",
              "                                                         max_leaf_nodes=None,\n",
              "                                                         min_impurity_decrease=0.0,\n",
              "                                                         min_impurity_split=None,\n",
              "                                                         min_samples_leaf=1,\n",
              "                                                         min_samples_split=2,\n",
              "                                                         min_weight_fraction_leaf=0.0,\n",
              "                                                         presort='deprecated',\n",
              "                                                         random_state=None,\n",
              "                                                         splitter='best'),\n",
              "                   learning_rate=1.0, n_estimators=100, random_state=None)"
            ]
          },
          "execution_count": 65,
          "metadata": {},
          "output_type": "execute_result"
        }
      ],
      "source": [
        "adaboost.fit(X_train_std_20, y_train_20)"
      ]
    },
    {
      "cell_type": "code",
      "execution_count": null,
      "metadata": {
        "id": "RrbhhI3QOaSD"
      },
      "outputs": [],
      "source": [
        "y_pred_adaboost = adaboost.predict(X_test_std_20)"
      ]
    },
    {
      "cell_type": "code",
      "execution_count": null,
      "metadata": {
        "colab": {
          "base_uri": "https://localhost:8080/"
        },
        "id": "zXUN_OsbOewD",
        "outputId": "9a6df7a1-1114-4ae7-c92d-3dd7afd54348"
      },
      "outputs": [
        {
          "name": "stdout",
          "output_type": "stream",
          "text": [
            "=== Confusion Matrix ===\n",
            "[[75167     0     0     0     0     0     0]\n",
            " [    0 11500     0     0     0     0     0]\n",
            " [   23     3 11204     0     0     0     0]\n",
            " [ 2269     0     0 38780     0     0     0]\n",
            " [   14     0     0     0 17252     0     0]\n",
            " [  839     0     0     0     0  1672     0]\n",
            " [  222     0     0     0     0     0   454]]\n",
            "\n",
            "\n",
            "=== Classification Report ===\n",
            "              precision    recall  f1-score   support\n",
            "\n",
            "           1       0.96      1.00      0.98     75167\n",
            "           2       1.00      1.00      1.00     11500\n",
            "           3       1.00      1.00      1.00     11230\n",
            "           4       1.00      0.94      0.97     41049\n",
            "           5       1.00      1.00      1.00     17266\n",
            "           6       1.00      0.67      0.80      2511\n",
            "           7       1.00      0.67      0.80       676\n",
            "\n",
            "    accuracy                           0.98    159399\n",
            "   macro avg       0.99      0.90      0.94    159399\n",
            "weighted avg       0.98      0.98      0.98    159399\n",
            "\n",
            "\n",
            "\n",
            "Accuracy Score for Xg Boost: \n",
            " 97.88580856843518\n"
          ]
        }
      ],
      "source": [
        "print(\"=== Confusion Matrix ===\")\n",
        "print(confusion_matrix(y_test_20, y_pred_adaboost))\n",
        "print('\\n')\n",
        "print(\"=== Classification Report ===\")\n",
        "print(classification_report(y_test_20, y_pred_adaboost))\n",
        "print('\\n')\n",
        "acc_score_ad = accuracy_score(y_test_20, y_pred_adaboost)\n",
        "print(\"Accuracy Score for Xg Boost: \\n\", acc_score_ad*100)"
      ]
    },
    {
      "cell_type": "markdown",
      "metadata": {
        "id": "qgfTo-rxUSBo"
      },
      "source": []
    },
    {
      "cell_type": "markdown",
      "metadata": {
        "id": "EMXXIfmCBVDr"
      },
      "source": [
        "#ROC Curves and Classification Report"
      ]
    },
    {
      "cell_type": "markdown",
      "metadata": {
        "id": "YeedGQukGxTS"
      },
      "source": [
        "##Random Forest\n"
      ]
    },
    {
      "cell_type": "code",
      "execution_count": null,
      "metadata": {
        "colab": {
          "base_uri": "https://localhost:8080/",
          "height": 361
        },
        "id": "gszIykzt7MfD",
        "outputId": "253e3ddc-09a7-46d0-ee42-231d3d8f321a"
      },
      "outputs": [
        {
          "name": "stdout",
          "output_type": "stream",
          "text": [
            "0.9910476226325133\n"
          ]
        },
        {
          "data": {
            "image/png": "[encoded data removed]",
            "text/plain": [
              "<Figure size 576x396 with 1 Axes>"
            ]
          },
          "metadata": {},
          "output_type": "display_data"
        }
      ],
      "source": [
        "from keras.utils.np_utils import to_categorical\n",
        "from sklearn.metrics import roc_curve, auc\n",
        "from scipy import interp\n",
        "from sklearn.metrics import roc_auc_score\n",
        "import matplotlib.pyplot as plt\n",
        "from yellowbrick.classifier.rocauc import roc_auc\n",
        "from yellowbrick.datasets import load_credit\n",
        "from sklearn.linear_model import LogisticRegression\n",
        "from sklearn.model_selection import train_test_split\n",
        "from yellowbrick.classifier import ClassificationReport\n",
        "\n",
        "\n",
        "from yellowbrick.classifier import ConfusionMatrix\n",
        "cm = ConfusionMatrix(rf, classes=[1,2,3,4,5,6,7])\n",
        "# Fit fits the passed model. This is unnecessary if you pass the visualizer a pre-fitted model\n",
        "cm.fit(X_train_std_20, y_train_20)\n",
        "# To create the ConfusionMatrix, we need some test data. Score runs predict() on the data\n",
        "# and then creates the confusion_matrix from scikit-learn.\n",
        "print(cm.score(X_test_std_20, y_test_20))\n",
        "\n"
      ]
    },
    {
      "cell_type": "code",
      "execution_count": null,
      "metadata": {
        "colab": {
          "base_uri": "https://localhost:8080/",
          "height": 393
        },
        "id": "GHR4r8trHf_k",
        "outputId": "f09d9e9b-8ed1-4835-91d3-9fb9a40f73ac"
      },
      "outputs": [
        {
          "data": {
            "text/plain": [
              "<matplotlib.axes._subplots.AxesSubplot at 0x7f995c978a50>"
            ]
          },
          "execution_count": 81,
          "metadata": {},
          "output_type": "execute_result"
        },
        {
          "data": {
            "image/png": "[encoded data removed]",
            "text/plain": [
              "<Figure size 576x396 with 1 Axes>"
            ]
          },
          "metadata": {},
          "output_type": "display_data"
        }
      ],
      "source": [
        "roc_auc(rf, X_train_std_20, y_train_20, X_test=X_test_std_20, y_test=y_test_20, classes=['1','2','3','4','5','6','7'])"
      ]
    },
    {
      "cell_type": "code",
      "execution_count": null,
      "metadata": {
        "colab": {
          "base_uri": "https://localhost:8080/",
          "height": 368
        },
        "id": "N2e77d3W5wML",
        "outputId": "4045e36d-2c97-4e2c-9cf8-45febfef3bf6"
      },
      "outputs": [
        {
          "name": "stdout",
          "output_type": "stream",
          "text": [
            "0.9548805199530738\n"
          ]
        },
        {
          "data": {
            "image/png": "[encoded data removed]",
            "text/plain": [
              "<Figure size 576x396 with 2 Axes>"
            ]
          },
          "metadata": {},
          "output_type": "display_data"
        }
      ],
      "source": [
        "\n",
        "visualizer = ClassificationReport(rf)\n",
        "visualizer.fit(X_train_std_20, y_train_20)        # Fit the visualizer and the model\n",
        "print(visualizer.score(X_test_std_20, y_test_20))"
      ]
    },
    {
      "cell_type": "markdown",
      "metadata": {
        "id": "9JVTvGEQJiO3"
      },
      "source": [
        "##Decision Tree"
      ]
    },
    {
      "cell_type": "code",
      "execution_count": null,
      "metadata": {
        "colab": {
          "base_uri": "https://localhost:8080/",
          "height": 361
        },
        "id": "mDHlY4cEJksB",
        "outputId": "4a17a39e-6a57-497f-936e-cb21d6abb8d3"
      },
      "outputs": [
        {
          "name": "stdout",
          "output_type": "stream",
          "text": [
            "0.9280484821109292\n"
          ]
        },
        {
          "data": {
            "image/png": "[encoded data removed]",
            "text/plain": [
              "<Figure size 576x396 with 1 Axes>"
            ]
          },
          "metadata": {},
          "output_type": "display_data"
        }
      ],
      "source": [
        "from keras.utils.np_utils import to_categorical\n",
        "from sklearn.metrics import roc_curve, auc\n",
        "from scipy import interp\n",
        "from sklearn.metrics import roc_auc_score\n",
        "import matplotlib.pyplot as plt\n",
        "from yellowbrick.classifier.rocauc import roc_auc\n",
        "from yellowbrick.datasets import load_credit\n",
        "from sklearn.linear_model import LogisticRegression\n",
        "from sklearn.model_selection import train_test_split\n",
        "from yellowbrick.classifier import ClassificationReport\n",
        "\n",
        "\n",
        "from yellowbrick.classifier import ConfusionMatrix\n",
        "cm = ConfusionMatrix(dt, classes=[1,2,3,4,5,6,7])\n",
        "# Fit fits the passed model. This is unnecessary if you pass the visualizer a pre-fitted model\n",
        "cm.fit(X_train_std_20, y_train_20)\n",
        "# To create the ConfusionMatrix, we need some test data. Score runs predict() on the data\n",
        "# and then creates the confusion_matrix from scikit-learn.\n",
        "print(cm.score(X_test_std_20, y_test_20))\n",
        "\n"
      ]
    },
    {
      "cell_type": "code",
      "execution_count": null,
      "metadata": {
        "colab": {
          "base_uri": "https://localhost:8080/",
          "height": 393
        },
        "id": "mhENgCDYKapl",
        "outputId": "fecd4d79-dc63-4ad9-d608-063001c496df"
      },
      "outputs": [
        {
          "data": {
            "text/plain": [
              "<matplotlib.axes._subplots.AxesSubplot at 0x7f995c592a90>"
            ]
          },
          "execution_count": 86,
          "metadata": {},
          "output_type": "execute_result"
        },
        {
          "data": {
            "image/png": "[encoded data removed]",
            "text/plain": [
              "<Figure size 576x396 with 1 Axes>"
            ]
          },
          "metadata": {},
          "output_type": "display_data"
        }
      ],
      "source": [
        "roc_auc(dt, X_train_std_20, y_train_20, X_test=X_test_std_20, y_test=y_test_20, classes=['1','2','3','4','5','6','7'])"
      ]
    },
    {
      "cell_type": "code",
      "execution_count": null,
      "metadata": {
        "colab": {
          "base_uri": "https://localhost:8080/",
          "height": 368
        },
        "id": "PIPtVMY4Ki1z",
        "outputId": "7768fa5c-a62c-4593-e71e-175518a9d4ce"
      },
      "outputs": [
        {
          "name": "stdout",
          "output_type": "stream",
          "text": [
            "0.9284437167108953\n"
          ]
        },
        {
          "data": {
            "image/png": "[encoded data removed]",
            "text/plain": [
              "<Figure size 576x396 with 2 Axes>"
            ]
          },
          "metadata": {},
          "output_type": "display_data"
        }
      ],
      "source": [
        "visualizer = ClassificationReport(dt)\n",
        "visualizer.fit(X_train_std_20, y_train_20)        # Fit the visualizer and the model\n",
        "print(visualizer.score(X_test_std_20, y_test_20))"
      ]
    },
    {
      "cell_type": "markdown",
      "metadata": {
        "id": "OvhDBxBTLUKY"
      },
      "source": [
        "##SVM Classifier"
      ]
    },
    {
      "cell_type": "code",
      "execution_count": null,
      "metadata": {
        "colab": {
          "base_uri": "https://localhost:8080/",
          "height": 483
        },
        "id": "35sqUYtCLTsS",
        "outputId": "61fbf277-0c15-4339-9014-837e4e988430"
      },
      "outputs": [
        {
          "name": "stderr",
          "output_type": "stream",
          "text": [
            "/usr/local/lib/python3.7/dist-packages/sklearn/utils/deprecation.py:144: FutureWarning: The sklearn.metrics.classification module is  deprecated in version 0.22 and will be removed in version 0.24. The corresponding classes / functions should instead be imported from sklearn.metrics. Anything that cannot be imported from sklearn.metrics is now part of the private API.\n",
            "  warnings.warn(message, FutureWarning)\n",
            "/usr/local/lib/python3.7/dist-packages/sklearn/utils/deprecation.py:144: FutureWarning: The sklearn.datasets.base module is  deprecated in version 0.22 and will be removed in version 0.24. The corresponding classes / functions should instead be imported from sklearn.datasets. Anything that cannot be imported from sklearn.datasets is now part of the private API.\n",
            "  warnings.warn(message, FutureWarning)\n",
            "/usr/local/lib/python3.7/dist-packages/sklearn/svm/_base.py:947: ConvergenceWarning: Liblinear failed to converge, increase the number of iterations.\n",
            "  \"the number of iterations.\", ConvergenceWarning)\n"
          ]
        },
        {
          "name": "stdout",
          "output_type": "stream",
          "text": [
            "0.9823273671729433\n"
          ]
        },
        {
          "data": {
            "image/png": "[encoded data removed]",
            "text/plain": [
              "<Figure size 576x396 with 1 Axes>"
            ]
          },
          "metadata": {},
          "output_type": "display_data"
        }
      ],
      "source": [
        "from keras.utils.np_utils import to_categorical\n",
        "from sklearn.metrics import roc_curve, auc\n",
        "from scipy import interp\n",
        "from sklearn.metrics import roc_auc_score\n",
        "import matplotlib.pyplot as plt\n",
        "from yellowbrick.classifier.rocauc import roc_auc\n",
        "from yellowbrick.datasets import load_credit\n",
        "from sklearn.linear_model import LogisticRegression\n",
        "from sklearn.model_selection import train_test_split\n",
        "from yellowbrick.classifier import ClassificationReport\n",
        "\n",
        "\n",
        "from yellowbrick.classifier import ConfusionMatrix\n",
        "cm = ConfusionMatrix(svm, classes=[1,2,3,4,5,6,7])\n",
        "# Fit fits the passed model. This is unnecessary if you pass the visualizer a pre-fitted model\n",
        "cm.fit(X_train_std_20, y_train_20)\n",
        "# To create the ConfusionMatrix, we need some test data. Score runs predict() on the data\n",
        "# and then creates the confusion_matrix from scikit-learn.\n",
        "print(cm.score(X_test_std_20, y_test_20))\n",
        "\n"
      ]
    },
    {
      "cell_type": "code",
      "execution_count": null,
      "metadata": {
        "colab": {
          "base_uri": "https://localhost:8080/",
          "height": 427
        },
        "id": "YAXFu90-MXr3",
        "outputId": "88c70e2e-e1df-4488-9f88-a7701c1d47a6"
      },
      "outputs": [
        {
          "name": "stderr",
          "output_type": "stream",
          "text": [
            "/usr/local/lib/python3.7/dist-packages/sklearn/svm/_base.py:947: ConvergenceWarning: Liblinear failed to converge, increase the number of iterations.\n",
            "  \"the number of iterations.\", ConvergenceWarning)\n"
          ]
        },
        {
          "data": {
            "text/plain": [
              "<matplotlib.axes._subplots.AxesSubplot at 0x7f995c095e90>"
            ]
          },
          "execution_count": 90,
          "metadata": {},
          "output_type": "execute_result"
        },
        {
          "data": {
            "image/png": "[encoded data removed]",
            "text/plain": [
              "<Figure size 576x396 with 1 Axes>"
            ]
          },
          "metadata": {},
          "output_type": "display_data"
        }
      ],
      "source": [
        "roc_auc(svm, X_train_std_20, y_train_20, X_test=X_test_std_20, y_test=y_test_20, classes=['1','2','3','4','5','6','7'])"
      ]
    },
    {
      "cell_type": "code",
      "execution_count": null,
      "metadata": {
        "colab": {
          "base_uri": "https://localhost:8080/",
          "height": 422
        },
        "id": "9hkLZIp-Mdux",
        "outputId": "1715efdd-e27b-4f0b-d91e-5fa999bd3508"
      },
      "outputs": [
        {
          "name": "stderr",
          "output_type": "stream",
          "text": [
            "/usr/local/lib/python3.7/dist-packages/sklearn/metrics/_classification.py:1272: UndefinedMetricWarning: Precision and F-score are ill-defined and being set to 0.0 in labels with no predicted samples. Use `zero_division` parameter to control this behavior.\n",
            "  _warn_prf(average, modifier, msg_start, len(result))\n"
          ]
        },
        {
          "name": "stdout",
          "output_type": "stream",
          "text": [
            "0.9283872546251859\n"
          ]
        },
        {
          "data": {
            "image/png": "[encoded data removed]",
            "text/plain": [
              "<Figure size 576x396 with 2 Axes>"
            ]
          },
          "metadata": {},
          "output_type": "display_data"
        }
      ],
      "source": [
        "visualizer = ClassificationReport(dt)\n",
        "visualizer.fit(X_train_std_20, y_train_20)        # Fit the visualizer and the model\n",
        "print(visualizer.score(X_test_std_20, y_test_20))"
      ]
    },
    {
      "cell_type": "markdown",
      "metadata": {
        "id": "-l4mYUN7OQJ8"
      },
      "source": [
        "##Xg-Boost"
      ]
    },
    {
      "cell_type": "code",
      "execution_count": null,
      "metadata": {
        "colab": {
          "base_uri": "https://localhost:8080/",
          "height": 361
        },
        "id": "tQDlP_9JOIZB",
        "outputId": "fd7077a4-661f-48c4-9905-58103b0c2e1b"
      },
      "outputs": [
        {
          "name": "stdout",
          "output_type": "stream",
          "text": [
            "0.886341821466885\n"
          ]
        },
        {
          "data": {
            "image/png": "[encoded data removed]",
            "text/plain": [
              "<Figure size 576x396 with 1 Axes>"
            ]
          },
          "metadata": {},
          "output_type": "display_data"
        }
      ],
      "source": [
        "from keras.utils.np_utils import to_categorical\n",
        "from sklearn.metrics import roc_curve, auc\n",
        "from scipy import interp\n",
        "from sklearn.metrics import roc_auc_score\n",
        "import matplotlib.pyplot as plt\n",
        "from yellowbrick.classifier.rocauc import roc_auc\n",
        "from yellowbrick.datasets import load_credit\n",
        "from sklearn.linear_model import LogisticRegression\n",
        "from sklearn.model_selection import train_test_split\n",
        "from yellowbrick.classifier import ClassificationReport\n",
        "\n",
        "\n",
        "from yellowbrick.classifier import ConfusionMatrix\n",
        "cm = ConfusionMatrix(gradinet_boost, classes=[1,2,3,4,5,6,7])\n",
        "# Fit fits the passed model. This is unnecessary if you pass the visualizer a pre-fitted model\n",
        "cm.fit(X_train_std_20, y_train_20)\n",
        "# To create the ConfusionMatrix, we need some test data. Score runs predict() on the data\n",
        "# and then creates the confusion_matrix from scikit-learn.\n",
        "print(cm.score(X_test_std_20, y_test_20))\n",
        "\n"
      ]
    },
    {
      "cell_type": "code",
      "execution_count": null,
      "metadata": {
        "colab": {
          "base_uri": "https://localhost:8080/",
          "height": 393
        },
        "id": "6izdcIqZQS8B",
        "outputId": "7bd4e754-1c0e-41f3-cc12-f7ec09b226c6"
      },
      "outputs": [
        {
          "data": {
            "text/plain": [
              "<matplotlib.axes._subplots.AxesSubplot at 0x7f995c2ef210>"
            ]
          },
          "execution_count": 99,
          "metadata": {},
          "output_type": "execute_result"
        },
        {
          "data": {
            "image/png": "[encoded data removed]",
            "text/plain": [
              "<Figure size 576x396 with 1 Axes>"
            ]
          },
          "metadata": {},
          "output_type": "display_data"
        }
      ],
      "source": [
        "roc_auc(gradinet_boost, X_train_std_20, y_train_20, X_test=X_test_std_20, y_test=y_test_20, classes=['1','2','3','4','5','6','7'])"
      ]
    },
    {
      "cell_type": "code",
      "execution_count": null,
      "metadata": {
        "colab": {
          "base_uri": "https://localhost:8080/",
          "height": 368
        },
        "id": "LhWu5WbpUdwE",
        "outputId": "7e576aa3-26af-4f7e-eda6-bb80980ce996"
      },
      "outputs": [
        {
          "name": "stdout",
          "output_type": "stream",
          "text": [
            "0.886341821466885\n"
          ]
        },
        {
          "data": {
            "image/png": "[encoded data removed]",
            "text/plain": [
              "<Figure size 576x396 with 2 Axes>"
            ]
          },
          "metadata": {},
          "output_type": "display_data"
        }
      ],
      "source": [
        "visualizer = ClassificationReport(gradinet_boost)\n",
        "visualizer.fit(X_train_std_20, y_train_20)        # Fit the visualizer and the model\n",
        "print(visualizer.score(X_test_std_20, y_test_20))"
      ]
    },
    {
      "cell_type": "markdown",
      "metadata": {
        "id": "OamEXRYtaXH_"
      },
      "source": [
        "##Ensemble Learning"
      ]
    },
    {
      "cell_type": "code",
      "execution_count": null,
      "metadata": {
        "colab": {
          "base_uri": "https://localhost:8080/",
          "height": 361
        },
        "id": "EmWaTU8NaWwl",
        "outputId": "ac43509a-c264-4d44-f14f-450dd80ad639"
      },
      "outputs": [
        {
          "name": "stdout",
          "output_type": "stream",
          "text": [
            "0.8560279550059913\n"
          ]
        },
        {
          "data": {
            "image/png": "[encoded data removed]",
            "text/plain": [
              "<Figure size 576x396 with 1 Axes>"
            ]
          },
          "metadata": {},
          "output_type": "display_data"
        }
      ],
      "source": [
        "\n",
        "from keras.utils.np_utils import to_categorical\n",
        "from sklearn.metrics import roc_curve, auc\n",
        "from scipy import interp\n",
        "from sklearn.metrics import roc_auc_score\n",
        "import matplotlib.pyplot as plt\n",
        "from yellowbrick.classifier.rocauc import roc_auc\n",
        "from yellowbrick.datasets import load_credit\n",
        "from sklearn.linear_model import LogisticRegression\n",
        "from sklearn.model_selection import train_test_split\n",
        "from yellowbrick.classifier import ClassificationReport\n",
        "\n",
        "\n",
        "from yellowbrick.classifier import ConfusionMatrix\n",
        "cm = ConfusionMatrix(adaboost, classes=[1,2,3,4,5,6,7,8,9])\n",
        "# Fit fits the passed model. This is unnecessary if you pass the visualizer a pre-fitted model\n",
        "cm.fit(X_train_std_20, y_train_20)\n",
        "# To create the ConfusionMatrix, we need some test data. Score runs predict() on the data\n",
        "# and then creates the confusion_matrix from scikit-learn.\n",
        "print(cm.score(X_test_std_20, y_test_20))\n",
        "\n"
      ]
    },
    {
      "cell_type": "code",
      "execution_count": null,
      "metadata": {
        "colab": {
          "base_uri": "https://localhost:8080/",
          "height": 393
        },
        "id": "0462MyPXcugR",
        "outputId": "3641f68b-aeed-489a-f7b7-9d9405a65f2e"
      },
      "outputs": [
        {
          "data": {
            "text/plain": [
              "<matplotlib.axes._subplots.AxesSubplot at 0x7f995cacb390>"
            ]
          },
          "execution_count": 103,
          "metadata": {},
          "output_type": "execute_result"
        },
        {
          "data": {
            "image/png": "[encoded data removed]",
            "text/plain": [
              "<Figure size 576x396 with 1 Axes>"
            ]
          },
          "metadata": {},
          "output_type": "display_data"
        }
      ],
      "source": [
        "roc_auc(adaboost, X_train_std_20, y_train_20, X_test=X_test_std_20, y_test=y_test_20, classes=['1','2','3','4','5','6','7'])"
      ]
    },
    {
      "cell_type": "code",
      "execution_count": null,
      "metadata": {
        "colab": {
          "base_uri": "https://localhost:8080/",
          "height": 368
        },
        "id": "BBlc6ZYBc1M3",
        "outputId": "52544f7d-eb73-4f7a-af57-25af2a657384"
      },
      "outputs": [
        {
          "name": "stdout",
          "output_type": "stream",
          "text": [
            "0.7679157334738612\n"
          ]
        },
        {
          "data": {
            "image/png": "[encoded data removed]",
            "text/plain": [
              "<Figure size 576x396 with 2 Axes>"
            ]
          },
          "metadata": {},
          "output_type": "display_data"
        }
      ],
      "source": [
        "visualizer = ClassificationReport(adaboost)\n",
        "visualizer.fit(X_train_std_20, y_train_20)        # Fit the visualizer and the model\n",
        "print(visualizer.score(X_test_std_20, y_test_20))"
      ]
    },
    {
      "cell_type": "code",
      "execution_count": null,
      "metadata": {
        "id": "3HSlVFUHs0MM"
      },
      "outputs": [],
      "source": []
    }
  ],
  "metadata": {
    "colab": {
      "name": "FeatureExtraction7thSem.ipynb",
      "provenance": []
    },
    "kernelspec": {
      "display_name": "Python 3",
      "name": "python3"
    },
    "language_info": {
      "name": "python"
    }
  },
  "nbformat": 4,
  "nbformat_minor": 0
}
